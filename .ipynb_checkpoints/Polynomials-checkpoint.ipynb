{
 "cells": [
  {
   "cell_type": "code",
   "execution_count": 15,
   "metadata": {},
   "outputs": [
    {
     "data": {
      "text/plain": [
       "#<STANDARD-CLASS CL-JUPYTER-USER::POLYNOMIAL>"
      ]
     },
     "execution_count": 15,
     "metadata": {},
     "output_type": "execute_result"
    }
   ],
   "source": [
    "(defclass polynomial ()\n",
    "  ((poly :accessor poly\n",
    "         :initform nil\n",
    "         :initarg :poly)\n",
    "   (deg :accessor poly-deg\n",
    "        :initform 0\n",
    "        :initarg :deg)\n",
    "   )\n",
    ")"
   ]
  },
  {
   "cell_type": "code",
   "execution_count": 39,
   "metadata": {},
   "outputs": [
    {
     "name": "stderr",
     "output_type": "stream",
     "text": [
      "REDEFINITION-WITH-DEFUN: \n",
      "  redefining CL-JUPYTER-USER::MAKE-POLYNOMIAL in DEFUN\n"
     ]
    },
    {
     "data": {
      "text/plain": [
       "MAKE-POLYNOMIAL"
      ]
     },
     "execution_count": 39,
     "metadata": {},
     "output_type": "execute_result"
    }
   ],
   "source": [
    ";;; Make a polynomial taking advantage of program = data\n",
    ";;; new polynomial term of the form a * x^b:\n",
    "(defun make-polynomial (a b)\n",
    ";;     (print (append b (cons * a)))\n",
    "     (MAKE-INSTANCE 'polynomial :poly  `(+ (* ,a (expt (x ,b)))) :deg b)\n",
    ")"
   ]
  },
  {
   "cell_type": "code",
   "execution_count": 38,
   "metadata": {},
   "outputs": [
    {
     "name": "stderr",
     "output_type": "stream",
     "text": [
      "TYPE-ERROR: \n",
      "  #<TYPE-ERROR expected-type: LIST datum: 3>\n"
     ]
    },
    {
     "data": {
      "text/plain": [
       "NIL"
      ]
     },
     "execution_count": 38,
     "metadata": {},
     "output_type": "execute_result"
    }
   ],
   "source": [
    ";;;; TEST of make-polynomial\n",
    "(make-polynomial 2 3)"
   ]
  },
  {
   "cell_type": "code",
   "execution_count": 145,
   "metadata": {},
   "outputs": [
    {
     "name": "stderr",
     "output_type": "stream",
     "text": [
      "REDEFINITION-WITH-DEFMETHOD: \n",
      "  redefining DEGREE (#<STANDARD-CLASS CL-JUPYTER-USER::POLYNOMIAL>) in DEFMETHOD\n"
     ]
    },
    {
     "data": {
      "text/plain": [
       "#<STANDARD-METHOD CL-JUPYTER-USER::DEGREE (POLYNOMIAL) {100500FBA3}>"
      ]
     },
     "execution_count": 145,
     "metadata": {},
     "output_type": "execute_result"
    }
   ],
   "source": [
    "(defmethod degree ((p polynomial))\n",
    "    (labels ( (degree-1 (poly max)\n",
    ";;                         (print poly)\n",
    ";;                         (format t \"~C max: ~d calc: ~d \" #\\linefeed max (cadadr (caddar poly) ))\n",
    "                (cond  ( (null poly) max ) \n",
    "                        ( (> (cadadr (caddar poly)) max) (degree-1 (cdr poly) (cadadr (caddar poly))) )\n",
    "                        (t (degree-1 (cdr poly) max))\n",
    "                )\n",
    "               )\n",
    "             )\n",
    "            (degree-1 (cdr (slot-value p 'poly)) 0)\n",
    "     )\n",
    "    \n",
    "    \n",
    "    )"
   ]
  },
  {
   "cell_type": "code",
   "execution_count": 146,
   "metadata": {},
   "outputs": [
    {
     "name": "stdout",
     "output_type": "stream",
     "text": [
      "\n",
      "3 \n",
      "7 \n",
      "10 "
     ]
    },
    {
     "data": {
      "text/plain": [
       "10"
      ]
     },
     "execution_count": 146,
     "metadata": {},
     "output_type": "execute_result"
    }
   ],
   "source": [
    ";;; TESTs of degree\n",
    "(let ( (t1 (MAKE-INSTANCE 'polynomial :poly  '(+ (* 1 (expt (x 1))) (* 2 (expt (x 2))) (* 3 (expt (x 3)))) :deg 3)) \n",
    "       (t2 (MAKE-INSTANCE 'polynomial :poly  '(+ (* 1 (expt (x 1))) (* 2 (expt (x 7))) (* 3 (expt (x 3)))) :deg 3)) \n",
    "       (t3 (MAKE-INSTANCE 'polynomial :poly  '(+ (* 1 (expt (x 10))) (* 2 (expt (x 2))) (* 3 (expt (x 3)))) :deg 3)) \n",
    "      )\n",
    "     ( print (degree t1))\n",
    "     ( print (degree t2))\n",
    "     ( print (degree t3))\n",
    "     \n",
    "     )"
   ]
  },
  {
   "cell_type": "code",
   "execution_count": 204,
   "metadata": {},
   "outputs": [
    {
     "name": "stderr",
     "output_type": "stream",
     "text": [
      "LOCAL-ARGUMENT-MISMATCH: \n",
      "function called with four arguments, but wants exactly three\n",
      "REDEFINITION-WITH-DEFMETHOD: \n",
      "  redefining PRINT-OBJECT (#<STANDARD-CLASS CL-JUPYTER-USER::POLYNOMIAL>\n",
      "                           #<SB-PCL:SYSTEM-CLASS COMMON-LISP:T>) in DEFMETHOD\n"
     ]
    },
    {
     "data": {
      "text/plain": [
       "#<STANDARD-METHOD COMMON-LISP:PRINT-OBJECT (POLYNOMIAL T) {10054C0C63}>"
      ]
     },
     "execution_count": 204,
     "metadata": {},
     "output_type": "execute_result"
    }
   ],
   "source": [
    "(defmethod print-object ((poly polynomial) out)\n",
    "    (labels ((to-string (stack poly term res )\n",
    "                (print \"------------------------------------\")\n",
    "                (print stack)\n",
    ";;                 (print poly)\n",
    "                (print (atom (car term) ))\n",
    "                (cond \n",
    "                      ((null stack) (to-string (caar poly) (cdr poly ) (cdar poly) res ))\n",
    "                      ((null term) (print \"term nil\"))\n",
    "                      ((atom (car term)) (to-string (push (car term) stack) poly (cdr term) res )  )\n",
    "                      \n",
    "                      (t (to-string '() poly '() (to-string-1 (to-string (push (caar term) stack) poly (cdar term))  ) ))\n",
    ";;                       (t (print \"Finished\"))\n",
    "                 )\n",
    "            \n",
    ";;               (push (pop poly) stack)\n",
    ";;                         (print stack)\n",
    "              )\n",
    "              (to-string-1 (stack)\n",
    "                           (print \"THE STACK IS:\")\n",
    "                           (print stack))\n",
    "             )\n",
    "            ;;     (format out \"~d\" (to-string poly) )\n",
    "            (to-string '() (cdr (slot-value poly 'poly) ) nil \"\")\n",
    "     )\n",
    "    \n",
    "    \n",
    "\n",
    "      \n",
    "    )"
   ]
  },
  {
   "cell_type": "code",
   "execution_count": 206,
   "metadata": {},
   "outputs": [
    {
     "name": "stdout",
     "output_type": "stream",
     "text": [
      "\n",
      "\n",
      "\"------------------------------------\" \n",
      "NIL \n",
      "T \n",
      "\"------------------------------------\" \n",
      "* \n",
      "T \n",
      "\"------------------------------------\" \n",
      "(5 . *) \n",
      "NIL \n",
      "\"------------------------------------\" \n",
      "(EXPT 5 . *) \n",
      "NIL \n",
      "\"------------------------------------\" \n",
      "(X EXPT 5 . *) \n",
      "T \n",
      "\"------------------------------------\" \n",
      "(1 X EXPT 5 . *) \n",
      "T \n",
      "\"term nil\" \n",
      "\"THE STACK IS:\" \n",
      "\"term nil\" "
     ]
    },
    {
     "name": "stderr",
     "output_type": "stream",
     "text": [
      "SIMPLE-STYLE-WARNING: \n",
      "  The variable T2 is defined but never used.\n",
      "SIMPLE-STYLE-WARNING: \n",
      "  The variable T3 is defined but never used.\n",
      "SIMPLE-PROGRAM-ERROR: \n",
      "(LABELS TO-STRING :IN PRINT-OBJECT) called with invalid number of arguments: 4\n"
     ]
    },
    {
     "data": {
      "text/plain": [
       "NIL"
      ]
     },
     "execution_count": 206,
     "metadata": {},
     "output_type": "execute_result"
    }
   ],
   "source": [
    "(let ( (t1 (MAKE-INSTANCE 'polynomial :poly  '(+ (* 5 (expt (x 1))) (* 2 (expt (x 2))) (* 3 (expt (x 3)))) :deg 3)) \n",
    "       (t2 (MAKE-INSTANCE 'polynomial :poly  '(+ (* 1 (expt (x 1))) (* 2 (expt (x 7))) (* 3 (expt (x 3)))) :deg 3)) \n",
    "       (t3 (MAKE-INSTANCE 'polynomial :poly  '(+ (* 1 (expt (x 10))) (* 2 (expt (x 2))) (* 3 (expt (x 3)))) :deg 3)) \n",
    "      )\n",
    "     ( print t1)\n",
    ";;      ( print t2)\n",
    ";;      ( print t3)\n",
    "     \n",
    "     )"
   ]
  },
  {
   "cell_type": "code",
   "execution_count": null,
   "metadata": {},
   "outputs": [],
   "source": [
    "(defvar *zero*)\n",
    "(defvar *p1*)\n",
    "(defvar *p2*)\n",
    "(defvar *p3*)\n",
    "(defvar *p4*)\n",
    "\n",
    "(defvar *test*)\n",
    "\n",
    "(setq *zero* (make-polynomial 0 0))\n",
    "(setq *p1* (make-polynomial 4 3))\n",
    "(setq *p2* (make-polynomial 3 2))\n",
    "(setq *p3* (make-polynomial 1 0))\n",
    "(setq *p4* (make-polynomial 2 1))\n",
    "\n",
    "(setq *test* (make-polynomial 5 5))\n",
    ";; (make-polynomial 4 3)"
   ]
  },
  {
   "cell_type": "code",
   "execution_count": null,
   "metadata": {},
   "outputs": [],
   "source": []
  }
 ],
 "metadata": {
  "kernelspec": {
   "display_name": "SBCL Lisp",
   "language": "lisp",
   "name": "lisp"
  },
  "language_info": {
   "codemirror_mode": "text/x-common-lisp",
   "mimetype": "text/x-common-lisp",
   "name": "common-lisp",
   "pygments_lexer": "common-lisp",
   "version": "X3J13"
  }
 },
 "nbformat": 4,
 "nbformat_minor": 2
}
