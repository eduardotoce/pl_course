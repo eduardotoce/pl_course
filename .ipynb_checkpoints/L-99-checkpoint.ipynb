{
 "cells": [
  {
   "cell_type": "code",
   "execution_count": 16,
   "metadata": {},
   "outputs": [
    {
     "name": "stderr",
     "output_type": "stream",
     "text": [
      "REDEFINITION-WITH-DEFUN: \n",
      "  redefining CL-JUPYTER-USER::ELEMENT-AT in DEFUN\n",
      "\n",
      "REDEFINITION-WITH-DEFUN: \n",
      "  redefining CL-JUPYTER-USER::ELEMENT-AT-1 in DEFUN\n"
     ]
    },
    {
     "data": {
      "text/plain": [
       "NIL"
      ]
     },
     "execution_count": 16,
     "metadata": {},
     "output_type": "execute_result"
    }
   ],
   "source": [
    ";;; P03\n",
    "\n",
    "(defun element-at (li at)\n",
    "    (element-at-1 li at 0)\n",
    "    )\n",
    "(defun element-at-1 (li at i)\n",
    "    ;(= at i)\n",
    "    (if (= at i)\n",
    "        (car li)\n",
    "        (element-at-1 (cdr li) at (+ i 1) )\n",
    "    )\n",
    ")\n",
    "(element-at '(a b c d e) 13)"
   ]
  },
  {
   "cell_type": "code",
   "execution_count": 19,
   "metadata": {},
   "outputs": [
    {
     "name": "stderr",
     "output_type": "stream",
     "text": [
      "REDEFINITION-WITH-DEFUN: \n",
      "  redefining CL-JUPYTER-USER::LEN_LIST in DEFUN\n",
      "\n",
      "REDEFINITION-WITH-DEFUN: \n",
      "  redefining CL-JUPYTER-USER::LEN-LIST-1 in DEFUN\n"
     ]
    },
    {
     "data": {
      "text/plain": [
       "5"
      ]
     },
     "execution_count": 19,
     "metadata": {},
     "output_type": "execute_result"
    }
   ],
   "source": [
    ";;; P04\n",
    "\n",
    "(defun len_list (li) \n",
    "    (len-list-1 li 0 )\n",
    ")\n",
    "(defun len-list-1 (li i)\n",
    "    (if (null li)\n",
    "        i\n",
    "        (len-list-1 (cdr li) (+ i 1))\n",
    "    )\n",
    ")\n",
    "(len_list '(a b c d e) )"
   ]
  },
  {
   "cell_type": "code",
   "execution_count": 25,
   "metadata": {},
   "outputs": [
    {
     "name": "stderr",
     "output_type": "stream",
     "text": [
      "SIMPLE-WARNING: \n",
      "undefined variable: REV-LIST-GARY-1\n",
      "\n",
      "REDEFINITION-WITH-DEFUN: \n",
      "  redefining CL-JUPYTER-USER::REV-LIST-GARY in DEFUN\n",
      "\n",
      "REDEFINITION-WITH-DEFUN: \n",
      "  redefining CL-JUPYTER-USER::REV-LIST-GARY-1 in DEFUN\n",
      "\n",
      "UNBOUND-VARIABLE: \n",
      "  #<UNBOUND-VARIABLE REV-LIST-GARY-1 {1006C39CE3}>\n"
     ]
    },
    {
     "data": {
      "text/plain": [
       "NIL"
      ]
     },
     "execution_count": 25,
     "metadata": {},
     "output_type": "execute_result"
    }
   ],
   "source": [
    ";;; P05\n",
    "(defun rev-list-gary (li)\n",
    "    rev-list-gary-1 li '())\n",
    "\n",
    "(defun rev-list-gary-1 (old new)\n",
    "    (print old)\n",
    "    (if (null old)\n",
    "        new\n",
    "     ;   ( \n",
    "        (print new)\n",
    "           ; (cons (car old) new )\n",
    "       ;   (rev-list-gary-1 (cdr old) new )\n",
    "      ;   )\n",
    "    )\n",
    ")\n",
    "(rev-list-gary '(a b c d e))"
   ]
  },
  {
   "cell_type": "code",
   "execution_count": null,
   "metadata": {},
   "outputs": [],
   "source": []
  }
 ],
 "metadata": {
  "kernelspec": {
   "display_name": "SBCL Lisp",
   "language": "lisp",
   "name": "lisp"
  },
  "language_info": {
   "codemirror_mode": "text/x-common-lisp",
   "mimetype": "text/x-common-lisp",
   "name": "common-lisp",
   "pygments_lexer": "common-lisp",
   "version": "X3J13"
  }
 },
 "nbformat": 4,
 "nbformat_minor": 2
}
