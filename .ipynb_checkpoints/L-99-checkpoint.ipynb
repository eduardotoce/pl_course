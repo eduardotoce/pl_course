{
 "cells": [
  {
   "cell_type": "code",
   "execution_count": 16,
   "metadata": {},
   "outputs": [
    {
     "name": "stderr",
     "output_type": "stream",
     "text": [
      "REDEFINITION-WITH-DEFUN: \n",
      "  redefining CL-JUPYTER-USER::ELEMENT-AT in DEFUN\n",
      "\n",
      "REDEFINITION-WITH-DEFUN: \n",
      "  redefining CL-JUPYTER-USER::ELEMENT-AT-1 in DEFUN\n"
     ]
    },
    {
     "data": {
      "text/plain": [
       "NIL"
      ]
     },
     "execution_count": 16,
     "metadata": {},
     "output_type": "execute_result"
    }
   ],
   "source": [
    ";;; P03\n",
    "\n",
    "(defun element-at (li at)\n",
    "    (element-at-1 li at 0)\n",
    "    )\n",
    "(defun element-at-1 (li at i)\n",
    "    ;(= at i)\n",
    "    (if (= at i)\n",
    "        (car li)\n",
    "        (element-at-1 (cdr li) at (+ i 1) )\n",
    "    )\n",
    ")\n",
    "(element-at '(a b c d e) 13)"
   ]
  },
  {
   "cell_type": "code",
   "execution_count": 19,
   "metadata": {},
   "outputs": [
    {
     "name": "stderr",
     "output_type": "stream",
     "text": [
      "REDEFINITION-WITH-DEFUN: \n",
      "  redefining CL-JUPYTER-USER::LEN_LIST in DEFUN\n",
      "\n",
      "REDEFINITION-WITH-DEFUN: \n",
      "  redefining CL-JUPYTER-USER::LEN-LIST-1 in DEFUN\n"
     ]
    },
    {
     "data": {
      "text/plain": [
       "5"
      ]
     },
     "execution_count": 19,
     "metadata": {},
     "output_type": "execute_result"
    }
   ],
   "source": [
    ";;; P04\n",
    "\n",
    "(defun len_list (li) \n",
    "    (len-list-1 li 0 )\n",
    ")\n",
    "(defun len-list-1 (li i)\n",
    "    (if (null li)\n",
    "        i\n",
    "        (len-list-1 (cdr li) (+ i 1))\n",
    "    )\n",
    ")\n",
    "(len_list '(a b c d e) )"
   ]
  },
  {
   "cell_type": "code",
   "execution_count": 43,
   "metadata": {},
   "outputs": [
    {
     "name": "stderr",
     "output_type": "stream",
     "text": [
      "REDEFINITION-WITH-DEFUN: \n",
      "  redefining CL-JUPYTER-USER::REV-LIST-GARY in DEFUN\n",
      "\n",
      "REDEFINITION-WITH-DEFUN: \n",
      "  redefining CL-JUPYTER-USER::REV-LIST-GARY-1 in DEFUN\n"
     ]
    },
    {
     "data": {
      "text/plain": [
       "(E D C B A)"
      ]
     },
     "execution_count": 43,
     "metadata": {},
     "output_type": "execute_result"
    }
   ],
   "source": [
    ";;; P05\n",
    "(defun rev-list-gary (li)\n",
    "    (rev-list-gary-1 li '() )\n",
    ")\n",
    "\n",
    "(defun rev-list-gary-1 (old new)\n",
    "    ;(print old)\n",
    "    (if (null old)\n",
    "        new\n",
    "         ( rev-list-gary-1 (cdr old) ( cons (car old) new)  )    \n",
    "    )\n",
    ")\n",
    ";(print (cons 1 2) )\n",
    "(rev-list-gary '(a b c d e))"
   ]
  },
  {
   "cell_type": "code",
   "execution_count": 45,
   "metadata": {},
   "outputs": [
    {
     "name": "stderr",
     "output_type": "stream",
     "text": [
      "REDEFINITION-WITH-DEFUN: \n",
      "  redefining CL-JUPYTER-USER::ES-PALINDROMO in DEFUN\n"
     ]
    },
    {
     "data": {
      "text/plain": [
       "T"
      ]
     },
     "execution_count": 45,
     "metadata": {},
     "output_type": "execute_result"
    }
   ],
   "source": [
    "(defun es-palindromo (li)\n",
    "    (equal li (rev-list-gary li ))\n",
    "    )\n",
    "\n",
    "(es-palindromo '(a b c b a))"
   ]
  },
  {
   "cell_type": "code",
   "execution_count": 192,
   "metadata": {},
   "outputs": [
    {
     "name": "stderr",
     "output_type": "stream",
     "text": [
      "REDEFINITION-WITH-DEFUN: \n",
      "  redefining CL-JUPYTER-USER::MY-FLATTEN in DEFUN\n",
      "\n",
      "SIMPLE-WARNING: \n",
      "undefined variable: AUX\n",
      "\n",
      "REDEFINITION-WITH-DEFUN: \n",
      "  redefining CL-JUPYTER-USER::MY-FLATTEN-1 in DEFUN\n"
     ]
    },
    {
     "data": {
      "text/plain": [
       "(A B C D E)"
      ]
     },
     "execution_count": 192,
     "metadata": {},
     "output_type": "execute_result"
    }
   ],
   "source": [
    ";;; P07\n",
    "(defun my-flatten (li)\n",
    "    (my-flatten-1 (car li) (cdr li) '() )\n",
    ")\n",
    "\n",
    "(defun my-flatten-1 (head tail new)\n",
    "    ;(print new)\n",
    "    (if (atom head)\n",
    "        (setq aux (cons head new))\n",
    "        (my-flatten-1 (car head) (cdr head) new )\n",
    "    )\n",
    "    (if (null tail)\n",
    "        (rev-list-gary aux)\n",
    "        (my-flatten-1 (car tail) (cdr tail) aux )\n",
    "    )\n",
    ")\n",
    "\n",
    ";(print ( atom '(a) ) )\n",
    "(my-flatten '(a (b (c d) e)))"
   ]
  },
  {
   "cell_type": "code",
   "execution_count": 134,
   "metadata": {
    "scrolled": false
   },
   "outputs": [
    {
     "name": "stderr",
     "output_type": "stream",
     "text": [
      "REDEFINITION-WITH-DEFUN: \n",
      "  redefining CL-JUPYTER-USER::COMPRESS-GARY in DEFUN\n",
      "\n",
      "REDEFINITION-WITH-DEFUN: \n",
      "  redefining CL-JUPYTER-USER::COMPRESS-GARY-1 in DEFUN\n"
     ]
    },
    {
     "data": {
      "text/plain": [
       "(A B C A D E)"
      ]
     },
     "execution_count": 134,
     "metadata": {},
     "output_type": "execute_result"
    }
   ],
   "source": [
    ";;; P08\n",
    "(defun compress-gary (li)\n",
    "    (compress-gary-1 (cdr li) (car li) '() )\n",
    ")\n",
    "(defun compress-gary-1 (li last new)\n",
    "    ;(print last)\n",
    "    (cond   \n",
    "            ( (null (car li) ) (rev-list-gary (cons last new ) ))\n",
    "            ( (eql last (car li)) (compress-gary-1 (cdr li) (car li) new  ) )\n",
    "            ;( (eql (last (car li))) (print \"other? \")) ;(compress-gary-1 (cdr li) (car li) new ))\n",
    "            (T (compress-gary-1 (cdr li) (car li) (cons last new ) ))\n",
    "    )\n",
    ")\n",
    "\n",
    "(compress-gary '(a a a a b c c a a d e e e e))"
   ]
  },
  {
   "cell_type": "code",
   "execution_count": 150,
   "metadata": {},
   "outputs": [
    {
     "name": "stderr",
     "output_type": "stream",
     "text": [
      "REDEFINITION-WITH-DEFUN: \n",
      "  redefining CL-JUPYTER-USER::PACK-REP in DEFUN\n",
      "\n",
      "REDEFINITION-WITH-DEFUN: \n",
      "  redefining CL-JUPYTER-USER::PACK-REP-1 in DEFUN\n"
     ]
    },
    {
     "data": {
      "text/plain": [
       "((A A A A) (B) (C C) (A A) (D) (E E E E))"
      ]
     },
     "execution_count": 150,
     "metadata": {},
     "output_type": "execute_result"
    }
   ],
   "source": [
    ";;; P09\n",
    "(defun pack-rep (li)\n",
    "    (pack-rep-1 li '() '())\n",
    ")\n",
    "\n",
    "(defun pack-rep-1 (li res sub-res)\n",
    "    \n",
    "    (cond   ( (null (car li)) ( rev-list-gary res ) )\n",
    "            ( (eql (first li) (second li)) (pack-rep-1 (cdr li) res (cons (first li) sub-res) ) )\n",
    "            ( t  (pack-rep-1 (cdr li) (cons (cons (first li) sub-res ) res) '() ) )\n",
    "    )\n",
    ")\n",
    "\n",
    "(pack-rep '(a a a a b c c a a d e e e e))"
   ]
  },
  {
   "cell_type": "code",
   "execution_count": 189,
   "metadata": {},
   "outputs": [
    {
     "name": "stderr",
     "output_type": "stream",
     "text": [
      "REDEFINITION-WITH-DEFUN: \n",
      "  redefining CL-JUPYTER-USER::ENCODE in DEFUN\n",
      "\n",
      "REDEFINITION-WITH-DEFUN: \n",
      "  redefining CL-JUPYTER-USER::ENCODE-1 in DEFUN\n"
     ]
    },
    {
     "data": {
      "text/plain": [
       "((4 . A) (1 . B) (2 . C) (2 . A) (1 . D) (4 . E))"
      ]
     },
     "execution_count": 189,
     "metadata": {},
     "output_type": "execute_result"
    }
   ],
   "source": [
    ";;; P10\n",
    "(defun encode (li)\n",
    "    (encode-1 li '() 1)\n",
    ")\n",
    "\n",
    "(defun encode-1 (li res val)\n",
    "    \n",
    "    (cond   ( (null (car li)) ( rev-list-gary res ) )\n",
    "            ( (eql (first li) (second li)) (encode-1 (cdr li) res (+ val 1) ) )\n",
    "            ( t  (encode-1 (cdr li) (cons (cons val (first li)) res) 1 ) )\n",
    "    )\n",
    ")\n",
    "\n",
    "(encode '(a a a a b c c a a d e e e e))"
   ]
  },
  {
   "cell_type": "code",
   "execution_count": 193,
   "metadata": {},
   "outputs": [
    {
     "name": "stderr",
     "output_type": "stream",
     "text": [
      "REDEFINITION-WITH-DEFUN: \n",
      "  redefining CL-JUPYTER-USER::DECODE in DEFUN\n",
      "\n",
      "REDEFINITION-WITH-DEFUN: \n",
      "  redefining CL-JUPYTER-USER::DECODE-1 in DEFUN\n",
      "\n",
      "REDEFINITION-WITH-DEFUN: \n",
      "  redefining CL-JUPYTER-USER::GET-VAL in DEFUN\n"
     ]
    },
    {
     "data": {
      "text/plain": [
       "(A A A A B C C A A D E E E E)"
      ]
     },
     "execution_count": 193,
     "metadata": {},
     "output_type": "execute_result"
    }
   ],
   "source": [
    ";;; P12\n",
    "\n",
    "(defun decode (li)\n",
    "    (decode-1 li '() (get-val (car li)) '() )\n",
    ")\n",
    "\n",
    "(defun decode-1 (li res val sub-res)\n",
    "    (cond   ( (null (car li )) (my-flatten (rev-list-gary res) ) )\n",
    "            ( (atom (first li)) (decode-1 (cdr li) (cons (first li) res) (get-val (second li) ) '() ) )\n",
    "            ( (eql val 0) (decode-1 (cdr li) (cons sub-res res ) (get-val (car li) ) '()  ) )\n",
    "            ( (> val 0 ) (decode-1 li res (- val 1) (cons (cadar li) sub-res )  ) )\n",
    "            ( t (print \"Error!!\"))\n",
    "    )\n",
    ")\n",
    "\n",
    "(defun get-val (e)\n",
    "    ;(print (atom e))\n",
    "    (cond   ( (atom e) -1 ) \n",
    "            (t (car e) )\n",
    "    )\n",
    ")\n",
    "\n",
    ";(get-val '(4 A))\n",
    ";(get-val  (car '(B)))\n",
    ";(car '((4 A) B (2 C) (2 A) D (4 E)))\n",
    "(decode '((4 A) B (2 C) (2 A) D (4 E)))"
   ]
  },
  {
   "cell_type": "code",
   "execution_count": 152,
   "metadata": {},
   "outputs": [
    {
     "name": "stderr",
     "output_type": "stream",
     "text": [
      "REDEFINITION-WITH-DEFUN: \n",
      "  redefining CL-JUPYTER-USER::ENCODE-MOD in DEFUN\n",
      "\n",
      "REDEFINITION-WITH-DEFUN: \n",
      "  redefining CL-JUPYTER-USER::ENCODE-MOD-1 in DEFUN\n"
     ]
    },
    {
     "data": {
      "text/plain": [
       "((4 . A) B (2 . C) (2 . A) D (4 . E))"
      ]
     },
     "execution_count": 152,
     "metadata": {},
     "output_type": "execute_result"
    }
   ],
   "source": [
    ";;; P13\n",
    "(defun encode-mod (li)\n",
    "    (encode-mod-1 li '() 1)\n",
    ")\n",
    "\n",
    "(defun encode-mod-1 (li res val)\n",
    "    \n",
    "    (cond   ( (null (car li)) ( rev-list-gary res ) )\n",
    "            ( (eql (first li) (second li)) (encode-mod-1 (cdr li) res (+ val 1) ) )\n",
    "            ( (eql val 1) (encode-mod-1 (cdr li) (cons (first li) res) 1  ))\n",
    "            ( t  (encode-mod-1 (cdr li) (cons (cons val (first li)) res) 1 ) )\n",
    "    )\n",
    ")\n",
    "\n",
    "(encode-mod '(a a a a b c c a a d e e e e))"
   ]
  },
  {
   "cell_type": "code",
   "execution_count": 205,
   "metadata": {},
   "outputs": [
    {
     "name": "stderr",
     "output_type": "stream",
     "text": [
      "REDEFINITION-WITH-DEFUN: \n",
      "  redefining CL-JUPYTER-USER::DUPLI in DEFUN\n",
      "\n",
      "REDEFINITION-WITH-DEFUN: \n",
      "  redefining CL-JUPYTER-USER::DUPLI-1 in DEFUN\n"
     ]
    },
    {
     "data": {
      "text/plain": [
       "(A A B B C C C C D D)"
      ]
     },
     "execution_count": 205,
     "metadata": {},
     "output_type": "execute_result"
    }
   ],
   "source": [
    ";;; P14\n",
    "(defun dupli (li)\n",
    "    (dupli-1 li '())\n",
    ")\n",
    "\n",
    "(defun dupli-1 (li res)\n",
    "    (cond   ( (null (car li))  (rev-list-gary res) )\n",
    "            (t (dupli-1 (cdr li) (cons (car li) (cons (car li) res) ) ) )\n",
    "    )\n",
    ")\n",
    "\n",
    "(dupli '(a b c c d))"
   ]
  },
  {
   "cell_type": "code",
   "execution_count": 224,
   "metadata": {},
   "outputs": [
    {
     "name": "stderr",
     "output_type": "stream",
     "text": [
      "REDEFINITION-WITH-DEFUN: \n",
      "  redefining CL-JUPYTER-USER::REPLI in DEFUN\n",
      "\n",
      "REDEFINITION-WITH-DEFUN: \n",
      "  redefining CL-JUPYTER-USER::REPLI-1 in DEFUN\n"
     ]
    },
    {
     "data": {
      "text/plain": [
       "(A A A B B B C C C)"
      ]
     },
     "execution_count": 224,
     "metadata": {},
     "output_type": "execute_result"
    }
   ],
   "source": [
    ";;; P15\n",
    "(defun repli (li val)\n",
    "    (repli-1 li val '() val) \n",
    ")\n",
    "(defun repli-1 (li cont res val)\n",
    "    (cond   ( (null (car li)) res)\n",
    "            ( (> cont 0) (repli-1 li (- cont 1) (append res (cons (car li) '())) val) ) \n",
    "            ( (= cont 0) (repli-1 (cdr li) val res val ))\n",
    "            (t (print \"error\"))\n",
    "        \n",
    "    )\n",
    "    \n",
    ")\n",
    "\n",
    ";(append '(z a)  '(b c d))\n",
    " ;(append '(b c d) 'a)\n",
    "(repli '(a b c) 3)"
   ]
  },
  {
   "cell_type": "code",
   "execution_count": 229,
   "metadata": {},
   "outputs": [
    {
     "name": "stderr",
     "output_type": "stream",
     "text": [
      "REDEFINITION-WITH-DEFUN: \n",
      "  redefining CL-JUPYTER-USER::DROP in DEFUN\n",
      "\n",
      "REDEFINITION-WITH-DEFUN: \n",
      "  redefining CL-JUPYTER-USER::DROP-1 in DEFUN\n"
     ]
    },
    {
     "data": {
      "text/plain": [
       "(A B D E F G H I K)"
      ]
     },
     "execution_count": 229,
     "metadata": {},
     "output_type": "execute_result"
    }
   ],
   "source": [
    ";;; P16\n",
    "\n",
    "(defun drop (li index)\n",
    "   (drop-1 li index '() 1)\n",
    ")\n",
    "\n",
    "(defun drop-1 (li index res i)\n",
    "    (cond   ( (null (car li) ) res)\n",
    "            ( (< i index) (drop-1 (cdr li) index (append res (cons (car li) '())) (+ i 1)) )\n",
    "            ( (= i index) (drop-1 (cdr li) index res (+ i 1)) )\n",
    "            ( t (drop-1 (cdr li) index (append res (cons (car li) '())) (+ i 1)) )\n",
    "    )\n",
    ")\n",
    "\n",
    "(drop '(a b c d e f g h i k) 3)"
   ]
  },
  {
   "cell_type": "code",
   "execution_count": 249,
   "metadata": {},
   "outputs": [
    {
     "name": "stderr",
     "output_type": "stream",
     "text": [
      "REDEFINITION-WITH-DEFUN: \n",
      "  redefining CL-JUPYTER-USER::SPLIT in DEFUN\n",
      "\n",
      "REDEFINITION-WITH-DEFUN: \n",
      "  redefining CL-JUPYTER-USER::SPLIT-1 in DEFUN\n"
     ]
    },
    {
     "data": {
      "text/plain": [
       "((A B C) (D E F G H I K))"
      ]
     },
     "execution_count": 249,
     "metadata": {},
     "output_type": "execute_result"
    }
   ],
   "source": [
    ";;; P17\n",
    "(defun split (li index)\n",
    "    (split-1 li index '() 1)\n",
    ")\n",
    "(defun split-1 (li index res i)\n",
    "    (cond   \n",
    "            ( (<= i index) (split-1 (cdr li) index (cons (append (car res) (cons (car li) '())) '()) (+ i 1)) )\n",
    "            ( t  (append res (cons li '()) ) )\n",
    "    )\n",
    "    \n",
    "    )\n",
    "\n",
    "\n",
    "(split '(a b c d e f g h i k) 3)"
   ]
  },
  {
   "cell_type": "code",
   "execution_count": 254,
   "metadata": {},
   "outputs": [
    {
     "name": "stderr",
     "output_type": "stream",
     "text": [
      "REDEFINITION-WITH-DEFUN: \n",
      "  redefining CL-JUPYTER-USER::SLICE in DEFUN\n",
      "\n",
      "REDEFINITION-WITH-DEFUN: \n",
      "  redefining CL-JUPYTER-USER::SLICE-1 in DEFUN\n"
     ]
    },
    {
     "data": {
      "text/plain": [
       "(C D E F G)"
      ]
     },
     "execution_count": 254,
     "metadata": {},
     "output_type": "execute_result"
    }
   ],
   "source": [
    ";;; P18\n",
    "(defun slice (li min max) \n",
    "    (slice-1 li min max 1 '() )\n",
    ")\n",
    "\n",
    "(defun slice-1 (li min max i res)\n",
    "    (cond   ( (< i min )(slice-1 (cdr li) min max (+ i 1) res))\n",
    "            ( (> i max ) res )\n",
    "            (t (slice-1 (cdr li) min max (+ i 1) (append res (cons (car li) '() ))) )\n",
    "              \n",
    "    )\n",
    "    \n",
    ")\n",
    "\n",
    "\n",
    "(slice '(a b c d e f g h i k) 3 7)\n",
    ";(C D E F G)"
   ]
  },
  {
   "cell_type": "code",
   "execution_count": 22,
   "metadata": {},
   "outputs": [
    {
     "name": "stderr",
     "output_type": "stream",
     "text": [
      "SIMPLE-STYLE-WARNING: \n",
      "  undefined function: ROTATE-1\n",
      "SIMPLE-WARNING: \n",
      "undefined variable: AUX\n",
      "SIMPLE-STYLE-WARNING: \n",
      "  undefined function: SPLIT\n",
      "UNDEFINED-FUNCTION: \n",
      "  #<UNDEFINED-FUNCTION SPLIT {1002C5B623}>\n"
     ]
    },
    {
     "data": {
      "text/plain": [
       "NIL"
      ]
     },
     "execution_count": 22,
     "metadata": {},
     "output_type": "execute_result"
    }
   ],
   "source": [
    ";;;P19\n",
    "(defun rotate (li val)\n",
    "    (rotate-1 li val)\n",
    ")\n",
    "\n",
    "(defun rotate-1 (li val)\n",
    "    (cond ((>= val 0) (setq aux (split li val) ) )\n",
    "            (t (setq aux (split li (+ (length li) val ))) )\n",
    "        \n",
    "    )\n",
    "    \n",
    "    (append (cadr aux) (car aux))\n",
    "    \n",
    ")\n",
    "\n",
    ";(rotate '(a b c d e f g h) 3) \n",
    ";(D E F G H A B C)\n",
    "\n",
    "(rotate '(a b c d e f g h) -2)\n",
    ";(G H A B C D E F)"
   ]
  },
  {
   "cell_type": "code",
   "execution_count": 13,
   "metadata": {},
   "outputs": [
    {
     "name": "stderr",
     "output_type": "stream",
     "text": [
      "REDEFINITION-WITH-DEFUN: \n",
      "  redefining CL-JUPYTER-USER::FACT-NO-REV in DEFUN\n",
      "SIMPLE-WARNING: \n",
      "FACT-NO-REV is already TRACE'd, untracing it first.\n"
     ]
    },
    {
     "data": {
      "text/plain": [
       "120"
      ]
     },
     "execution_count": 13,
     "metadata": {},
     "output_type": "execute_result"
    }
   ],
   "source": [
    ";;; fact\n",
    "\n",
    "(defun fact-no-tail(n)\n",
    "    (if (= n 1)\n",
    "        1\n",
    "    (* n (fact-no-tail (- n 1) ) )\n",
    "        )\n",
    "    )\n",
    "\n",
    "(trace fact-no-tail)\n",
    "(fact-no-tail 5)"
   ]
  },
  {
   "cell_type": "code",
   "execution_count": 20,
   "metadata": {},
   "outputs": [
    {
     "name": "stderr",
     "output_type": "stream",
     "text": [
      "REDEFINITION-WITH-DEFUN: \n",
      "  redefining CL-JUPYTER-USER::FACT-TAIL in DEFUN\n",
      "REDEFINITION-WITH-DEFUN: \n",
      "  redefining CL-JUPYTER-USER::FACT-TAIL-1 in DEFUN\n"
     ]
    },
    {
     "data": {
      "text/plain": [
       "120"
      ]
     },
     "execution_count": 20,
     "metadata": {},
     "output_type": "execute_result"
    }
   ],
   "source": [
    ";;; fact tail\n",
    "(defun fact-tail(n)\n",
    "    (fact-tail-1 (- n 1) n ) )\n",
    "\n",
    "(defun fact-tail-1 (n res)\n",
    "    (if (= n 1)\n",
    "        res\n",
    "        (fact-tail-1 (- n 1) (* res n) )\n",
    "        )\n",
    "    )\n",
    "(trace fact-tail-1)\n",
    "(fact-tail 5)"
   ]
  },
  {
   "cell_type": "code",
   "execution_count": 21,
   "metadata": {},
   "outputs": [
    {
     "name": "stdout",
     "output_type": "stream",
     "text": [
      "; disassembly for FACT-TAIL\n",
      "; Size: 144 bytes. Origin: #x100197B135\n",
      "; 35:       498B4C2460       MOV RCX, [R12+96]                ; no-arg-parsing entry point\n",
      "                                                              ; thread.binding-stack-pointer\n",
      "; 3A:       48894DF8         MOV [RBP-8], RCX\n",
      "; 3E:       49837C246800     CMP QWORD PTR [R12+104], 0       ; thread.stepping\n",
      "; 44:       7402             JEQ L0\n",
      "; 46:       CC0F             BREAK 15                         ; single-step trap (before)\n",
      "; 48: L0:   488B55F0         MOV RDX, [RBP-16]\n",
      "; 4C:       BF02000000       MOV EDI, 2\n",
      "; 51:       41BB5005B021     MOV R11D, #x21B00550             ; GENERIC--\n",
      "; 57:       41FFD3           CALL R11\n",
      "; 5A:       4883EC10         SUB RSP, 16\n",
      "; 5E:       488B7DF0         MOV RDI, [RBP-16]\n",
      "; 62:       B904000000       MOV ECX, 4\n",
      "; 67:       48892C24         MOV [RSP], RBP\n",
      "; 6B:       488BEC           MOV RBP, RSP\n",
      "; 6E:       49837C246800     CMP QWORD PTR [R12+104], 0       ; thread.stepping\n",
      "; 74:       7402             JEQ L1\n",
      "; 76:       CC0E             BREAK 14                         ; single-step trap (around)\n",
      "; 78: L1:   B838515420       MOV EAX, #x20545138              ; #<FDEFN FACT-TAIL-1>\n",
      "; 7D:       FFD0             CALL RAX\n",
      "; 7F:       720B             JB L2\n",
      "; 81:       488BF4           MOV RSI, RSP\n",
      "; 84:       52               PUSH RDX\n",
      "; 85:       B902000000       MOV ECX, 2\n",
      "; 8A:       EB20             JMP L4\n",
      "; 8C: L2:   4883F906         CMP RCX, 6\n",
      "; 90:       7F0B             JNLE L3\n",
      "; 92:       48C1E102         SHL RCX, 2\n",
      "; 96:       4829CC           SUB RSP, RCX\n",
      "; 99:       48C1E902         SHR RCX, 2\n",
      "; 9D: L3:   488953F8         MOV [RBX-8], RDX\n",
      "; A1:       48897BF0         MOV [RBX-16], RDI\n",
      "; A5:       488973E8         MOV [RBX-24], RSI\n",
      "; A9:       488BF3           MOV RSI, RBX\n",
      "; AC: L4:   4883F902         CMP RCX, 2\n",
      "; B0:       750A             JNE L5\n",
      "; B2:       488B56F8         MOV RDX, [RSI-8]\n",
      "; B6:       488BE5           MOV RSP, RBP\n",
      "; B9:       F8               CLC\n",
      "; BA:       5D               POP RBP\n",
      "; BB:       C3               RET\n",
      "; BC: L5:   B8C002B021       MOV EAX, #x21B002C0              ; RETURN-MULTIPLE\n",
      "; C1:       FFE0             JMP RAX\n",
      "; C3:       CC10             BREAK 16                         ; Invalid argument count trap\n"
     ]
    },
    {
     "data": {
      "text/plain": [
       "NIL"
      ]
     },
     "execution_count": 21,
     "metadata": {},
     "output_type": "execute_result"
    }
   ],
   "source": [
    "(disassemble 'fact-tail)"
   ]
  },
  {
   "cell_type": "code",
   "execution_count": 1,
   "metadata": {},
   "outputs": [
    {
     "data": {
      "text/plain": [
       "#<STANDARD-CLASS CL-JUPYTER-USER::POLYNOMIAL>"
      ]
     },
     "execution_count": 1,
     "metadata": {},
     "output_type": "execute_result"
    }
   ],
   "source": [
    "(defclass polynomial ()\n",
    "  ((coef :accessor poly-coef\n",
    "         :initform nil\n",
    "         :initarg :coef)\n",
    "   (deg :accessor poly-deg\n",
    "        :initform 0\n",
    "        :initarg :deg)\n",
    "   )\n",
    ")"
   ]
  },
  {
   "cell_type": "code",
   "execution_count": 2,
   "metadata": {},
   "outputs": [
    {
     "name": "stderr",
     "output_type": "stream",
     "text": [
      "SIMPLE-STYLE-WARNING: \n",
      "  The definition has no &KEY arguments, but the proclamation did.\n",
      "SIMPLE-STYLE-WARNING: \n",
      "  The definition has two args, but the proclamation has zero.\n",
      "SIMPLE-STYLE-WARNING: \n",
      "  The variable A is defined but never used.\n",
      "TYPE-WARNING: \n",
      "Derived type of ((SET 'COEF (MAKE-ARRAY (+ B 1) :INITIAL-ELEMENT 0))) is\n",
      "  (VALUES SIMPLE-VECTOR &OPTIONAL),\n",
      "conflicting with the declared function return type\n",
      "  (VALUES CL-JUPYTER-USER::POLYNOMIAL &OPTIONAL).\n",
      "SIMPLE-WARNING: \n",
      "undefined variable: COEF\n",
      "REDEFINITION-WITH-DEFUN: \n",
      "  redefining CL-JUPYTER-USER::MAKE-POLYNOMIAL in DEFUN\n"
     ]
    },
    {
     "data": {
      "text/plain": [
       "MAKE-POLYNOMIAL"
      ]
     },
     "execution_count": 2,
     "metadata": {},
     "output_type": "execute_result"
    }
   ],
   "source": [
    "(defgeneric (setf deg) (value degree))\n",
    "\n",
    "(defmethod (setf deg) (value (degree polynomial))\n",
    "  (setf (slot-value degree 'deg) value)\n",
    "    )\n",
    "\n",
    "(defgeneric (setf coef) (value coeficient))\n",
    "\n",
    "(defmethod (setf coef) (value (coeficient polynomial))\n",
    "  (setf (slot-value coeficient 'coef) value)\n",
    "    )\n",
    "\n",
    "(defmethod init-coef (deg coef)\n",
    "    (setf a (make-array deg :initial-element 0))\n",
    "    (setf (aref  a (- deg 1 ) ) coef)\n",
    "    )"
   ]
  },
  {
   "cell_type": "code",
   "execution_count": 25,
   "metadata": {},
   "outputs": [
    {
     "name": "stderr",
     "output_type": "stream",
     "text": [
      "REDEFINITION-WITH-DEFMETHOD: \n",
      "  redefining GET-ITH-COEF (#<STANDARD-CLASS CL-JUPYTER-USER::POLYNOMIAL>\n",
      "                            #<SB-PCL:SYSTEM-CLASS COMMON-LISP:T>) in DEFMETHOD\n"
     ]
    },
    {
     "data": {
      "text/plain": [
       "#<STANDARD-METHOD CL-JUPYTER-USER::GET-ITH-COEF (POLYNOMIAL T) {100756F6E3}>"
      ]
     },
     "execution_count": 25,
     "metadata": {},
     "output_type": "execute_result"
    }
   ],
   "source": [
    "(defmethod get-ith-coef ((poly polynomial) i)\n",
    "    (aref (slot-value poly 'coef) i)\n",
    ")"
   ]
  },
  {
   "cell_type": "code",
   "execution_count": 7,
   "metadata": {},
   "outputs": [
    {
     "name": "stderr",
     "output_type": "stream",
     "text": [
      "REDEFINITION-WITH-DEFMETHOD: \n",
      "  redefining DEGREE (#<STANDARD-CLASS CL-JUPYTER-USER::POLYNOMIAL>) in DEFMETHOD\n"
     ]
    },
    {
     "data": {
      "text/plain": [
       "#<STANDARD-METHOD CL-JUPYTER-USER::DEGREE (POLYNOMIAL) {1005E956E3}>"
      ]
     },
     "execution_count": 7,
     "metadata": {},
     "output_type": "execute_result"
    }
   ],
   "source": [
    "(defmethod degree ((poly polynomial))\n",
    "    (labels ((degree-1 (poly res tot i) \n",
    "                (cond ( (= tot i) res)\n",
    "                      ( (= (get-ith-coef poly i) 0) (degree-1 poly res tot (+ i 1))  )\n",
    "                      ( t (degree-1 poly (get-ith-coef poly i) tot (+ i 1) ) )\n",
    "                )\n",
    "                       \n",
    "                       ))\n",
    "            (degree-1 poly 0 (length (slot-value poly 'coef)) 0 )\n",
    "            )\n",
    "    \n",
    "    )\n"
   ]
  },
  {
   "cell_type": "code",
   "execution_count": 2,
   "metadata": {},
   "outputs": [
    {
     "name": "stderr",
     "output_type": "stream",
     "text": [
      "SIMPLE-STYLE-WARNING: \n",
      "  undefined function: DEGREE\n"
     ]
    },
    {
     "data": {
      "text/plain": [
       "#<STANDARD-METHOD COMMON-LISP:INITIALIZE-INSTANCE :AFTER (POLYNOMIAL) {10056A90A3}>"
      ]
     },
     "execution_count": 2,
     "metadata": {},
     "output_type": "execute_result"
    }
   ],
   "source": [
    "(defmethod initialize-instance :after ((poly polynomial) &key)\n",
    ";;     (print (degree poly))\n",
    "      (setf (poly-deg poly) (degree poly ))\n",
    "    )\n",
    "    "
   ]
  },
  {
   "cell_type": "code",
   "execution_count": 72,
   "metadata": {},
   "outputs": [
    {
     "name": "stderr",
     "output_type": "stream",
     "text": [
      "SIMPLE-WARNING: \n",
      "undefined variable: ARR\n",
      "\n",
      "REDEFINITION-WITH-DEFUN: \n",
      "  redefining CL-JUPYTER-USER::MAKE-POLYNOMIAL in DEFUN\n"
     ]
    },
    {
     "data": {
      "text/plain": [
       "MAKE-POLYNOMIAL"
      ]
     },
     "execution_count": 72,
     "metadata": {},
     "output_type": "execute_result"
    }
   ],
   "source": [
    "(defun make-polynomial (a b)\n",
    "    (setq arr (make-array (+ b 1) :initial-element 0))\n",
    "    (setf (aref arr b) a)\n",
    ";;     (print a)\n",
    ";;     (print b)\n",
    ";;     (print arr)\n",
    "    (MAKE-INSTANCE 'polynomial :coef arr)\n",
    ")\n"
   ]
  },
  {
   "cell_type": "code",
   "execution_count": 73,
   "metadata": {},
   "outputs": [
    {
     "name": "stderr",
     "output_type": "stream",
     "text": [
      "SIMPLE-WARNING: \n",
      "undefined variable: *ZERO*\n",
      "\n",
      "SIMPLE-WARNING: \n",
      "undefined variable: *P1*\n",
      "\n",
      "SIMPLE-WARNING: \n",
      "undefined variable: *P2*\n",
      "\n",
      "SIMPLE-WARNING: \n",
      "undefined variable: *P3*\n",
      "\n",
      "SIMPLE-WARNING: \n",
      "undefined variable: *P4*\n"
     ]
    },
    {
     "data": {
      "text/plain": [
       "#<POLYNOMIAL {100802D5E3}>"
      ]
     },
     "execution_count": 73,
     "metadata": {},
     "output_type": "execute_result"
    }
   ],
   "source": [
    "(setq *zero* (make-polynomial 0 0))\n",
    "(setq *p1* (make-polynomial 4 3))\n",
    "(setq *p2* (make-polynomial 3 2))\n",
    "(setq *p3* (make-polynomial 1 0))\n",
    "(setq *p4* (make-polynomial 2 1))\n",
    ";; (make-polynomial 4 3)"
   ]
  },
  {
   "cell_type": "code",
   "execution_count": 68,
   "metadata": {},
   "outputs": [
    {
     "name": "stdout",
     "output_type": "stream",
     "text": [
      "\n",
      "0 \n",
      "0 \n",
      "0 \n",
      "4 "
     ]
    },
    {
     "data": {
      "text/plain": [
       "4"
      ]
     },
     "execution_count": 68,
     "metadata": {},
     "output_type": "execute_result"
    }
   ],
   "source": [
    "(print (get-ith-coef *poly* 0 ) )\n",
    "(print (get-ith-coef *poly* 1 ) )\n",
    "(print (get-ith-coef *poly* 2 ) )\n",
    "(print (get-ith-coef *poly* 3 ) )"
   ]
  },
  {
   "cell_type": "code",
   "execution_count": 85,
   "metadata": {},
   "outputs": [
    {
     "name": "stderr",
     "output_type": "stream",
     "text": [
      "REDEFINITION-WITH-DEFGENERIC: \n",
      "  redefining CL-JUPYTER-USER::TO-STRING in DEFGENERIC\n",
      "\n",
      "REDEFINITION-WITH-DEFMETHOD: \n",
      "  redefining TO-STRING (#<STANDARD-CLASS CL-JUPYTER-USER::POLYNOMIAL>) in DEFMETHOD\n"
     ]
    },
    {
     "data": {
      "text/plain": [
       "#<STANDARD-METHOD CL-JUPYTER-USER::TO-STRING (POLYNOMIAL) {100596CC53}>"
      ]
     },
     "execution_count": 85,
     "metadata": {},
     "output_type": "execute_result"
    }
   ],
   "source": [
    "(defgeneric to-string (poly))\n",
    "\n",
    "(defmethod to-string ((poly polynomial))\n",
    "      (labels \n",
    "       \n",
    "               ((to-string-1 (poly tot i res) \n",
    ";;                             (print i)\n",
    ";;                             (print res)\n",
    "            (cond  ( (< i tot) (to-string-1 poly tot (+ i 1) \n",
    "                                             (to-string-2 i res (get-ith-coef poly (+ i 1) ) ) ))\n",
    ";;                                           (append (list (get-ith-coef poly i) \"x^\" (+ i 1 )  \"+\"  ) res) ) )\n",
    "                   ( t (if(null res) (format t \"0\" ) (to-string-3 res )  ))\n",
    "                      \n",
    "                      \n",
    "                )\n",
    "                       \n",
    "                       )\n",
    "                 (to-string-2 (i res element) \n",
    "                    (cond ((= element 0) res)\n",
    "                          (t (append (list element \"x^\" (+ i 1 ) \"+\" ) res ) ) )\n",
    "                        \n",
    "                        )\n",
    "                 (to-string-3 (res)\n",
    ";;                               (print \"str-3\")\n",
    ";;                         (cond ( (null (cdr res)) t )\n",
    ";;                               ( t  )\n",
    "                            \n",
    ";;                             )\n",
    "                        (when ( not  ( null (cdr res ) ) )\n",
    "                              (format t \"~d\" (car res))\n",
    "                              (to-string-3 (cdr res))\n",
    "                        )\n",
    "                 )\n",
    "            )\n",
    "            (to-string-1 poly (- (length (slot-value poly 'coef) ) 1 ) 0 '() ) (format t \"~C\" #\\linefeed)\n",
    "            )\n",
    "    )"
   ]
  },
  {
   "cell_type": "code",
   "execution_count": 86,
   "metadata": {},
   "outputs": [
    {
     "name": "stdout",
     "output_type": "stream",
     "text": [
      "4x^3\n"
     ]
    },
    {
     "data": {
      "text/plain": [
       "NIL"
      ]
     },
     "execution_count": 86,
     "metadata": {},
     "output_type": "execute_result"
    }
   ],
   "source": [
    ";; (print (slot-value *poly* 'coef))\n",
    ";; (print the res is:)\n",
    "(to-string *poly*)"
   ]
  },
  {
   "cell_type": "code",
   "execution_count": null,
   "metadata": {},
   "outputs": [],
   "source": [
    "(defgeneric plus (poly))\n",
    "\n",
    "(defmethod plus ((poly_a polynomial) (poly_b polynomial) ) \n",
    "    (labels ( (plus-1 (poly-a polynomial) (poly_b polynomial)  )\n",
    "             \n",
    "             \n",
    "             \n",
    "             ) \n",
    "     (plus-1 )\n",
    "     )\n",
    "    \n",
    "    )"
   ]
  },
  {
   "cell_type": "code",
   "execution_count": 47,
   "metadata": {
    "scrolled": true
   },
   "outputs": [
    {
     "name": "stdout",
     "output_type": "stream",
     "text": [
      "\n",
      "#(0 0 0 4) \n",
      "4 "
     ]
    },
    {
     "data": {
      "text/plain": [
       "4"
      ]
     },
     "execution_count": 47,
     "metadata": {},
     "output_type": "execute_result"
    }
   ],
   "source": [
    "(to-string *poly*)"
   ]
  },
  {
   "cell_type": "code",
   "execution_count": 88,
   "metadata": {},
   "outputs": [
    {
     "name": "stdout",
     "output_type": "stream",
     "text": [
      "zero(x)      = 0\n",
      "p1(x)        = 4x^3\n"
     ]
    },
    {
     "data": {
      "text/plain": [
       "NIL"
      ]
     },
     "execution_count": 88,
     "metadata": {},
     "output_type": "execute_result"
    }
   ],
   "source": [
    "(format t \"zero(x)      = \" )\n",
    "(to-string *zero*)\n",
    "(format t \"p1(x)        = \" )\n",
    "(to-string *p1*)"
   ]
  },
  {
   "cell_type": "code",
   "execution_count": 72,
   "metadata": {},
   "outputs": [
    {
     "data": {
      "text/plain": [
       "#(0 0 3)"
      ]
     },
     "execution_count": 72,
     "metadata": {},
     "output_type": "execute_result"
    }
   ],
   "source": []
  },
  {
   "cell_type": "code",
   "execution_count": 73,
   "metadata": {},
   "outputs": [
    {
     "data": {
      "text/plain": [
       "3"
      ]
     },
     "execution_count": 73,
     "metadata": {},
     "output_type": "execute_result"
    }
   ],
   "source": [
    "(slot-value *poly* 'deg)"
   ]
  },
  {
   "cell_type": "code",
   "execution_count": 43,
   "metadata": {},
   "outputs": [
    {
     "name": "stderr",
     "output_type": "stream",
     "text": [
      "SIMPLE-WARNING: \n",
      "undefined variable: A\n",
      "REDEFINITION-WITH-DEFMETHOD: \n",
      "  redefining INIT-COEF (#<SB-PCL:SYSTEM-CLASS COMMON-LISP:T>\n",
      "                        #<SB-PCL:SYSTEM-CLASS COMMON-LISP:T>) in DEFMETHOD\n"
     ]
    },
    {
     "data": {
      "text/plain": [
       "#<STANDARD-METHOD CL-JUPYTER-USER::INIT-COEF (T T) {1003F31773}>"
      ]
     },
     "execution_count": 43,
     "metadata": {},
     "output_type": "execute_result"
    }
   ],
   "source": []
  },
  {
   "cell_type": "code",
   "execution_count": 44,
   "metadata": {},
   "outputs": [
    {
     "data": {
      "text/plain": [
       "#(0 0 0 4)"
      ]
     },
     "execution_count": 44,
     "metadata": {},
     "output_type": "execute_result"
    }
   ],
   "source": []
  },
  {
   "cell_type": "code",
   "execution_count": null,
   "metadata": {},
   "outputs": [],
   "source": []
  },
  {
   "cell_type": "code",
   "execution_count": null,
   "metadata": {},
   "outputs": [],
   "source": []
  },
  {
   "cell_type": "code",
   "execution_count": null,
   "metadata": {},
   "outputs": [],
   "source": []
  },
  {
   "cell_type": "code",
   "execution_count": null,
   "metadata": {},
   "outputs": [],
   "source": []
  },
  {
   "cell_type": "code",
   "execution_count": null,
   "metadata": {},
   "outputs": [],
   "source": []
  },
  {
   "cell_type": "code",
   "execution_count": null,
   "metadata": {},
   "outputs": [],
   "source": []
  }
 ],
 "metadata": {
  "kernelspec": {
   "display_name": "SBCL Lisp",
   "language": "lisp",
   "name": "lisp"
  },
  "language_info": {
   "codemirror_mode": "text/x-common-lisp",
   "mimetype": "text/x-common-lisp",
   "name": "common-lisp",
   "pygments_lexer": "common-lisp",
   "version": "X3J13"
  }
 },
 "nbformat": 4,
 "nbformat_minor": 2
}
