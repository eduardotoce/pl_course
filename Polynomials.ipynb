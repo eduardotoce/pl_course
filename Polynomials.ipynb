{
 "cells": [
  {
   "cell_type": "code",
   "execution_count": 1,
   "metadata": {},
   "outputs": [
    {
     "data": {
      "text/plain": [
       "#<STANDARD-CLASS CL-JUPYTER-USER::POLYNOMIAL>"
      ]
     },
     "execution_count": 1,
     "metadata": {},
     "output_type": "execute_result"
    }
   ],
   "source": [
    ";;; Define the Polynomial Class\n",
    ";;; using CLOS\n",
    "(defclass polynomial ()       ; Name of the class\n",
    "  ((poly :accessor poly       ; (slot :accessor_func func_name\n",
    "         :initform nil        ;       :initial value\n",
    "         :initarg :poly)      ;       :initialization argument\n",
    "   (deg :accessor poly-deg\n",
    "        :initform 0\n",
    "        :initarg :deg)\n",
    "   )\n",
    ")"
   ]
  },
  {
   "cell_type": "code",
   "execution_count": 2,
   "metadata": {},
   "outputs": [
    {
     "data": {
      "text/plain": [
       "MAKE-POLYNOMIAL"
      ]
     },
     "execution_count": 2,
     "metadata": {},
     "output_type": "execute_result"
    }
   ],
   "source": [
    ";;; Make a polynomial taking advantage of program = data\n",
    ";;; new polynomial term of the form a * x^b:\n",
    "(defun make-polynomial (a b)\n",
    "    (MAKE-INSTANCE 'polynomial :poly  `(+ (* ,a (expt x ,b))) :deg b) ; generic function to create an instance\n",
    ")"
   ]
  },
  {
   "cell_type": "code",
   "execution_count": 3,
   "metadata": {},
   "outputs": [
    {
     "name": "stdout",
     "output_type": "stream",
     "text": [
      "\n",
      "#<POLYNOMIAL {10057891B3}> \n",
      "#<POLYNOMIAL {1005789353}> "
     ]
    },
    {
     "data": {
      "text/plain": [
       "#<POLYNOMIAL {1005789353}>"
      ]
     },
     "execution_count": 3,
     "metadata": {},
     "output_type": "execute_result"
    }
   ],
   "source": [
    ";;;; TEST of make-polynomial\n",
    "(let ((t1 (make-polynomial 2 3))\n",
    "     (t2 (make-polynomial 0 0))\n",
    "      )\n",
    "     (print t1)\n",
    "     (print t2)\n",
    ")"
   ]
  },
  {
   "cell_type": "code",
   "execution_count": 6,
   "metadata": {},
   "outputs": [
    {
     "name": "stderr",
     "output_type": "stream",
     "text": [
      "REDEFINITION-WITH-DEFMETHOD: \n",
      "  redefining DEGREE (#<STANDARD-CLASS CL-JUPYTER-USER::POLYNOMIAL>) in DEFMETHOD\n"
     ]
    },
    {
     "data": {
      "text/plain": [
       "#<STANDARD-METHOD CL-JUPYTER-USER::DEGREE (POLYNOMIAL) {1005ED5BC3}>"
      ]
     },
     "execution_count": 6,
     "metadata": {},
     "output_type": "execute_result"
    }
   ],
   "source": [
    ";;; Returns the degree of a given polynomial\n",
    "(defmethod degree ((p polynomial)) ; method for the polynomial class\n",
    "    (labels ( (degree-1 (poly max) \n",
    "                (cond  ( (null poly) max )  ;the end of p has been reached\n",
    "                        ( (> (caddr (caddar poly)) max) (degree-1 (cdr poly) (caddr (caddar poly))) ) ;There is a term of higher degree\n",
    "                        (t (degree-1 (cdr poly) max))  ; Eval the next term\n",
    "                )\n",
    "               )\n",
    "             )\n",
    "            (degree-1 (cdr (slot-value p 'poly)) 0)\n",
    "     )\n",
    "    \n",
    "    \n",
    "    )"
   ]
  },
  {
   "cell_type": "code",
   "execution_count": 7,
   "metadata": {},
   "outputs": [
    {
     "name": "stdout",
     "output_type": "stream",
     "text": [
      "\n",
      "3 \n",
      "7 \n",
      "10 "
     ]
    },
    {
     "data": {
      "text/plain": [
       "10"
      ]
     },
     "execution_count": 7,
     "metadata": {},
     "output_type": "execute_result"
    }
   ],
   "source": [
    ";;; TESTs of degree\n",
    "(let ( (t1 (MAKE-INSTANCE 'polynomial :poly  '(+ (* 1 (expt x 1)) (* 2 (expt x 2)) (* 3 (expt x 3))) :deg 3)) \n",
    "       (t2 (MAKE-INSTANCE 'polynomial :poly  '(+ (* 1 (expt x 1)) (* 2 (expt x 7)) (* 3 (expt x 3))) :deg 3)) \n",
    "       (t3 (MAKE-INSTANCE 'polynomial :poly  '(+ (* 1 (expt x 10)) (* 2 (expt x 2)) (* 3 (expt x 3))) :deg 3)) \n",
    "      )\n",
    "     ( print (degree t1))\n",
    "     ( print (degree t2))\n",
    "     ( print (degree t3))\n",
    "     \n",
    "     )"
   ]
  },
  {
   "cell_type": "code",
   "execution_count": 8,
   "metadata": {},
   "outputs": [
    {
     "data": {
      "text/plain": [
       "#<STANDARD-METHOD COMMON-LISP:PRINT-OBJECT (POLYNOMIAL T) {1006949673}>"
      ]
     },
     "execution_count": 8,
     "metadata": {},
     "output_type": "execute_result"
    }
   ],
   "source": [
    "(defmethod print-object ((poly polynomial) out) ; Define a print-object method for polynomial class\n",
    "    (labels ((to-string (stack term poly)       ; func to determine what part of the term we are on\n",
    "                (cond  ((null term) (to-string-1  stack \"\" )) ;end of term\n",
    "                       ((atom term) term)       ; term is not a list (number or var)\n",
    "                       ((eql (car term) '*)     ; Term is (* n list) \n",
    "                            (to-string (push    ; push into a stack \n",
    "                                `(,(to-string stack (cadr term) poly) ,(to-string stack (caddr term) poly) ) stack) \n",
    "                                 (car poly) (cdr poly) ) )\n",
    "                       ((eql (car term) 'expt) `(,(cadr term),(caddr term))) ; We are in the last part of term (expt var m)\n",
    "                 )\n",
    "              )\n",
    "              (to-string-1 (stack res )  ; func to go from stack to string\n",
    "                           (let* ((coef (caar stack))     ;get the parts of terms\n",
    "                                 (var  (caadar stack))\n",
    "                                 (exp  (car (cdadar stack)))\n",
    "                                 (str  (if (or (null coef)      ; prevent str from being nil \n",
    "                                               (equal res \"\") )\n",
    "                                               (if ( null coef ) \n",
    "                                                   res \n",
    "                                                   (format nil \"~:[-~;~]\" (>= coef 0)) )       ; Set the sign for the next\n",
    "                                               (format nil \"~a ~:[- ~;+ ~]\" res (>= coef 0)))) ; term (empty if first term)\n",
    "                                 )\n",
    "                                 \n",
    "                                 (cond  ; Test all posible cases\n",
    "                                       ((null stack) (if (equal res \"\") \"0\" res )) ; The poly is 0\n",
    "                                       ((= coef 0) (to-string-1 (cdr stack) (format nil \"~a\" res))) ; x^0\n",
    "                                       ((= exp 0)  (to-string-1 (cdr stack) (format nil \"~a~a\" str (abs coef) ))) ; 0x\n",
    "                                       ((and (= exp 1) (= (abs coef) 1)) (to-string-1 (cdr stack) (format nil \"~a~a\" str var ))) ; 1x^1\n",
    "                                       ((= (abs coef) 1) (to-string-1 (cdr stack) (format nil \"~a~a^~a\" str var exp ) ) ) ; 1x^n or -1x^n\n",
    "                                       ((= exp 1) (to-string-1 (cdr stack) (format nil \"~a~a~a\" str (abs coef) var))) ; x^1\n",
    "                                       (t (to-string-1 (cdr stack) (format nil \"~a~a~a^~a\" str (abs coef) var exp ))) ; nx^m\n",
    "                                )\n",
    "                         )\n",
    "             ) )\n",
    "            ; send the res string to out\n",
    "           (format out \"~a\" (to-string '() (cadr (slot-value poly 'poly)) (cddr (slot-value poly 'poly) )  ) )\n",
    "     )\n",
    "    \n",
    "    \n",
    "\n",
    "      \n",
    "    )"
   ]
  },
  {
   "cell_type": "code",
   "execution_count": 9,
   "metadata": {},
   "outputs": [
    {
     "name": "stdout",
     "output_type": "stream",
     "text": [
      "\n",
      "3X^3 + 2X^2 + X \n",
      "2X^7 + 3X^3 + X \n",
      "0 "
     ]
    },
    {
     "data": {
      "text/plain": [
       "0"
      ]
     },
     "execution_count": 9,
     "metadata": {},
     "output_type": "execute_result"
    }
   ],
   "source": [
    "(let ( (t1 (MAKE-INSTANCE 'polynomial :poly  '(+ (* 1 (expt x 1)) (* 2 (expt x 2)) (* 3 (expt x 3))) :deg 3)) \n",
    "       (t2 (MAKE-INSTANCE 'polynomial :poly  '(+ (* 1 (expt x 1)) (* 3 (expt x 3)) (* 2 (expt x 7))) :deg 3)) \n",
    "       (t3 (MAKE-INSTANCE 'polynomial :poly  '(+ (* 0 (expt x 0)) ) :deg 1))  \n",
    "      )\n",
    "     (print t1)\n",
    "     (print t2)\n",
    "     (print t3)\n",
    "     )"
   ]
  },
  {
   "cell_type": "code",
   "execution_count": 10,
   "metadata": {},
   "outputs": [
    {
     "name": "stderr",
     "output_type": "stream",
     "text": [
      "IMPLICIT-GENERIC-FUNCTION-WARNING: \n",
      "  Implicitly creating new generic function CL-JUPYTER-USER::PLUS.\n"
     ]
    },
    {
     "data": {
      "text/plain": [
       "#<STANDARD-METHOD CL-JUPYTER-USER::PLUS (POLYNOMIAL POLYNOMIAL) {10072BAB43}>"
      ]
     },
     "execution_count": 10,
     "metadata": {},
     "output_type": "execute_result"
    }
   ],
   "source": [
    "(defmethod plus ((p1 polynomial) (p2 polynomial))\n",
    "    \n",
    "    (labels (\n",
    "             (plus-1 (p1 p2 res)    \n",
    "                   (let ( (coef1 (cadar p1))   ; Get the parts of term1\n",
    "                          (var1  (cadr(caddar p1)))\n",
    "                          (expt1 (caddr (caddar p1)))\n",
    "                          (coef2 (cadar p2))   ; Get the parts of term2\n",
    "                          (var2  (cadr(caddar p2)))\n",
    "                          (expt2 (caddr (caddar p2)))\n",
    "                         )\n",
    "                        \n",
    "                        (cond ((and (null p1) (null p2)) (cons '+ (reverse res)) ) ; The end of both polys\n",
    "                              ((null p1) (plus-1 nil (cdr p2) (push `(* ,coef2 (expt ,var2 ,expt2)) res))) ; End of p1 but no p2\n",
    "                              ((null p2) (plus-1 nil (cdr p1) (push `(* ,coef1 (expt ,var1 ,expt1)) res))) ; End of p2 but no p1\n",
    "                              ((= expt1 expt2) ; expts are equal ==> add\n",
    "                                (plus-1 (cdr p1) (cdr p2) (push `(* ,(+ coef1 coef2) (expt ,var1 ,expt1)) res ) ))\n",
    "                              ((< expt1 expt2) ; expt1 is smaller ==> get next term1\n",
    "                                (plus-1 (cdr p1) p2  (push `(* ,coef1 (expt ,var1 ,expt1)) res)) )\n",
    "                              ((> expt1 expt2) ; expt2 is smaller ==> get next term2\n",
    "                                (plus-1 p1 (cdr p2)  (push `(* ,coef2 (expt ,var2 ,expt2)) res)) )\n",
    "                         )\n",
    "                    )\n",
    "               ) \n",
    "             \n",
    "             )\n",
    "            (let ((poly_res (MAKE-INSTANCE 'polynomial ) )   ; Create a new instance of poly - the returned val\n",
    "                  (poly (plus-1 (cdr (slot-value p1 'poly)) (cdr (slot-value p2 'poly)) '() )) ; poly <= p1 + p2 \n",
    "                   )\n",
    "                 (setf (poly poly_res)  poly)     ; poly_res.poly <= poly\n",
    "                 (setf (poly-deg  poly_res) (degree poly_res)) ;poly_res.degree <= degree(poly_res)\n",
    "                 poly_res\n",
    "                ) \n",
    "            \n",
    "      )\n",
    ")"
   ]
  },
  {
   "cell_type": "code",
   "execution_count": 11,
   "metadata": {
    "scrolled": true
   },
   "outputs": [
    {
     "name": "stdout",
     "output_type": "stream",
     "text": [
      "\n",
      "2X^7 + 6X^3 + 2X^2 + 2X \n",
      "2X^7 + 6X^3 + 2X^2 + 2X \n",
      "X^10 + 6X^3 + 4X^2 + X \n",
      "X^10 + 6X^3 + 4X^2 + X \n",
      "X^10 + 2X^7 + 6X^3 + 2X^2 + X \n",
      "X^10 + 2X^7 + 6X^3 + 2X^2 + X "
     ]
    },
    {
     "data": {
      "text/plain": [
       "X^10 + 2X^7 + 6X^3 + 2X^2 + X"
      ]
     },
     "execution_count": 11,
     "metadata": {},
     "output_type": "execute_result"
    }
   ],
   "source": [
    "(let ( (t1 (MAKE-INSTANCE 'polynomial :poly  '(+ (* 1 (expt x 1)) (* 2 (expt x 2)) (* 3 (expt x 3))) :deg 3)) \n",
    "       (t2 (MAKE-INSTANCE 'polynomial :poly  '(+ (* 1 (expt x 1)) (* 3 (expt x 3)) (* 2 (expt x 7))) :deg 3)) \n",
    "       (t3 (MAKE-INSTANCE 'polynomial :poly  '(+ (* 2 (expt x 2)) (* 3 (expt x 3)) (* 1 (expt x 10))) :deg 3)) \n",
    "      )\n",
    "     ( print (plus t1 t2))\n",
    "     ( print (plus t2 t1))\n",
    "     ( print (plus t1 t3))\n",
    "     ( print (plus t3 t1))\n",
    "     ( print (plus t2 t3))\n",
    "     ( print (plus t3 t2))\n",
    "     \n",
    "     )"
   ]
  },
  {
   "cell_type": "code",
   "execution_count": 12,
   "metadata": {},
   "outputs": [
    {
     "name": "stderr",
     "output_type": "stream",
     "text": [
      "IMPLICIT-GENERIC-FUNCTION-WARNING: \n",
      "  Implicitly creating new generic function CL-JUPYTER-USER::MINUS.\n"
     ]
    },
    {
     "data": {
      "text/plain": [
       "#<STANDARD-METHOD CL-JUPYTER-USER::MINUS (POLYNOMIAL POLYNOMIAL) {1007B9AC43}>"
      ]
     },
     "execution_count": 12,
     "metadata": {},
     "output_type": "execute_result"
    }
   ],
   "source": [
    "(defmethod minus ((p1 polynomial) (p2 polynomial))\n",
    "    (labels ( (minus-1 (p1 p2 res)\n",
    "                   (let ( (coef1 (cadar p1))\n",
    "                          (var1  (cadr(caddar p1)))\n",
    "                          (expt1 (caddr (caddar p1)))\n",
    "                          (coef2 (cadar p2))\n",
    "                          (var2  (cadr(caddar p2)))\n",
    "                          (expt2 (caddr (caddar p2)))\n",
    "                         )\n",
    "                        ; Almost the same as plus\n",
    "                        (cond ((and (null p1) (null p2)) (cons '+ (reverse res)) )\n",
    "                              ((null p1) (minus-1 nil (cdr p2) (push `(* ,(- coef2) (expt ,var2 ,expt2)) res)))\n",
    "                              ((null p2) (minus-1 nil (cdr p1) (push `(* ,coef1 (expt ,var1 ,expt1)) res)))\n",
    "                              ((= expt1 expt2)  \n",
    "                                (minus-1 (cdr p1) (cdr p2) (push `(* ,(- coef1 coef2) (expt ,var1 ,expt1)) res ) ))\n",
    "                              ((< expt1 expt2) \n",
    "                                (minus-1 (cdr p1) p2  (push `(* ,coef1 (expt ,var1 ,expt1)) res)) )\n",
    "                              ((> expt1 expt2) \n",
    "                                (minus-1 p1 (cdr p2)  (push `(* ,(- coef2) (expt ,var2 ,expt2)) res)) )\n",
    "                         )\n",
    "                    )\n",
    "               ) \n",
    "             \n",
    "             )\n",
    "            (let ((poly_res (MAKE-INSTANCE 'polynomial ) )\n",
    "                  (poly (minus-1 (cdr (slot-value p1 'poly)) (cdr (slot-value p2 'poly)) '() ))\n",
    "                   )\n",
    "                 (setf (poly poly_res) poly)\n",
    "                 (setf (poly-deg  poly_res) (degree poly_res))\n",
    "                 poly_res\n",
    "                ) \n",
    "      )\n",
    ")"
   ]
  },
  {
   "cell_type": "code",
   "execution_count": 13,
   "metadata": {},
   "outputs": [
    {
     "name": "stdout",
     "output_type": "stream",
     "text": [
      "\n",
      "-2X^7 + 2X^2 \n",
      "2X^7 - 2X^2 \n",
      "-X^10 + X \n",
      "X^10 - X \n",
      "-X^10 + 2X^7 - 2X^2 + X \n",
      "X^10 - 2X^7 + 2X^2 - X "
     ]
    },
    {
     "data": {
      "text/plain": [
       "X^10 - 2X^7 + 2X^2 - X"
      ]
     },
     "execution_count": 13,
     "metadata": {},
     "output_type": "execute_result"
    }
   ],
   "source": [
    "(let ( (t1 (MAKE-INSTANCE 'polynomial :poly  '(+ (* 1 (expt x 1)) (* 2 (expt x 2)) (* 3 (expt x 3))) :deg 3)) \n",
    "       (t2 (MAKE-INSTANCE 'polynomial :poly  '(+ (* 1 (expt x 1)) (* 3 (expt x 3)) (* 2 (expt x 7))) :deg 3)) \n",
    "       (t3 (MAKE-INSTANCE 'polynomial :poly  '(+ (* 2 (expt x 2)) (* 3 (expt x 3)) (* 1 (expt x 10))) :deg 3)) \n",
    "      )\n",
    "     ( print (minus t1 t2))\n",
    "     ( print (minus t2 t1))\n",
    "     ( print (minus t1 t3))\n",
    "     ( print (minus t3 t1))\n",
    "     ( print (minus t2 t3))\n",
    "     ( print (minus t3 t2))\n",
    "     \n",
    "     )"
   ]
  },
  {
   "cell_type": "code",
   "execution_count": 14,
   "metadata": {},
   "outputs": [
    {
     "data": {
      "text/plain": [
       "POLY-SHORTENER"
      ]
     },
     "execution_count": 14,
     "metadata": {},
     "output_type": "execute_result"
    }
   ],
   "source": [
    ";;; func to consolidate terms (those that have tha same expt)\n",
    "(defun poly-shortener (p term p_aux ) ; p is a list, term is one term of p (not in p) and p_aux is the poly result \n",
    "                      (let* ((poly_aux1 (MAKE-INSTANCE 'polynomial :poly (cons '+ `(,term) )))\n",
    "                            (res (plus p_aux poly_aux1)) \n",
    "                           )\n",
    "                           (if (null p) res (poly-shortener (cdr p) (car p) res) )\n",
    "                      )\n",
    "             )"
   ]
  },
  {
   "cell_type": "code",
   "execution_count": 18,
   "metadata": {},
   "outputs": [
    {
     "name": "stderr",
     "output_type": "stream",
     "text": [
      "SIMPLE-STYLE-WARNING: \n",
      "  The variable VAR2 is defined but never used.\n",
      "\n",
      "REDEFINITION-WITH-DEFMETHOD: \n",
      "  redefining TIMES (#<STANDARD-CLASS CL-JUPYTER-USER::POLYNOMIAL>\n",
      "                     #<STANDARD-CLASS CL-JUPYTER-USER::POLYNOMIAL>) in DEFMETHOD\n"
     ]
    },
    {
     "data": {
      "text/plain": [
       "#<STANDARD-METHOD CL-JUPYTER-USER::TIMES (POLYNOMIAL POLYNOMIAL) {1005E15F33}>"
      ]
     },
     "execution_count": 18,
     "metadata": {},
     "output_type": "execute_result"
    }
   ],
   "source": [
    "(defmethod times ((p1 polynomial) (p2 polynomial))\n",
    "    (labels ((times-1 (p1 p2 res) \n",
    "                  ;iterate over p2\n",
    "                  (cond ((null p2) res) ; end of p2 reached\n",
    "                        (t  (times-1 p1 (cdr p2) (times-2 p1 (car p2) res))) ;recursive call to times-1, res is times-2 recursive call\n",
    "                            ) \n",
    "             )\n",
    "            (times-2 (p1 term2 res)\n",
    "                     (let ((coef1 (cadar p1))\n",
    "                           (var1  (cadr(caddar p1)))\n",
    "                           (expt1 (caddr (caddar p1)))\n",
    "                           (coef2 (cadr term2))\n",
    "                           (var2  (cadr (caddr term2)))\n",
    "                           (expt2 (caddr(caddr term2)))\n",
    "                          )\n",
    "                          ; iterate over p1\n",
    "                         (cond ((null p1) res) ; end of p1 reached\n",
    "                               (t (times-2 (cdr p1)  ;recursive call to times-2\n",
    "                                           term2 \n",
    "                                           (cons `(* ,(* coef1 coef2) (expt ,var1 ,(+ expt1 expt2))) res)))\n",
    "                          )\n",
    "                      )\n",
    "             )\n",
    "             (times-3 (p term p_aux )\n",
    "                      (let* ((poly_aux1 (MAKE-INSTANCE 'polynomial :poly (cons '+ `(,term) )))\n",
    "                            (res (plus p_aux poly_aux1)) \n",
    "                           )\n",
    "                           (if (null p) res (times-3 (cdr p) (car p) res) )\n",
    "                      )\n",
    "                \n",
    "                      \n",
    "             )\n",
    "            \n",
    "            )\n",
    "            (let ( (res_tmp (times-1 (cdr (slot-value p1 'poly)) (cdr (slot-value p2 'poly)) '() ))\n",
    "                  )\n",
    "                 (poly-shortener (cdr res_tmp) (car res_tmp) (make-polynomial 0 0)  )\n",
    "             )\n",
    "            )\n",
    "    \n",
    "    \n",
    "    )"
   ]
  },
  {
   "cell_type": "code",
   "execution_count": 19,
   "metadata": {
    "scrolled": true
   },
   "outputs": [
    {
     "name": "stdout",
     "output_type": "stream",
     "text": [
      "\n",
      "12X^5 + 9X^4 + 26X^3 + 18X^2 + 10X + 5 "
     ]
    },
    {
     "data": {
      "text/plain": [
       "12X^5 + 9X^4 + 26X^3 + 18X^2 + 10X + 5"
      ]
     },
     "execution_count": 19,
     "metadata": {},
     "output_type": "execute_result"
    }
   ],
   "source": [
    "(let ( (t1 (MAKE-INSTANCE 'polynomial :poly  '(+ (* 4 (expt x 3)) (* 3 (expt x 2)) (* 2 (expt x 1)) (* 1 (expt x 0))) :deg 4)) \n",
    "       (t2 (MAKE-INSTANCE 'polynomial :poly  '(+ (* 3 (expt x 2)) (* 5 (expt x 0)) ) :deg 2)) \n",
    ";;        (t3 (MAKE-INSTANCE 'polynomial :poly  '(+ (* 2 (expt x 2)) (* 3 (expt x 3)) (* 1 (expt x 10))) :deg 3)) \n",
    "      )\n",
    "     ( print (times t1 t2))\n",
    "\n",
    "     \n",
    "     )"
   ]
  },
  {
   "cell_type": "code",
   "execution_count": 22,
   "metadata": {},
   "outputs": [
    {
     "name": "stderr",
     "output_type": "stream",
     "text": [
      "REDEFINITION-WITH-DEFMETHOD: \n",
      "  redefining COMPOSE (#<STANDARD-CLASS CL-JUPYTER-USER::POLYNOMIAL>\n",
      "                       #<STANDARD-CLASS CL-JUPYTER-USER::POLYNOMIAL>) in DEFMETHOD\n"
     ]
    },
    {
     "data": {
      "text/plain": [
       "#<STANDARD-METHOD CL-JUPYTER-USER::COMPOSE (POLYNOMIAL POLYNOMIAL) {10065A97F3}>"
      ]
     },
     "execution_count": 22,
     "metadata": {},
     "output_type": "execute_result"
    }
   ],
   "source": [
    "(defmethod compose ((p1 polynomial) (p2 polynomial))\n",
    "    (labels ((compose-1 (p1 p2 res) ;; p1 is a list, p2 is a polynomial as is res\n",
    "                (cond ((null p1) res) ; end of p1 reached\n",
    "                      (t (compose-1 (cdr p1) p2 (plus (make-polynomial (cadar p1) 0) (times p2 res))))\n",
    "                 )\n",
    "             ) )\n",
    "             (compose-1 (reverse (cdr  (slot-value p1 'poly))) p2 (make-polynomial 0 0))\n",
    "     )\n",
    "    \n",
    " )"
   ]
  },
  {
   "cell_type": "code",
   "execution_count": 23,
   "metadata": {
    "scrolled": true
   },
   "outputs": [
    {
     "name": "stdout",
     "output_type": "stream",
     "text": [
      "\n",
      "27X^6 + 153X^4 + 294X^2 + 194 "
     ]
    },
    {
     "data": {
      "text/plain": [
       "27X^6 + 153X^4 + 294X^2 + 194"
      ]
     },
     "execution_count": 23,
     "metadata": {},
     "output_type": "execute_result"
    }
   ],
   "source": [
    "(let ( (t1 (MAKE-INSTANCE 'polynomial :poly  '(+ (* 4 (expt x 3)) (* 3 (expt x 2)) (* 2 (expt x 1)) (* 1 (expt x 0))) :deg 4)) \n",
    "       (t2 (MAKE-INSTANCE 'polynomial :poly  '(+ (* 3 (expt x 2)) (* 5 (expt x 0)) ) :deg 2)) \n",
    ";;        (t3 (MAKE-INSTANCE 'polynomial :poly  '(+ (* 2 (expt x 2)) (* 3 (expt x 3)) (* 1 (expt x 10))) :deg 3)) \n",
    "      )\n",
    "     ( print (compose t1 t2))\n",
    "\n",
    "     \n",
    "     )"
   ]
  },
  {
   "cell_type": "code",
   "execution_count": 24,
   "metadata": {},
   "outputs": [
    {
     "name": "stderr",
     "output_type": "stream",
     "text": [
      "IMPLICIT-GENERIC-FUNCTION-WARNING: \n",
      "  Implicitly creating new generic function CL-JUPYTER-USER::EVALUATE.\n"
     ]
    },
    {
     "data": {
      "text/plain": [
       "#<STANDARD-METHOD CL-JUPYTER-USER::EVALUATE (POLYNOMIAL T) {10069F72E3}>"
      ]
     },
     "execution_count": 24,
     "metadata": {},
     "output_type": "execute_result"
    }
   ],
   "source": [
    "(defmethod evaluate ((p1 polynomial) val)\n",
    "             (eval (subst val 'x (poly p1) ))\n",
    " )"
   ]
  },
  {
   "cell_type": "code",
   "execution_count": 25,
   "metadata": {},
   "outputs": [
    {
     "name": "stdout",
     "output_type": "stream",
     "text": [
      "\n",
      "142 "
     ]
    },
    {
     "data": {
      "text/plain": [
       "142"
      ]
     },
     "execution_count": 25,
     "metadata": {},
     "output_type": "execute_result"
    }
   ],
   "source": [
    "(let ( (t1 (MAKE-INSTANCE 'polynomial :poly  '(+ (* 4 (expt x 3)) (* 3 (expt x 2)) (* 2 (expt x 1)) (* 1 (expt x 0))) :deg 4)) \n",
    ";;        (t2 (MAKE-INSTANCE 'polynomial :poly  '(+ (* 3 (expt x 2)) (* 5 (expt x 0)) ) :deg 2)) \n",
    ";;        (t3 (MAKE-INSTANCE 'polynomial :poly  '(+ (* 2 (expt x 2)) (* 3 (expt x 3)) (* 1 (expt x 10))) :deg 3)) \n",
    "      )\n",
    "     ( print (evaluate t1 3))\n",
    "\n",
    "     \n",
    "     )"
   ]
  },
  {
   "cell_type": "code",
   "execution_count": 26,
   "metadata": {},
   "outputs": [
    {
     "name": "stderr",
     "output_type": "stream",
     "text": [
      "IMPLICIT-GENERIC-FUNCTION-WARNING: \n",
      "  Implicitly creating new generic function CL-JUPYTER-USER::DIFFERENTIATE.\n"
     ]
    },
    {
     "data": {
      "text/plain": [
       "#<STANDARD-METHOD CL-JUPYTER-USER::DIFFERENTIATE (POLYNOMIAL) {1006F3F7C3}>"
      ]
     },
     "execution_count": 26,
     "metadata": {},
     "output_type": "execute_result"
    }
   ],
   "source": [
    "(defmethod differentiate ((p polynomial))\n",
    "    (labels ((differentiate-1 (p1 res)\n",
    "             (let ( (coef (cadar p1))    ;get the parts of term\n",
    "                    (var (cadr (caddar p1)))\n",
    "                    (exp (caddr (caddar p1)))\n",
    "                          )            \n",
    "                     (cond ((null p1) res)  \n",
    "                           ((= exp 0) (differentiate-1 (cdr p1) (cons `(* 0 (expt ,var 0)) res)))\n",
    "                           (t (differentiate-1 (cdr p1) (cons `(* ,(* coef exp) (expt ,var ,(- exp 1))) res) ))\n",
    "                          )\n",
    "                      )\n",
    "             )\n",
    "         ) \n",
    "            (let ( (res_tmp (differentiate-1 (cdr (slot-value p 'poly)) '() ))\n",
    "                  )\n",
    "                 (poly-shortener (cdr res_tmp) (car res_tmp) (make-polynomial 0 0)  )\n",
    "             )\n",
    "    )\n",
    " )\n",
    "    "
   ]
  },
  {
   "cell_type": "code",
   "execution_count": 27,
   "metadata": {
    "scrolled": true
   },
   "outputs": [
    {
     "name": "stdout",
     "output_type": "stream",
     "text": [
      "\n",
      "24X + 6 "
     ]
    },
    {
     "data": {
      "text/plain": [
       "24X + 6"
      ]
     },
     "execution_count": 27,
     "metadata": {},
     "output_type": "execute_result"
    }
   ],
   "source": [
    "(let ( (t1 (MAKE-INSTANCE 'polynomial :poly  '(+ (* 4 (expt x 3)) (* 3 (expt x 2)) (* 2 (expt x 1)) (* 1 (expt x 0))) :deg 4))  \n",
    "      )\n",
    "     (differentiate t1)\n",
    "     ( print (differentiate (differentiate t1 )))\n",
    ")"
   ]
  },
  {
   "cell_type": "code",
   "execution_count": 28,
   "metadata": {},
   "outputs": [
    {
     "name": "stdout",
     "output_type": "stream",
     "text": [
      "zero(x)     = 0\n",
      "p(x)        = 4X^3 + 3X^2 + 2X + 1\n",
      "q(x)        = 3X^2 + 5\n",
      "p(x) + q(x) = 4X^3 + 6X^2 + 2X + 6\n",
      "p(x) * q(x) = 12X^5 + 9X^4 + 26X^3 + 18X^2 + 10X + 5\n",
      "p(q(x))     = 108X^6 + 567X^4 + 996X^2 + 586\n",
      "0 - p(x)    = -4X^3 - 3X^2 - 2X - 1\n",
      "p(3)        = 142\n",
      "p'(x)       = 12X^2 + 6X + 2\n",
      "p''(x)      = 24X + 6\n"
     ]
    },
    {
     "data": {
      "text/plain": [
       "NIL"
      ]
     },
     "execution_count": 28,
     "metadata": {},
     "output_type": "execute_result"
    }
   ],
   "source": [
    "(defvar *zero* (make-polynomial 0 0))\n",
    "(defvar *p1* (make-polynomial 4 3))\n",
    "(defvar *p2* (make-polynomial 3 2))\n",
    "(defvar *p3* (make-polynomial 1 0))\n",
    "(defvar *p4* (make-polynomial 2 1))\n",
    "(defvar *p* (plus *p1* (plus *p2* (plus *p3* *p4*))))\n",
    "\n",
    "(defvar *q1* (make-polynomial 3 2))\n",
    "(defvar *q2* (make-polynomial 5 0))\n",
    "(defvar *q* (plus *q1* *q2*))\n",
    "\n",
    "(defvar *r* (plus *p* *q*))\n",
    "(defvar *s* (times *p* *q*))\n",
    "(defvar *tt* (compose *p* *q*))\n",
    ";; (compose *p* *q*)\n",
    ";; (print (slot-value *p* 'poly))\n",
    ";; (print (slot-value *q* 'poly))\n",
    "\n",
    "(format t \"zero(x)     = ~s~C\" *zero* #\\linefeed)\n",
    "(format t \"p(x)        = ~s~C\" *p* #\\linefeed)\n",
    "(format t \"q(x)        = ~s~C\" *q* #\\linefeed)\n",
    "(format t \"p(x) + q(x) = ~s~C\" *r* #\\linefeed)\n",
    "(format t \"p(x) * q(x) = ~s~C\" *s* #\\linefeed)\n",
    "(format t \"p(q(x))     = ~s~C\" *tt* #\\linefeed)\n",
    "(format t \"0 - p(x)    = ~s~C\" (minus *zero* *p*) #\\linefeed)\n",
    "(format t \"p(3)        = ~s~C\" (evaluate *p* 3) #\\linefeed)\n",
    "(format t \"p'(x)       = ~s~C\" (differentiate *p*) #\\linefeed )\n",
    "(format t \"p''(x)      = ~s~C\" (differentiate (differentiate *p*)) #\\linefeed )\n",
    "\n",
    "\n",
    ";; (setq *test* (make-polynomial 5 5))\n",
    ";; (make-polynomial 4 3)"
   ]
  },
  {
   "cell_type": "code",
   "execution_count": null,
   "metadata": {},
   "outputs": [],
   "source": []
  }
 ],
 "metadata": {
  "kernelspec": {
   "display_name": "SBCL Lisp",
   "language": "lisp",
   "name": "lisp"
  },
  "language_info": {
   "codemirror_mode": "text/x-common-lisp",
   "mimetype": "text/x-common-lisp",
   "name": "common-lisp",
   "pygments_lexer": "common-lisp",
   "version": "X3J13"
  },
  "widgets": {
   "application/vnd.jupyter.widget-state+json": {
    "state": {},
    "version_major": 2,
    "version_minor": 0
   }
  }
 },
 "nbformat": 4,
 "nbformat_minor": 2
}
