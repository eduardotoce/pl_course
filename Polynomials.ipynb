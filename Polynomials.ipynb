{
 "cells": [
  {
   "cell_type": "code",
   "execution_count": 1,
   "metadata": {},
   "outputs": [
    {
     "data": {
      "text/plain": [
       "#<STANDARD-CLASS CL-JUPYTER-USER::POLYNOMIAL>"
      ]
     },
     "execution_count": 1,
     "metadata": {},
     "output_type": "execute_result"
    }
   ],
   "source": [
    "(defclass polynomial ()\n",
    "  ((poly :accessor poly\n",
    "         :initform nil\n",
    "         :initarg :poly)\n",
    "   (deg :accessor poly-deg\n",
    "        :initform 0\n",
    "        :initarg :deg)\n",
    "   )\n",
    ")"
   ]
  },
  {
   "cell_type": "code",
   "execution_count": 2,
   "metadata": {},
   "outputs": [
    {
     "data": {
      "text/plain": [
       "MAKE-POLYNOMIAL"
      ]
     },
     "execution_count": 2,
     "metadata": {},
     "output_type": "execute_result"
    }
   ],
   "source": [
    ";;; Make a polynomial taking advantage of program = data\n",
    ";;; new polynomial term of the form a * x^b:\n",
    "(defun make-polynomial (a b)\n",
    ";;     (print (append b (cons * a)))\n",
    "     (MAKE-INSTANCE 'polynomial :poly  `(+ (* ,a (expt (x ,b)))) :deg b)\n",
    ")"
   ]
  },
  {
   "cell_type": "code",
   "execution_count": 3,
   "metadata": {},
   "outputs": [
    {
     "data": {
      "text/plain": [
       "#<POLYNOMIAL {1001FB1AF3}>"
      ]
     },
     "execution_count": 3,
     "metadata": {},
     "output_type": "execute_result"
    }
   ],
   "source": [
    ";;;; TEST of make-polynomial\n",
    "(make-polynomial 2 3)"
   ]
  },
  {
   "cell_type": "code",
   "execution_count": 4,
   "metadata": {},
   "outputs": [
    {
     "data": {
      "text/plain": [
       "#<STANDARD-METHOD CL-JUPYTER-USER::DEGREE (POLYNOMIAL) {10022A4CD3}>"
      ]
     },
     "execution_count": 4,
     "metadata": {},
     "output_type": "execute_result"
    }
   ],
   "source": [
    "(defmethod degree ((p polynomial))\n",
    "    (labels ( (degree-1 (poly max)\n",
    ";;                         (print poly)\n",
    ";;                         (format t \"~C max: ~d calc: ~d \" #\\linefeed max (caddr (caddar poly)) )\n",
    "                (cond  ( (null poly) max ) \n",
    "                        ( (> (caddr (caddar poly)) max) (degree-1 (cdr poly) (caddr (caddar poly))) )\n",
    "                        (t (degree-1 (cdr poly) max))\n",
    "                )\n",
    "               )\n",
    "             )\n",
    "            (degree-1 (cdr (slot-value p 'poly)) 0)\n",
    "     )\n",
    "    \n",
    "    \n",
    "    )"
   ]
  },
  {
   "cell_type": "code",
   "execution_count": 5,
   "metadata": {},
   "outputs": [
    {
     "name": "stdout",
     "output_type": "stream",
     "text": [
      "\n",
      "3 \n",
      "7 \n",
      "10 "
     ]
    },
    {
     "data": {
      "text/plain": [
       "10"
      ]
     },
     "execution_count": 5,
     "metadata": {},
     "output_type": "execute_result"
    }
   ],
   "source": [
    ";;; TESTs of degree\n",
    "(let ( (t1 (MAKE-INSTANCE 'polynomial :poly  '(+ (* 1 (expt x 1)) (* 2 (expt x 2)) (* 3 (expt x 3))) :deg 3)) \n",
    "       (t2 (MAKE-INSTANCE 'polynomial :poly  '(+ (* 1 (expt x 1)) (* 2 (expt x 7)) (* 3 (expt x 3))) :deg 3)) \n",
    "       (t3 (MAKE-INSTANCE 'polynomial :poly  '(+ (* 1 (expt x 10)) (* 2 (expt x 2)) (* 3 (expt x 3))) :deg 3)) \n",
    "      )\n",
    "     ( print (degree t1))\n",
    "     ( print (degree t2))\n",
    "     ( print (degree t3))\n",
    "     \n",
    "     )"
   ]
  },
  {
   "cell_type": "code",
   "execution_count": 53,
   "metadata": {},
   "outputs": [
    {
     "name": "stderr",
     "output_type": "stream",
     "text": [
      "REDEFINITION-WITH-DEFMETHOD: \n",
      "  redefining PRINT-OBJECT (#<STANDARD-CLASS CL-JUPYTER-USER::POLYNOMIAL>\n",
      "                           #<SB-PCL:SYSTEM-CLASS COMMON-LISP:T>) in DEFMETHOD\n"
     ]
    },
    {
     "data": {
      "text/plain": [
       "#<STANDARD-METHOD COMMON-LISP:PRINT-OBJECT (POLYNOMIAL T) {1004FDF6F3}>"
      ]
     },
     "execution_count": 53,
     "metadata": {},
     "output_type": "execute_result"
    }
   ],
   "source": [
    "(defmethod print-object ((poly polynomial) out)\n",
    "    (labels ((to-string (stack term poly  )\n",
    ";;                 (print \"------------------------------------\")\n",
    ";;                 (print stack)\n",
    ";;                 (print  term)\n",
    ";;                 (print poly)\n",
    "                (cond  ((null term) (to-string-1 (reverse stack) \"\" ))\n",
    "                       ((atom term) term)\n",
    "                       ((eql (car term) '*) (to-string (push `(,(to-string stack (cadr term) poly) ,(to-string stack (caddr term) poly) ) stack) (car poly) (cdr poly) ) )\n",
    "                       ((eql (car term) 'expt) `(,(cadr term),(caddr term)))\n",
    ";;                        (t (to-string-1 stack))\n",
    "                 )\n",
    ";;                 (cond ()\n",
    ";; ;;                       (t )\n",
    ";;                       (t (print \"Finished\") stack)\n",
    ";;                  )\n",
    "            \n",
    ";;               (push (pop poly) stack)\n",
    ";;                         (print stack)\n",
    "              )\n",
    "              (to-string-1 (stack res )\n",
    ";;                            (print \"AT to-string-1\")\n",
    ";;                            (print stack)\n",
    ";;                            (format t \"res: ~s\" res)\n",
    ";;                            (print (car stack))\n",
    "                           (let* ((coef (caar stack))\n",
    "                                 (var  (caadar stack))\n",
    "                                 (exp  (car (cdadar stack)))\n",
    "                                 (str  (if (or (null coef) (equal res \"\") ) res (format nil \"~a ~:[- ~;+ ~]\" res (>= coef 0))))\n",
    "                                 )\n",
    ";;                                  (format t \"term: ~a~a~a~C\" coef var exp #\\linefeed)\n",
    ";;                                  (when (not (null coef)) (format res \"~a ~:[ - ~; + ~]\" res (> coef 0)))\n",
    "                                 (cond \n",
    "                                       ((null stack) res );(format t \"stack nil \"))\n",
    "                                       ((= coef 0) (to-string-1 (cdr stack) (format nil \"~a\" res)))\n",
    "                                       ((= exp 0)  (to-string-1 (cdr stack) (format nil \"~a~a\" str (abs coef) )))\n",
    "                                       ((and (= exp 1) (= (abs coef) 1)) (to-string-1 (cdr stack) (format nil \"~a~a\" str var )))\n",
    "                                       ((= (abs coef) 1) (to-string-1 (cdr stack) (format nil \"~a~a^~a\" str var exp ) ) )\n",
    "                                       ((= exp 1) (to-string-1 (cdr stack) (format nil \"~a~a~a\" str (abs coef) var)))\n",
    "                                       (t (to-string-1 (cdr stack) (format nil \"~a~a~a^~a\" str (abs coef) var exp )))\n",
    ";;                                        ((= (caar stack) 1) (format t \"T: ~:[+~;~]~a~a\" (equal res \"\") (caadar stack) (car (cdadar stack))) )\n",
    ";;                                  (t (format t \"T: ~@[~a~]~@[~a~]~@[^~a~] + ~@[~a~]~@[~a~]~@[^~a~]\" \n",
    ";;                                         (when (> (caar stack) 1) (caar stack) )  (when (/= 0 (car  (cdadar stack))) (caadar stack))       (when (> (car  (cdadar stack)) 1) (car (cdadar stack)) )  \n",
    ";;                                         (when (> (caadr stack) 1) (caadr stack)) (when (/= 0 (cadr (cadadr stack))) (car (cadadr stack))) (when (> (cadr (cadadr stack)) 1) (cadr (cadadr stack)) )\n",
    ";;                                      )\n",
    ";;                                   (t (print \"finished\"))\n",
    "                                     \n",
    ";;                                     (to-string-1 \n",
    ";;                                         (cddr stack) \n",
    ";;                                         res)\n",
    "                            )  ;(when (not (null stack)) (to-string-1 (cdr stack) res plus) )\n",
    "                        )\n",
    "                    )\n",
    ";;                            (format t \"~s^~d\" (cadr stack) (car stack) )\n",
    "                           \n",
    ";;                            (cond ((eql (car (last stack)) 'expt) (print \"eql\")  `(,(cadr stack) ^ ,(car stack))) ;(format t \"~s^~d\" (cadr stack) (car stack) ))\n",
    ";;                                  ((eql (car (last ))))\n",
    ";;                                (t (print \"OTHER :s\"))\n",
    ";;                               ) )\n",
    "             \n",
    "             ) \n",
    "            ;;     (format out \"~d\" (to-string poly) )\n",
    "           (format out \"~a\" (to-string '() (cadr (slot-value poly 'poly)) (cddr (slot-value poly 'poly) )  ) )\n",
    "     )\n",
    "    \n",
    "    \n",
    "\n",
    "      \n",
    "    )"
   ]
  },
  {
   "cell_type": "code",
   "execution_count": 54,
   "metadata": {
    "scrolled": true
   },
   "outputs": [
    {
     "name": "stdout",
     "output_type": "stream",
     "text": [
      "\n",
      "X - X + X^2 - X^2 + 1 + 2 - 1 + 2X \n",
      "1 + 2X^7 + 3X^3 \n",
      "X^10 + 2X^2 + 3X^3 "
     ]
    },
    {
     "data": {
      "text/plain": [
       "X^10 + 2X^2 + 3X^3"
      ]
     },
     "execution_count": 54,
     "metadata": {},
     "output_type": "execute_result"
    }
   ],
   "source": [
    "(let ( (t1 (MAKE-INSTANCE 'polynomial :poly  '(+ (* 0  (expt x 2 ))\n",
    "                                                 (* 1  (expt x 1 )) \n",
    "                                                 (* -1 (expt x 1 )) \n",
    "                                                 (* 1  (expt x 2 )) \n",
    "                                                 (* -1 (expt x 2 ))\n",
    "                                                 (* 1  (expt x 0 ))\n",
    "                                                 (* 2  (expt x 0 )) \n",
    "                                                 (* -1 (expt x 0 ))\n",
    "                                                 (* 2  (expt x 1 )) \n",
    "                                                  ) :deg 9)) \n",
    "       (t2 (MAKE-INSTANCE 'polynomial :poly  '(+ (* 1 (expt x 0 )) (* 2 (expt x 7)) (* 3 (expt x 3))) :deg 3)) \n",
    "       (t3 (MAKE-INSTANCE 'polynomial :poly  '(+ (* 1 (expt x 10)) (* 2 (expt x 2)) (* 3 (expt x 3))) :deg 3)) \n",
    "      )\n",
    "     ( print t1)\n",
    "     ( print t2)\n",
    "     ( print t3)\n",
    "     \n",
    "     )"
   ]
  },
  {
   "cell_type": "code",
   "execution_count": null,
   "metadata": {},
   "outputs": [],
   "source": [
    "(defvar *zero*)\n",
    "(defvar *p1*)\n",
    "(defvar *p2*)\n",
    "(defvar *p3*)\n",
    "(defvar *p4*)\n",
    "\n",
    "(defvar *test*)\n",
    "\n",
    "(setq *zero* (make-polynomial 0 0))\n",
    "(setq *p1* (make-polynomial 4 3))\n",
    "(setq *p2* (make-polynomial 3 2))\n",
    "(setq *p3* (make-polynomial 1 0))\n",
    "(setq *p4* (make-polynomial 2 1))\n",
    "\n",
    "(setq *test* (make-polynomial 5 5))\n",
    ";; (make-polynomial 4 3)"
   ]
  },
  {
   "cell_type": "code",
   "execution_count": null,
   "metadata": {},
   "outputs": [],
   "source": []
  }
 ],
 "metadata": {
  "kernelspec": {
   "display_name": "SBCL Lisp",
   "language": "lisp",
   "name": "lisp"
  },
  "language_info": {
   "codemirror_mode": "text/x-common-lisp",
   "mimetype": "text/x-common-lisp",
   "name": "common-lisp",
   "pygments_lexer": "common-lisp",
   "version": "X3J13"
  }
 },
 "nbformat": 4,
 "nbformat_minor": 2
}
