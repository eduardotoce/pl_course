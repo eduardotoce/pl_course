{
 "cells": [
  {
   "cell_type": "code",
   "execution_count": 1,
   "metadata": {},
   "outputs": [
    {
     "data": {
      "text/plain": [
       "#<STANDARD-CLASS CL-JUPYTER-USER::POLYNOMIAL>"
      ]
     },
     "execution_count": 1,
     "metadata": {},
     "output_type": "execute_result"
    }
   ],
   "source": [
    "(defclass polynomial ()\n",
    "  ((poly :accessor poly\n",
    "         :initform nil\n",
    "         :initarg :poly)\n",
    "   (deg :accessor poly-deg\n",
    "        :initform 0\n",
    "        :initarg :deg)\n",
    "   )\n",
    ")"
   ]
  },
  {
   "cell_type": "code",
   "execution_count": 2,
   "metadata": {},
   "outputs": [
    {
     "data": {
      "text/plain": [
       "MAKE-POLYNOMIAL"
      ]
     },
     "execution_count": 2,
     "metadata": {},
     "output_type": "execute_result"
    }
   ],
   "source": [
    ";;; Make a polynomial taking advantage of program = data\n",
    ";;; new polynomial term of the form a * x^b:\n",
    "(defun make-polynomial (a b)\n",
    ";;     (print (append b (cons * a)))\n",
    "     (MAKE-INSTANCE 'polynomial :poly  `(+ (* ,a (expt (x ,b)))) :deg b)\n",
    ")"
   ]
  },
  {
   "cell_type": "code",
   "execution_count": 3,
   "metadata": {},
   "outputs": [
    {
     "data": {
      "text/plain": [
       "#<POLYNOMIAL {1001FB1AF3}>"
      ]
     },
     "execution_count": 3,
     "metadata": {},
     "output_type": "execute_result"
    }
   ],
   "source": [
    ";;;; TEST of make-polynomial\n",
    "(make-polynomial 2 3)"
   ]
  },
  {
   "cell_type": "code",
   "execution_count": 4,
   "metadata": {},
   "outputs": [
    {
     "data": {
      "text/plain": [
       "#<STANDARD-METHOD CL-JUPYTER-USER::DEGREE (POLYNOMIAL) {10022A4CD3}>"
      ]
     },
     "execution_count": 4,
     "metadata": {},
     "output_type": "execute_result"
    }
   ],
   "source": [
    "(defmethod degree ((p polynomial))\n",
    "    (labels ( (degree-1 (poly max)\n",
    ";;                         (print poly)\n",
    ";;                         (format t \"~C max: ~d calc: ~d \" #\\linefeed max (caddr (caddar poly)) )\n",
    "                (cond  ( (null poly) max ) \n",
    "                        ( (> (caddr (caddar poly)) max) (degree-1 (cdr poly) (caddr (caddar poly))) )\n",
    "                        (t (degree-1 (cdr poly) max))\n",
    "                )\n",
    "               )\n",
    "             )\n",
    "            (degree-1 (cdr (slot-value p 'poly)) 0)\n",
    "     )\n",
    "    \n",
    "    \n",
    "    )"
   ]
  },
  {
   "cell_type": "code",
   "execution_count": 5,
   "metadata": {},
   "outputs": [
    {
     "name": "stdout",
     "output_type": "stream",
     "text": [
      "\n",
      "3 \n",
      "7 \n",
      "10 "
     ]
    },
    {
     "data": {
      "text/plain": [
       "10"
      ]
     },
     "execution_count": 5,
     "metadata": {},
     "output_type": "execute_result"
    }
   ],
   "source": [
    ";;; TESTs of degree\n",
    "(let ( (t1 (MAKE-INSTANCE 'polynomial :poly  '(+ (* 1 (expt x 1)) (* 2 (expt x 2)) (* 3 (expt x 3))) :deg 3)) \n",
    "       (t2 (MAKE-INSTANCE 'polynomial :poly  '(+ (* 1 (expt x 1)) (* 2 (expt x 7)) (* 3 (expt x 3))) :deg 3)) \n",
    "       (t3 (MAKE-INSTANCE 'polynomial :poly  '(+ (* 1 (expt x 10)) (* 2 (expt x 2)) (* 3 (expt x 3))) :deg 3)) \n",
    "      )\n",
    "     ( print (degree t1))\n",
    "     ( print (degree t2))\n",
    "     ( print (degree t3))\n",
    "     \n",
    "     )"
   ]
  },
  {
   "cell_type": "code",
   "execution_count": 144,
   "metadata": {},
   "outputs": [
    {
     "name": "stderr",
     "output_type": "stream",
     "text": [
      "REDEFINITION-WITH-DEFMETHOD: \n",
      "  redefining PRINT-OBJECT (#<STANDARD-CLASS CL-JUPYTER-USER::POLYNOMIAL>\n",
      "                           #<SB-PCL:SYSTEM-CLASS COMMON-LISP:T>) in DEFMETHOD\n"
     ]
    },
    {
     "data": {
      "text/plain": [
       "#<STANDARD-METHOD COMMON-LISP:PRINT-OBJECT (POLYNOMIAL T) {1004C99683}>"
      ]
     },
     "execution_count": 144,
     "metadata": {},
     "output_type": "execute_result"
    }
   ],
   "source": [
    "(defmethod print-object ((poly polynomial) out)\n",
    "    (labels ((to-string (stack term poly  )\n",
    ";;                 (print \"------------------------------------\")\n",
    ";;                 (print stack)\n",
    ";;                 (print  term)\n",
    ";;                 (print poly)\n",
    "                (cond  ((null term) (to-string-1 (reverse stack) \"\" ))\n",
    "                       ((atom term) term)\n",
    "                       ((eql (car term) '*) (to-string (push `(,(to-string stack (cadr term) poly) ,(to-string stack (caddr term) poly) ) stack) (car poly) (cdr poly) ) )\n",
    "                       ((eql (car term) 'expt) `(,(cadr term),(caddr term)))\n",
    ";;                        (t (to-string-1 stack))\n",
    "                 )\n",
    "\n",
    "              )\n",
    "              (to-string-1 (stack res )\n",
    ";;                            (print \"AT to-string-1\")\n",
    ";;                            (print stack)\n",
    ";;                            (format t \"res: ~s\" res)\n",
    ";;                            (print (car stack))\n",
    "                           (let* ((coef (caar stack))\n",
    "                                 (var  (caadar stack))\n",
    "                                 (exp  (car (cdadar stack)))\n",
    "                                 (str  (if (or (null coef) (equal res \"\") ) (if ( equal res \"\") (format nil \"~:[-~;~]\" (>= coef 0)) res) (format nil \"~a ~:[- ~;+ ~]\" res (>= coef 0))))\n",
    "                                 )\n",
    ";;                                  (format t \"term: ~a~a~a~C\" coef var exp #\\linefeed)\n",
    ";;                                  (when (not (null coef)) (format res \"~a ~:[ - ~; + ~]\" res (> coef 0)))\n",
    "                                 (cond \n",
    "                                       ((null stack) res );(format t \"stack nil \"))\n",
    "                                       ((= coef 0) (to-string-1 (cdr stack) (format nil \"~a\" res)))\n",
    "                                       ((= exp 0)  (to-string-1 (cdr stack) (format nil \"~a~a\" str (abs coef) )))\n",
    "                                       ((and (= exp 1) (= (abs coef) 1)) (to-string-1 (cdr stack) (format nil \"~a~a\" str var )))\n",
    "                                       ((= (abs coef) 1) (to-string-1 (cdr stack) (format nil \"~a~a^~a\" str var exp ) ) )\n",
    "                                       ((= exp 1) (to-string-1 (cdr stack) (format nil \"~a~a~a\" str (abs coef) var)))\n",
    "                                       (t (to-string-1 (cdr stack) (format nil \"~a~a~a^~a\" str (abs coef) var exp )))\n",
    "                                )\n",
    "                         )\n",
    "             ) )\n",
    "           (format out \"~a\" (to-string '() (cadr (slot-value poly 'poly)) (cddr (slot-value poly 'poly) )  ) )\n",
    "     )\n",
    "    \n",
    "    \n",
    "\n",
    "      \n",
    "    )"
   ]
  },
  {
   "cell_type": "code",
   "execution_count": 149,
   "metadata": {},
   "outputs": [
    {
     "name": "stdout",
     "output_type": "stream",
     "text": [
      "\n",
      "X + 2X^2 + 3X^3 \n",
      "X + 3X^3 + 2X^7 \n",
      "-2X^2 + 3X^3 + X^10 "
     ]
    },
    {
     "data": {
      "text/plain": [
       "-2X^2 + 3X^3 + X^10"
      ]
     },
     "execution_count": 149,
     "metadata": {},
     "output_type": "execute_result"
    }
   ],
   "source": [
    "(let ( (t1 (MAKE-INSTANCE 'polynomial :poly  '(+ (* 1 (expt x 1)) (* 2 (expt x 2)) (* 3 (expt x 3))) :deg 3)) \n",
    "       (t2 (MAKE-INSTANCE 'polynomial :poly  '(+ (* 1 (expt x 1)) (* 3 (expt x 3)) (* 2 (expt x 7))) :deg 3)) \n",
    "       (t3 (MAKE-INSTANCE 'polynomial :poly  '(+ (* -2 (expt x 2)) (* 3 (expt x 3)) (* 1 (expt x 10))) :deg 3))  \n",
    "      )\n",
    "     (print t1)\n",
    "     (print t2)\n",
    "     (print t3)\n",
    "     \n",
    "     )"
   ]
  },
  {
   "cell_type": "code",
   "execution_count": 135,
   "metadata": {},
   "outputs": [
    {
     "name": "stderr",
     "output_type": "stream",
     "text": [
      "REDEFINITION-WITH-DEFMETHOD: \n",
      "  redefining PLUS (#<STANDARD-CLASS CL-JUPYTER-USER::POLYNOMIAL>\n",
      "                   #<STANDARD-CLASS CL-JUPYTER-USER::POLYNOMIAL>) in DEFMETHOD\n"
     ]
    },
    {
     "data": {
      "text/plain": [
       "#<STANDARD-METHOD CL-JUPYTER-USER::PLUS (POLYNOMIAL POLYNOMIAL) {1005BA0353}>"
      ]
     },
     "execution_count": 135,
     "metadata": {},
     "output_type": "execute_result"
    }
   ],
   "source": [
    "(defmethod plus ((p1 polynomial) (p2 polynomial))\n",
    "    \n",
    "    (labels ( (plus-1 (p1 p2 res)\n",
    "                   (let ( (coef1 (cadar p1))\n",
    "                          (var1  (cadr(caddar p1)))\n",
    "                          (expt1 (caddr (caddar p1)))\n",
    "                          (coef2 (cadar p2))\n",
    "                          (var2  (cadr(caddar p2)))\n",
    "                          (expt2 (caddr (caddar p2)))\n",
    "                         )\n",
    ";;                         (print \"-----------------------------------\")\n",
    ";;                         (print res)\n",
    ";;                         (print p1)\n",
    ";;                         (print p2)\n",
    ";;                         (format t \"term1: ~a~a^~a\" coef1 var1 expt1)\n",
    ";;                         (format t \"term2: ~a~a^~a\" coef2 var2 expt2)\n",
    "                        \n",
    "                        (cond ((and (null p1) (null p2)) (cons '+ (reverse res)) )\n",
    "                              ((null p1) (plus-1 nil (cdr p2) (push `(* ,coef2 (expt ,var2 ,expt2)) res)))\n",
    "                              ((null p2) (plus-1 nil (cdr p1) (push `(* ,coef1 (expt ,var1 ,expt1)) res)))\n",
    "                              ((= expt1 expt2)  \n",
    "                                (plus-1 (cdr p1) (cdr p2) (push `(* ,(+ coef1 coef2) (expt ,var1 ,expt1)) res ) ))\n",
    "                              ((< expt1 expt2) \n",
    "                                (plus-1 (cdr p1) p2  (push `(* ,coef1 (expt ,var1 ,expt1)) res)) )\n",
    "                              ((> expt1 expt2) \n",
    "                                (plus-1 p1 (cdr p2)  (push `(* ,coef2 (expt ,var2 ,expt2)) res)) )\n",
    "                         )\n",
    "                    )\n",
    "               ) \n",
    "             \n",
    "             )\n",
    "            (let ((poly_res (MAKE-INSTANCE 'polynomial ) )\n",
    "                  (poly (plus-1 (cdr (slot-value p1 'poly)) (cdr (slot-value p2 'poly)) '() ))\n",
    "                   \n",
    "                   )\n",
    ";;                  (print \"after: \")\n",
    ";;                  (print poly)\n",
    "                 (setf (poly poly_res) poly)\n",
    "                 (setf (poly-deg  poly_res) (degree poly_res))\n",
    ";;                  (print (poly poly_res))\n",
    "                 poly_res\n",
    "                ) \n",
    ";;             (degree poly_res)\n",
    "            \n",
    "      )\n",
    ";;         (print p1)\n",
    ";;         (print p2)\n",
    "    \n",
    "    \n",
    ")"
   ]
  },
  {
   "cell_type": "code",
   "execution_count": 136,
   "metadata": {
    "scrolled": true
   },
   "outputs": [
    {
     "name": "stdout",
     "output_type": "stream",
     "text": [
      "\n",
      "2X + 2X^2 + 6X^3 + 2X^7 \n",
      "2X + 2X^2 + 6X^3 + 2X^7 \n",
      "X + 4X^2 + 6X^3 + X^10 \n",
      "X + 4X^2 + 6X^3 + X^10 \n",
      "X + 2X^2 + 6X^3 + 2X^7 + X^10 \n",
      "X + 2X^2 + 6X^3 + 2X^7 + X^10 "
     ]
    },
    {
     "data": {
      "text/plain": [
       "X + 2X^2 + 6X^3 + 2X^7 + X^10"
      ]
     },
     "execution_count": 136,
     "metadata": {},
     "output_type": "execute_result"
    }
   ],
   "source": [
    "(let ( (t1 (MAKE-INSTANCE 'polynomial :poly  '(+ (* 1 (expt x 1)) (* 2 (expt x 2)) (* 3 (expt x 3))) :deg 3)) \n",
    "       (t2 (MAKE-INSTANCE 'polynomial :poly  '(+ (* 1 (expt x 1)) (* 3 (expt x 3)) (* 2 (expt x 7))) :deg 3)) \n",
    "       (t3 (MAKE-INSTANCE 'polynomial :poly  '(+ (* 2 (expt x 2)) (* 3 (expt x 3)) (* 1 (expt x 10))) :deg 3)) \n",
    "      )\n",
    "     ( print (plus t1 t2))\n",
    "     ( print (plus t2 t1))\n",
    "     ( print (plus t1 t3))\n",
    "     ( print (plus t3 t1))\n",
    "     ( print (plus t2 t3))\n",
    "     ( print (plus t3 t2))\n",
    "     \n",
    "     )"
   ]
  },
  {
   "cell_type": "code",
   "execution_count": 157,
   "metadata": {},
   "outputs": [
    {
     "name": "stderr",
     "output_type": "stream",
     "text": [
      "REDEFINITION-WITH-DEFMETHOD: \n",
      "  redefining MINUS (#<STANDARD-CLASS CL-JUPYTER-USER::POLYNOMIAL>\n",
      "                    #<STANDARD-CLASS CL-JUPYTER-USER::POLYNOMIAL>) in DEFMETHOD\n"
     ]
    },
    {
     "data": {
      "text/plain": [
       "#<STANDARD-METHOD CL-JUPYTER-USER::MINUS (POLYNOMIAL POLYNOMIAL) {10045CFA33}>"
      ]
     },
     "execution_count": 157,
     "metadata": {},
     "output_type": "execute_result"
    }
   ],
   "source": [
    "(defmethod minus ((p1 polynomial) (p2 polynomial))\n",
    "    \n",
    "    (labels ( (minus-1 (p1 p2 res)\n",
    "                   (let ( (coef1 (cadar p1))\n",
    "                          (var1  (cadr(caddar p1)))\n",
    "                          (expt1 (caddr (caddar p1)))\n",
    "                          (coef2 (cadar p2))\n",
    "                          (var2  (cadr(caddar p2)))\n",
    "                          (expt2 (caddr (caddar p2)))\n",
    "                         )\n",
    ";;                         (print \"-----------------------------------\")\n",
    ";;                         (print res)\n",
    ";;                         (print p1)\n",
    ";;                         (print p2)\n",
    ";;                         (format t \"term1: ~a~a^~a\" coef1 var1 expt1)\n",
    ";;                         (format t \"term2: ~a~a^~a\" coef2 var2 expt2)\n",
    "                        \n",
    "                        (cond ((and (null p1) (null p2)) (cons '+ (reverse res)) )\n",
    "                              ((null p1) (minus-1 nil (cdr p2) (push `(* ,(- coef2) (expt ,var2 ,expt2)) res)))\n",
    "                              ((null p2) (minus-1 nil (cdr p1) (push `(* ,coef1 (expt ,var1 ,expt1)) res)))\n",
    "                              ((= expt1 expt2)  \n",
    "                                (minus-1 (cdr p1) (cdr p2) (push `(* ,(- coef1 coef2) (expt ,var1 ,expt1)) res ) ))\n",
    "                              ((< expt1 expt2) \n",
    "                                (minus-1 (cdr p1) p2  (push `(* ,coef1 (expt ,var1 ,expt1)) res)) )\n",
    "                              ((> expt1 expt2) \n",
    "                                (minus-1 p1 (cdr p2)  (push `(* ,(- coef2) (expt ,var2 ,expt2)) res)) )\n",
    "                         )\n",
    "                    )\n",
    "               ) \n",
    "             \n",
    "             )\n",
    "            (let ((poly_res (MAKE-INSTANCE 'polynomial ) )\n",
    "                  (poly (minus-1 (cdr (slot-value p1 'poly)) (cdr (slot-value p2 'poly)) '() ))\n",
    "                   \n",
    "                   )\n",
    ";;                  (print \"after: \")\n",
    ";;                  (print poly)\n",
    "                 (setf (poly poly_res) poly)\n",
    "                 (setf (poly-deg  poly_res) (degree poly_res))\n",
    ";;                  (print (poly poly_res))\n",
    "                 poly_res\n",
    "                ) \n",
    ";;             (degree poly_res)\n",
    "            \n",
    "      )\n",
    ";;         (print p1)\n",
    ";;         (print p2)\n",
    "    \n",
    "    \n",
    ")"
   ]
  },
  {
   "cell_type": "code",
   "execution_count": 158,
   "metadata": {},
   "outputs": [
    {
     "name": "stdout",
     "output_type": "stream",
     "text": [
      "\n",
      "2X^2 - 2X^7 \n",
      "-2X^2 + 2X^7 \n",
      "X - X^10 \n",
      "-X + X^10 \n",
      "X - 2X^2 + 2X^7 - X^10 \n",
      "-X + 2X^2 - 2X^7 + X^10 "
     ]
    },
    {
     "data": {
      "text/plain": [
       "-X + 2X^2 - 2X^7 + X^10"
      ]
     },
     "execution_count": 158,
     "metadata": {},
     "output_type": "execute_result"
    }
   ],
   "source": [
    "(let ( (t1 (MAKE-INSTANCE 'polynomial :poly  '(+ (* 1 (expt x 1)) (* 2 (expt x 2)) (* 3 (expt x 3))) :deg 3)) \n",
    "       (t2 (MAKE-INSTANCE 'polynomial :poly  '(+ (* 1 (expt x 1)) (* 3 (expt x 3)) (* 2 (expt x 7))) :deg 3)) \n",
    "       (t3 (MAKE-INSTANCE 'polynomial :poly  '(+ (* 2 (expt x 2)) (* 3 (expt x 3)) (* 1 (expt x 10))) :deg 3)) \n",
    "      )\n",
    "     ( print (minus t1 t2))\n",
    "     ( print (minus t2 t1))\n",
    "     ( print (minus t1 t3))\n",
    "     ( print (minus t3 t1))\n",
    "     ( print (minus t2 t3))\n",
    "     ( print (minus t3 t2))\n",
    "     \n",
    "     )"
   ]
  },
  {
   "cell_type": "code",
   "execution_count": null,
   "metadata": {},
   "outputs": [],
   "source": [
    "(defvar *zero*)\n",
    "(defvar *p1*)\n",
    "(defvar *p2*)\n",
    "(defvar *p3*)\n",
    "(defvar *p4*)\n",
    "\n",
    "(defvar *test*)\n",
    "\n",
    "(setq *zero* (make-polynomial 0 0))\n",
    "(setq *p1* (make-polynomial 4 3))\n",
    "(setq *p2* (make-polynomial 3 2))\n",
    "(setq *p3* (make-polynomial 1 0))\n",
    "(setq *p4* (make-polynomial 2 1))\n",
    "\n",
    "(setq *test* (make-polynomial 5 5))\n",
    ";; (make-polynomial 4 3)"
   ]
  },
  {
   "cell_type": "code",
   "execution_count": null,
   "metadata": {},
   "outputs": [],
   "source": []
  }
 ],
 "metadata": {
  "kernelspec": {
   "display_name": "SBCL Lisp",
   "language": "lisp",
   "name": "lisp"
  },
  "language_info": {
   "codemirror_mode": "text/x-common-lisp",
   "mimetype": "text/x-common-lisp",
   "name": "common-lisp",
   "pygments_lexer": "common-lisp",
   "version": "X3J13"
  },
  "widgets": {
   "application/vnd.jupyter.widget-state+json": {
    "state": {},
    "version_major": 2,
    "version_minor": 0
   }
  }
 },
 "nbformat": 4,
 "nbformat_minor": 2
}
