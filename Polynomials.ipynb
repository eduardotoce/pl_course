{
 "cells": [
  {
   "cell_type": "code",
   "execution_count": 139,
   "metadata": {},
   "outputs": [
    {
     "data": {
      "text/plain": [
       "#<STANDARD-CLASS CL-JUPYTER-USER::POLYNOMIAL>"
      ]
     },
     "execution_count": 139,
     "metadata": {},
     "output_type": "execute_result"
    }
   ],
   "source": [
    "(defclass polynomial ()\n",
    "  ((poly :accessor poly\n",
    "         :initform nil\n",
    "         :initarg :poly)\n",
    "   (deg :accessor poly-deg\n",
    "        :initform 0\n",
    "        :initarg :deg)\n",
    "   )\n",
    ")"
   ]
  },
  {
   "cell_type": "code",
   "execution_count": 140,
   "metadata": {},
   "outputs": [
    {
     "name": "stderr",
     "output_type": "stream",
     "text": [
      "REDEFINITION-WITH-DEFUN: \n",
      "  redefining CL-JUPYTER-USER::MAKE-POLYNOMIAL in DEFUN\n"
     ]
    },
    {
     "data": {
      "text/plain": [
       "MAKE-POLYNOMIAL"
      ]
     },
     "execution_count": 140,
     "metadata": {},
     "output_type": "execute_result"
    }
   ],
   "source": [
    ";;; Make a polynomial taking advantage of program = data\n",
    ";;; new polynomial term of the form a * x^b:\n",
    "(defun make-polynomial (a b)\n",
    ";;     (print (append b (cons * a)))\n",
    "    (MAKE-INSTANCE 'polynomial :poly  `(+ (* ,a (expt x ,b))) :deg b)\n",
    ";;     (MAKE-INSTANCE 'polynomial :poly  '(+ (* -2 (expt x 2)) ) :deg 1)\n",
    ")"
   ]
  },
  {
   "cell_type": "code",
   "execution_count": 141,
   "metadata": {},
   "outputs": [
    {
     "name": "stdout",
     "output_type": "stream",
     "text": [
      "\n",
      "2X^3 \n",
      "0 "
     ]
    },
    {
     "data": {
      "text/plain": [
       "0"
      ]
     },
     "execution_count": 141,
     "metadata": {},
     "output_type": "execute_result"
    }
   ],
   "source": [
    ";;;; TEST of make-polynomial\n",
    "(let ((t1 (make-polynomial 2 3))\n",
    "     (t2 (make-polynomial 0 0))\n",
    "      )\n",
    "     (print t1)\n",
    "     (print t2)\n",
    ")"
   ]
  },
  {
   "cell_type": "code",
   "execution_count": 142,
   "metadata": {},
   "outputs": [
    {
     "name": "stderr",
     "output_type": "stream",
     "text": [
      "REDEFINITION-WITH-DEFMETHOD: \n",
      "  redefining DEGREE (#<STANDARD-CLASS CL-JUPYTER-USER::POLYNOMIAL>) in DEFMETHOD\n"
     ]
    },
    {
     "data": {
      "text/plain": [
       "#<STANDARD-METHOD CL-JUPYTER-USER::DEGREE (POLYNOMIAL) {10037BB853}>"
      ]
     },
     "execution_count": 142,
     "metadata": {},
     "output_type": "execute_result"
    }
   ],
   "source": [
    "(defmethod degree ((p polynomial))\n",
    "    (labels ( (degree-1 (poly max)\n",
    ";;                         (print poly)\n",
    ";;                         (format t \"~C max: ~d calc: ~d \" #\\linefeed max (caddr (caddar poly)) )\n",
    "                (cond  ( (null poly) max ) \n",
    "                        ( (> (caddr (caddar poly)) max) (degree-1 (cdr poly) (caddr (caddar poly))) )\n",
    "                        (t (degree-1 (cdr poly) max))\n",
    "                )\n",
    "               )\n",
    "             )\n",
    "            (degree-1 (cdr (slot-value p 'poly)) 0)\n",
    "     )\n",
    "    \n",
    "    \n",
    "    )"
   ]
  },
  {
   "cell_type": "code",
   "execution_count": 143,
   "metadata": {},
   "outputs": [
    {
     "name": "stdout",
     "output_type": "stream",
     "text": [
      "\n",
      "3 \n",
      "7 \n",
      "10 "
     ]
    },
    {
     "data": {
      "text/plain": [
       "10"
      ]
     },
     "execution_count": 143,
     "metadata": {},
     "output_type": "execute_result"
    }
   ],
   "source": [
    ";;; TESTs of degree\n",
    "(let ( (t1 (MAKE-INSTANCE 'polynomial :poly  '(+ (* 1 (expt x 1)) (* 2 (expt x 2)) (* 3 (expt x 3))) :deg 3)) \n",
    "       (t2 (MAKE-INSTANCE 'polynomial :poly  '(+ (* 1 (expt x 1)) (* 2 (expt x 7)) (* 3 (expt x 3))) :deg 3)) \n",
    "       (t3 (MAKE-INSTANCE 'polynomial :poly  '(+ (* 1 (expt x 10)) (* 2 (expt x 2)) (* 3 (expt x 3))) :deg 3)) \n",
    "      )\n",
    "     ( print (degree t1))\n",
    "     ( print (degree t2))\n",
    "     ( print (degree t3))\n",
    "     \n",
    "     )"
   ]
  },
  {
   "cell_type": "code",
   "execution_count": 144,
   "metadata": {},
   "outputs": [
    {
     "name": "stderr",
     "output_type": "stream",
     "text": [
      "REDEFINITION-WITH-DEFMETHOD: \n",
      "  redefining PRINT-OBJECT (#<STANDARD-CLASS CL-JUPYTER-USER::POLYNOMIAL>\n",
      "                           #<SB-PCL:SYSTEM-CLASS COMMON-LISP:T>) in DEFMETHOD\n"
     ]
    },
    {
     "data": {
      "text/plain": [
       "#<STANDARD-METHOD COMMON-LISP:PRINT-OBJECT (POLYNOMIAL T) {1004209293}>"
      ]
     },
     "execution_count": 144,
     "metadata": {},
     "output_type": "execute_result"
    }
   ],
   "source": [
    "(defmethod print-object ((poly polynomial) out)\n",
    "    (labels ((to-string (stack term poly  )\n",
    ";;                 (print \"------------------------------------\")\n",
    ";;                 (print stack)\n",
    ";;                 (print  term)\n",
    ";;                 (print poly)\n",
    "                (cond  ((null term) (to-string-1  stack \"\" ))\n",
    "                       ((atom term) term)\n",
    "                       ((eql (car term) '*) (to-string (push `(,(to-string stack (cadr term) poly) ,(to-string stack (caddr term) poly) ) stack) (car poly) (cdr poly) ) )\n",
    "                       ((eql (car term) 'expt) `(,(cadr term),(caddr term)))\n",
    ";;                        (t (to-string-1 stack))\n",
    "                 )\n",
    "\n",
    "              )\n",
    "              (to-string-1 (stack res )\n",
    ";;                            (print \"AT to-string-1\")\n",
    ";;                            (print stack)\n",
    ";;                            (format t \"res: ~s\" res)\n",
    ";;                            (print (car stack))\n",
    "                           (let* ((coef (caar stack))\n",
    "                                 (var  (caadar stack))\n",
    "                                 (exp  (car (cdadar stack)))\n",
    "                                 (str  (if (or (null coef) (equal res \"\") ) (if ( null coef ) res (format nil \"~:[-~;~]\" (>= coef 0)) ) (format nil \"~a ~:[- ~;+ ~]\" res (>= coef 0))))\n",
    "                                 )\n",
    ";;                                  (format t \"term: ~a~a~a~C\" coef var exp #\\linefeed)\n",
    ";;                                  (when (not (null coef)) (format res \"~a ~:[ - ~; + ~]\" res (> coef 0)))\n",
    "                                 (cond \n",
    "                                       ((null stack) (if (equal res \"\") \"0\" res ));(format t \"stack nil \"))\n",
    ";;                                        ((= coef exp 0) (to-string-1 (cdr stack) res))\n",
    "                                       ((= coef 0) (to-string-1 (cdr stack) (format nil \"~a\" res)))\n",
    "                                       ((= exp 0)  (to-string-1 (cdr stack) (format nil \"~a~a\" str (abs coef) )))\n",
    "                                       ((and (= exp 1) (= (abs coef) 1)) (to-string-1 (cdr stack) (format nil \"~a~a\" str var )))\n",
    "                                       ((= (abs coef) 1) (to-string-1 (cdr stack) (format nil \"~a~a^~a\" str var exp ) ) )\n",
    "                                       ((= exp 1) (to-string-1 (cdr stack) (format nil \"~a~a~a\" str (abs coef) var)))\n",
    "                                       (t (to-string-1 (cdr stack) (format nil \"~a~a~a^~a\" str (abs coef) var exp )))\n",
    "                                )\n",
    "                         )\n",
    "             ) )\n",
    "           (format out \"~a\" (to-string '() (cadr (slot-value poly 'poly)) (cddr (slot-value poly 'poly) )  ) )\n",
    "     )\n",
    "    \n",
    "    \n",
    "\n",
    "      \n",
    "    )"
   ]
  },
  {
   "cell_type": "code",
   "execution_count": 145,
   "metadata": {},
   "outputs": [
    {
     "name": "stdout",
     "output_type": "stream",
     "text": [
      "\n",
      "3X^3 + 2X^2 + X \n",
      "2X^7 + 3X^3 + X \n",
      "0 "
     ]
    },
    {
     "data": {
      "text/plain": [
       "0"
      ]
     },
     "execution_count": 145,
     "metadata": {},
     "output_type": "execute_result"
    }
   ],
   "source": [
    "(let ( (t1 (MAKE-INSTANCE 'polynomial :poly  '(+ (* 1 (expt x 1)) (* 2 (expt x 2)) (* 3 (expt x 3))) :deg 3)) \n",
    "       (t2 (MAKE-INSTANCE 'polynomial :poly  '(+ (* 1 (expt x 1)) (* 3 (expt x 3)) (* 2 (expt x 7))) :deg 3)) \n",
    "       (t3 (MAKE-INSTANCE 'polynomial :poly  '(+ (* 0 (expt x 0)) ) :deg 1))  \n",
    "      )\n",
    "     (print t1)\n",
    "     (print t2)\n",
    "     (print t3)\n",
    "     \n",
    "     )"
   ]
  },
  {
   "cell_type": "code",
   "execution_count": 146,
   "metadata": {},
   "outputs": [
    {
     "name": "stderr",
     "output_type": "stream",
     "text": [
      "REDEFINITION-WITH-DEFMETHOD: \n",
      "  redefining PLUS (#<STANDARD-CLASS CL-JUPYTER-USER::POLYNOMIAL>\n",
      "                   #<STANDARD-CLASS CL-JUPYTER-USER::POLYNOMIAL>) in DEFMETHOD\n"
     ]
    },
    {
     "data": {
      "text/plain": [
       "#<STANDARD-METHOD CL-JUPYTER-USER::PLUS (POLYNOMIAL POLYNOMIAL) {1004AA3B33}>"
      ]
     },
     "execution_count": 146,
     "metadata": {},
     "output_type": "execute_result"
    }
   ],
   "source": [
    "(defmethod plus ((p1 polynomial) (p2 polynomial))\n",
    "    \n",
    "    (labels (\n",
    "             (plus-1 (p1 p2 res)\n",
    "                   (let ( (coef1 (cadar p1))\n",
    "                          (var1  (cadr(caddar p1)))\n",
    "                          (expt1 (caddr (caddar p1)))\n",
    "                          (coef2 (cadar p2))\n",
    "                          (var2  (cadr(caddar p2)))\n",
    "                          (expt2 (caddr (caddar p2)))\n",
    "                         )\n",
    ";;                         (print \"-----------------------------------\")\n",
    ";;                         (print res)\n",
    ";;                         (print p1)\n",
    ";;                         (print p2)\n",
    ";;                         (format t \"term1: ~a~a^~a\" coef1 var1 expt1)\n",
    ";;                         (format t \"term2: ~a~a^~a\" coef2 var2 expt2)\n",
    "                        \n",
    "                        (cond ((and (null p1) (null p2)) (cons '+ (reverse res)) )\n",
    "                              ((null p1) (plus-1 nil (cdr p2) (push `(* ,coef2 (expt ,var2 ,expt2)) res)))\n",
    "                              ((null p2) (plus-1 nil (cdr p1) (push `(* ,coef1 (expt ,var1 ,expt1)) res)))\n",
    "                              ((= expt1 expt2)  \n",
    "                                (plus-1 (cdr p1) (cdr p2) (push `(* ,(+ coef1 coef2) (expt ,var1 ,expt1)) res ) ))\n",
    "                              ((< expt1 expt2) \n",
    "                                (plus-1 (cdr p1) p2  (push `(* ,coef1 (expt ,var1 ,expt1)) res)) )\n",
    "                              ((> expt1 expt2) \n",
    "                                (plus-1 p1 (cdr p2)  (push `(* ,coef2 (expt ,var2 ,expt2)) res)) )\n",
    "                         )\n",
    "                    )\n",
    "               ) \n",
    "             \n",
    "             )\n",
    "            (let ((poly_res (MAKE-INSTANCE 'polynomial ) )\n",
    "                  (poly (plus-1 (cdr (slot-value p1 'poly)) (cdr (slot-value p2 'poly)) '() ))\n",
    "                   \n",
    "                   )\n",
    ";;                  (print \"after: \")\n",
    ";;                  (print poly)\n",
    "                 (setf (poly poly_res)  poly)\n",
    "                 (setf (poly-deg  poly_res) (degree poly_res))\n",
    ";;                  (print (poly poly_res))\n",
    "                 poly_res\n",
    "                ) \n",
    ";;             (degree poly_res)\n",
    "            \n",
    "      )\n",
    ";;         (print p1)\n",
    ";;         (print p2)\n",
    "    \n",
    "    \n",
    ")"
   ]
  },
  {
   "cell_type": "code",
   "execution_count": 147,
   "metadata": {
    "scrolled": true
   },
   "outputs": [
    {
     "name": "stdout",
     "output_type": "stream",
     "text": [
      "\n",
      "2X^7 + 6X^3 + 2X^2 + 2X \n",
      "2X^7 + 6X^3 + 2X^2 + 2X \n",
      "X^10 + 6X^3 + 4X^2 + X \n",
      "X^10 + 6X^3 + 4X^2 + X \n",
      "X^10 + 2X^7 + 6X^3 + 2X^2 + X \n",
      "X^10 + 2X^7 + 6X^3 + 2X^2 + X "
     ]
    },
    {
     "data": {
      "text/plain": [
       "X^10 + 2X^7 + 6X^3 + 2X^2 + X"
      ]
     },
     "execution_count": 147,
     "metadata": {},
     "output_type": "execute_result"
    }
   ],
   "source": [
    "(let ( (t1 (MAKE-INSTANCE 'polynomial :poly  '(+ (* 1 (expt x 1)) (* 2 (expt x 2)) (* 3 (expt x 3))) :deg 3)) \n",
    "       (t2 (MAKE-INSTANCE 'polynomial :poly  '(+ (* 1 (expt x 1)) (* 3 (expt x 3)) (* 2 (expt x 7))) :deg 3)) \n",
    "       (t3 (MAKE-INSTANCE 'polynomial :poly  '(+ (* 2 (expt x 2)) (* 3 (expt x 3)) (* 1 (expt x 10))) :deg 3)) \n",
    "      )\n",
    "     ( print (plus t1 t2))\n",
    "     ( print (plus t2 t1))\n",
    "     ( print (plus t1 t3))\n",
    "     ( print (plus t3 t1))\n",
    "     ( print (plus t2 t3))\n",
    "     ( print (plus t3 t2))\n",
    "     \n",
    "     )"
   ]
  },
  {
   "cell_type": "code",
   "execution_count": 148,
   "metadata": {},
   "outputs": [
    {
     "name": "stderr",
     "output_type": "stream",
     "text": [
      "REDEFINITION-WITH-DEFMETHOD: \n",
      "  redefining MINUS (#<STANDARD-CLASS CL-JUPYTER-USER::POLYNOMIAL>\n",
      "                    #<STANDARD-CLASS CL-JUPYTER-USER::POLYNOMIAL>) in DEFMETHOD\n"
     ]
    },
    {
     "data": {
      "text/plain": [
       "#<STANDARD-METHOD CL-JUPYTER-USER::MINUS (POLYNOMIAL POLYNOMIAL) {100573FA13}>"
      ]
     },
     "execution_count": 148,
     "metadata": {},
     "output_type": "execute_result"
    }
   ],
   "source": [
    "(defmethod minus ((p1 polynomial) (p2 polynomial))\n",
    "    \n",
    "    (labels ( (minus-1 (p1 p2 res)\n",
    "                   (let ( (coef1 (cadar p1))\n",
    "                          (var1  (cadr(caddar p1)))\n",
    "                          (expt1 (caddr (caddar p1)))\n",
    "                          (coef2 (cadar p2))\n",
    "                          (var2  (cadr(caddar p2)))\n",
    "                          (expt2 (caddr (caddar p2)))\n",
    "                         )\n",
    ";;                         (print \"-----------------------------------\")\n",
    ";;                         (print res)\n",
    ";;                         (print p1)\n",
    ";;                         (print p2)\n",
    ";;                         (format t \"term1: ~a~a^~a\" coef1 var1 expt1)\n",
    ";;                         (format t \"term2: ~a~a^~a\" coef2 var2 expt2)\n",
    "                        \n",
    "                        (cond ((and (null p1) (null p2)) (cons '+ (reverse res)) )\n",
    "                              ((null p1) (minus-1 nil (cdr p2) (push `(* ,(- coef2) (expt ,var2 ,expt2)) res)))\n",
    "                              ((null p2) (minus-1 nil (cdr p1) (push `(* ,coef1 (expt ,var1 ,expt1)) res)))\n",
    "                              ((= expt1 expt2)  \n",
    "                                (minus-1 (cdr p1) (cdr p2) (push `(* ,(- coef1 coef2) (expt ,var1 ,expt1)) res ) ))\n",
    "                              ((< expt1 expt2) \n",
    "                                (minus-1 (cdr p1) p2  (push `(* ,coef1 (expt ,var1 ,expt1)) res)) )\n",
    "                              ((> expt1 expt2) \n",
    "                                (minus-1 p1 (cdr p2)  (push `(* ,(- coef2) (expt ,var2 ,expt2)) res)) )\n",
    "                         )\n",
    "                    )\n",
    "               ) \n",
    "             \n",
    "             )\n",
    "            (let ((poly_res (MAKE-INSTANCE 'polynomial ) )\n",
    "                  (poly (minus-1 (cdr (slot-value p1 'poly)) (cdr (slot-value p2 'poly)) '() ))\n",
    "                   \n",
    "                   )\n",
    ";;                  (print \"after: \")\n",
    ";;                  (print poly)\n",
    "                 (setf (poly poly_res) poly)\n",
    "                 (setf (poly-deg  poly_res) (degree poly_res))\n",
    ";;                  (print (poly poly_res))\n",
    "                 poly_res\n",
    "                ) \n",
    ";;             (degree poly_res)\n",
    "            \n",
    "      )\n",
    ";;         (print p1)\n",
    ";;         (print p2)\n",
    "    \n",
    "    \n",
    ")"
   ]
  },
  {
   "cell_type": "code",
   "execution_count": 149,
   "metadata": {},
   "outputs": [
    {
     "name": "stdout",
     "output_type": "stream",
     "text": [
      "\n",
      "-2X^7 + 2X^2 \n",
      "2X^7 - 2X^2 \n",
      "-X^10 + X \n",
      "X^10 - X \n",
      "-X^10 + 2X^7 - 2X^2 + X \n",
      "X^10 - 2X^7 + 2X^2 - X "
     ]
    },
    {
     "data": {
      "text/plain": [
       "X^10 - 2X^7 + 2X^2 - X"
      ]
     },
     "execution_count": 149,
     "metadata": {},
     "output_type": "execute_result"
    }
   ],
   "source": [
    "(let ( (t1 (MAKE-INSTANCE 'polynomial :poly  '(+ (* 1 (expt x 1)) (* 2 (expt x 2)) (* 3 (expt x 3))) :deg 3)) \n",
    "       (t2 (MAKE-INSTANCE 'polynomial :poly  '(+ (* 1 (expt x 1)) (* 3 (expt x 3)) (* 2 (expt x 7))) :deg 3)) \n",
    "       (t3 (MAKE-INSTANCE 'polynomial :poly  '(+ (* 2 (expt x 2)) (* 3 (expt x 3)) (* 1 (expt x 10))) :deg 3)) \n",
    "      )\n",
    "     ( print (minus t1 t2))\n",
    "     ( print (minus t2 t1))\n",
    "     ( print (minus t1 t3))\n",
    "     ( print (minus t3 t1))\n",
    "     ( print (minus t2 t3))\n",
    "     ( print (minus t3 t2))\n",
    "     \n",
    "     )"
   ]
  },
  {
   "cell_type": "code",
   "execution_count": 150,
   "metadata": {},
   "outputs": [
    {
     "name": "stderr",
     "output_type": "stream",
     "text": [
      "REDEFINITION-WITH-DEFUN: \n",
      "  redefining CL-JUPYTER-USER::POLY-SHORTENER in DEFUN\n"
     ]
    },
    {
     "data": {
      "text/plain": [
       "POLY-SHORTENER"
      ]
     },
     "execution_count": 150,
     "metadata": {},
     "output_type": "execute_result"
    }
   ],
   "source": [
    "(defun poly-shortener (p term p_aux ) ; p is a list, term is one term of p (not in p) and p_aux is the poly result \n",
    ";;                       (print \"========================================\")\n",
    ";;                       (print p)\n",
    ";;                       (print term)\n",
    ";;                       (print p_aux)\n",
    "                      (let* ((poly_aux1 (MAKE-INSTANCE 'polynomial :poly (cons '+ `(,term) )))\n",
    "                            (res (plus p_aux poly_aux1)) \n",
    "                           )\n",
    ";;                             (print poly_aux1)\n",
    ";;                             (print p)\n",
    "                           (if (null p) res (poly-shortener (cdr p) (car p) res) )\n",
    "                      )\n",
    "                \n",
    "                      \n",
    "             )"
   ]
  },
  {
   "cell_type": "code",
   "execution_count": 151,
   "metadata": {},
   "outputs": [
    {
     "name": "stderr",
     "output_type": "stream",
     "text": [
      "SIMPLE-STYLE-WARNING: \n",
      "  The variable VAR2 is defined but never used.\n",
      "REDEFINITION-WITH-DEFMETHOD: \n",
      "  redefining TIMES (#<STANDARD-CLASS CL-JUPYTER-USER::POLYNOMIAL>\n",
      "                    #<STANDARD-CLASS CL-JUPYTER-USER::POLYNOMIAL>) in DEFMETHOD\n"
     ]
    },
    {
     "data": {
      "text/plain": [
       "#<STANDARD-METHOD CL-JUPYTER-USER::TIMES (POLYNOMIAL POLYNOMIAL) {100285D743}>"
      ]
     },
     "execution_count": 151,
     "metadata": {},
     "output_type": "execute_result"
    }
   ],
   "source": [
    "(defmethod times ((p1 polynomial) (p2 polynomial))\n",
    "    (labels ((times-1 (p1 p2 res) \n",
    "                  \n",
    "                  (cond ((null p2) res)\n",
    "                        (t  (times-1 p1 (cdr p2) (times-2 p1 (car p2) res)))\n",
    "                         \n",
    ";;                          (let* ((poly_aux (MAKE-INSTANCE 'polynomial ) )\n",
    ";;                                  (poly_res (MAKE-INSTANCE 'polynomial ) )\n",
    ";; ;;                                  (poly (times-1 p1 (cdr p2) (times-2 p1 (car p2) res)) )\n",
    ";;                                  (poly (times-2 p1 (car p2) res)) \n",
    "                                 \n",
    ";;                                    )\n",
    ";;                                  (cdr (slot-value p1 'poly))\n",
    ";;                                  (setf (poly poly_aux) poly)\n",
    ";;                                  (setf (poly poly_aux) res)\n",
    ";;                                  (times-1 p1 (cdr p2) (cdr (slot-value (plus poly_aux poly_res) 'poly)))\n",
    ";;                                 ()\n",
    "                            ) \n",
    ";;                  (setf (poly poly_res) poly)\n",
    ";;                  (setf (poly-deg  poly_res) (degree poly_res))\n",
    ";;                 )\n",
    ";;                            (times-1 p1 (cdr p2) (times-2 p1 (car p2) res)))\n",
    "                      \n",
    ";;                    )\n",
    "             )\n",
    "            (times-2 (p1 term2 res)\n",
    "                     (let ((coef1 (cadar p1))\n",
    "                           (var1  (cadr(caddar p1)))\n",
    "                           (expt1 (caddr (caddar p1)))\n",
    "                           (coef2 (cadr term2))\n",
    "                           (var2  (cadr (caddr term2)))\n",
    "                           (expt2 (caddr(caddr term2)))\n",
    "                          )\n",
    ";;                            (print \"-----------------------------------\")\n",
    ";;                            (print res)\n",
    ";;                            (print p1)\n",
    ";;                            (print term2)\n",
    ";;                            (format t \"term1: ~a~a^~a\" coef1 var1 expt1)\n",
    ";;                            (format t \"term2: ~a~a^~a\" coef2 var2 expt2)\n",
    "            \n",
    "                         (cond ((null p1) res)\n",
    "                               (t (times-2 (cdr p1) term2 (cons `(* ,(* coef1 coef2) (expt ,var1 ,(+ expt1 expt2))) res)))\n",
    "                          )\n",
    "                      )\n",
    "             )\n",
    "             (times-3 (p term p_aux )\n",
    ";;                       (print \"========================================\")\n",
    ";;                       (print p)\n",
    ";;                       (print term)\n",
    ";;                       (print p_aux)\n",
    "                      (let* ((poly_aux1 (MAKE-INSTANCE 'polynomial :poly (cons '+ `(,term) )))\n",
    "                            (res (plus p_aux poly_aux1)) \n",
    "                           )\n",
    ";;                             (print poly_aux1)\n",
    "                           (if (null p) res (times-3 (cdr p) (car p) res) )\n",
    "                      )\n",
    "                \n",
    "                      \n",
    "             )\n",
    "            \n",
    "            )\n",
    "            (let ( (res_tmp (times-1 (cdr (slot-value p1 'poly)) (cdr (slot-value p2 'poly)) '() ))\n",
    ";;                   (poly_aux1 (MAKE-INSTANCE 'polynomial \n",
    ";;                                 :poly (times-1 (cdr (slot-value p1 'poly)) (cdr (slot-value p2 'poly)) '() )))\n",
    "                  )\n",
    ";;                  (print \"going into times-3\")\n",
    "                 (poly-shortener (cdr res_tmp) (car res_tmp) (make-polynomial 0 0)  )\n",
    "             )\n",
    "            )\n",
    "    \n",
    "    \n",
    "    )"
   ]
  },
  {
   "cell_type": "code",
   "execution_count": 152,
   "metadata": {
    "scrolled": true
   },
   "outputs": [
    {
     "name": "stdout",
     "output_type": "stream",
     "text": [
      "\n",
      "12X^5 + 9X^4 + 26X^3 + 18X^2 + 10X + 5 "
     ]
    },
    {
     "data": {
      "text/plain": [
       "12X^5 + 9X^4 + 26X^3 + 18X^2 + 10X + 5"
      ]
     },
     "execution_count": 152,
     "metadata": {},
     "output_type": "execute_result"
    }
   ],
   "source": [
    "(let ( (t1 (MAKE-INSTANCE 'polynomial :poly  '(+ (* 4 (expt x 3)) (* 3 (expt x 2)) (* 2 (expt x 1)) (* 1 (expt x 0))) :deg 4)) \n",
    "       (t2 (MAKE-INSTANCE 'polynomial :poly  '(+ (* 3 (expt x 2)) (* 5 (expt x 0)) ) :deg 2)) \n",
    ";;        (t3 (MAKE-INSTANCE 'polynomial :poly  '(+ (* 2 (expt x 2)) (* 3 (expt x 3)) (* 1 (expt x 10))) :deg 3)) \n",
    "      )\n",
    "     ( print (times t1 t2))\n",
    "\n",
    "     \n",
    "     )"
   ]
  },
  {
   "cell_type": "code",
   "execution_count": 153,
   "metadata": {},
   "outputs": [
    {
     "name": "stderr",
     "output_type": "stream",
     "text": [
      "REDEFINITION-WITH-DEFMETHOD: \n",
      "  redefining COMPOSE (#<STANDARD-CLASS CL-JUPYTER-USER::POLYNOMIAL>\n",
      "                      #<STANDARD-CLASS CL-JUPYTER-USER::POLYNOMIAL>) in DEFMETHOD\n"
     ]
    },
    {
     "data": {
      "text/plain": [
       "#<STANDARD-METHOD CL-JUPYTER-USER::COMPOSE (POLYNOMIAL POLYNOMIAL) {1002C17583}>"
      ]
     },
     "execution_count": 153,
     "metadata": {},
     "output_type": "execute_result"
    }
   ],
   "source": [
    "(defmethod compose ((p1 polynomial) (p2 polynomial))\n",
    "    (labels ((compose-1 (p1 p2 res) ;; p1 is a list, p2 is a polynomial as is res\n",
    "                  (print res)\n",
    "                (cond ((null p1) res)\n",
    "                      (t (compose-1 (cdr p1) p2 (plus (make-polynomial (cadar p1) 0) (times p2 res))))\n",
    "                 )\n",
    "             \n",
    "              \n",
    "             \n",
    "             ) )\n",
    "             (compose-1 (reverse (cdr  (slot-value p1 'poly))) p2 (make-polynomial 0 0))\n",
    "     )\n",
    "    \n",
    " )"
   ]
  },
  {
   "cell_type": "code",
   "execution_count": 160,
   "metadata": {
    "scrolled": true
   },
   "outputs": [
    {
     "name": "stdout",
     "output_type": "stream",
     "text": [
      "\n",
      "0 \n",
      "1 \n",
      "3X^2 + 7 \n",
      "9X^4 + 36X^2 + 38 \n",
      "27X^6 + 153X^4 + 294X^2 + 194 \n",
      "27X^6 + 153X^4 + 294X^2 + 194 "
     ]
    },
    {
     "data": {
      "text/plain": [
       "27X^6 + 153X^4 + 294X^2 + 194"
      ]
     },
     "execution_count": 160,
     "metadata": {},
     "output_type": "execute_result"
    }
   ],
   "source": [
    "(let ( (t1 (MAKE-INSTANCE 'polynomial :poly  '(+ (* 4 (expt x 3)) (* 3 (expt x 2)) (* 2 (expt x 1)) (* 1 (expt x 0))) :deg 4)) \n",
    "       (t2 (MAKE-INSTANCE 'polynomial :poly  '(+ (* 3 (expt x 2)) (* 5 (expt x 0)) ) :deg 2)) \n",
    ";;        (t3 (MAKE-INSTANCE 'polynomial :poly  '(+ (* 2 (expt x 2)) (* 3 (expt x 3)) (* 1 (expt x 10))) :deg 3)) \n",
    "      )\n",
    "     ( print (compose t1 t2))\n",
    "\n",
    "     \n",
    "     )"
   ]
  },
  {
   "cell_type": "code",
   "execution_count": 155,
   "metadata": {},
   "outputs": [
    {
     "name": "stderr",
     "output_type": "stream",
     "text": [
      "REDEFINITION-WITH-DEFMETHOD: \n",
      "  redefining EVALUATE (#<STANDARD-CLASS CL-JUPYTER-USER::POLYNOMIAL>\n",
      "                       #<SB-PCL:SYSTEM-CLASS COMMON-LISP:T>) in DEFMETHOD\n"
     ]
    },
    {
     "data": {
      "text/plain": [
       "#<STANDARD-METHOD CL-JUPYTER-USER::EVALUATE (POLYNOMIAL T) {1002E5F923}>"
      ]
     },
     "execution_count": 155,
     "metadata": {},
     "output_type": "execute_result"
    }
   ],
   "source": [
    "(defmethod evaluate ((p1 polynomial) val)\n",
    "             (eval (subst val 'x (poly p1) ))\n",
    " )"
   ]
  },
  {
   "cell_type": "code",
   "execution_count": 156,
   "metadata": {},
   "outputs": [
    {
     "name": "stdout",
     "output_type": "stream",
     "text": [
      "\n",
      "142 "
     ]
    },
    {
     "data": {
      "text/plain": [
       "142"
      ]
     },
     "execution_count": 156,
     "metadata": {},
     "output_type": "execute_result"
    }
   ],
   "source": [
    "(let ( (t1 (MAKE-INSTANCE 'polynomial :poly  '(+ (* 4 (expt x 3)) (* 3 (expt x 2)) (* 2 (expt x 1)) (* 1 (expt x 0))) :deg 4)) \n",
    ";;        (t2 (MAKE-INSTANCE 'polynomial :poly  '(+ (* 3 (expt x 2)) (* 5 (expt x 0)) ) :deg 2)) \n",
    ";;        (t3 (MAKE-INSTANCE 'polynomial :poly  '(+ (* 2 (expt x 2)) (* 3 (expt x 3)) (* 1 (expt x 10))) :deg 3)) \n",
    "      )\n",
    "     ( print (evaluate t1 3))\n",
    "\n",
    "     \n",
    "     )"
   ]
  },
  {
   "cell_type": "code",
   "execution_count": 168,
   "metadata": {},
   "outputs": [
    {
     "name": "stderr",
     "output_type": "stream",
     "text": [
      "REDEFINITION-WITH-DEFMETHOD: \n",
      "  redefining DIFFERENTIATE (#<STANDARD-CLASS CL-JUPYTER-USER::POLYNOMIAL>) in DEFMETHOD\n"
     ]
    },
    {
     "data": {
      "text/plain": [
       "#<STANDARD-METHOD CL-JUPYTER-USER::DIFFERENTIATE (POLYNOMIAL) {1003C25F33}>"
      ]
     },
     "execution_count": 168,
     "metadata": {},
     "output_type": "execute_result"
    }
   ],
   "source": [
    "(defmethod differentiate ((p polynomial))\n",
    "    (labels ((differentiate-1 (p1 res) ; p1 is the list\n",
    ";;                               (print \"-----------------------------------\")\n",
    ";;                            (print res)\n",
    ";;                            (print p1)\n",
    "             (let ((coef (cadar p1))\n",
    "                    (var (cadr (caddar p1)))\n",
    "                    (exp (caddr (caddar p1)))\n",
    "                          )\n",
    ";;                            \n",
    ";;                            (print term2)\n",
    ";;                            (format t \"term1: ~a~a^~a\" coef var exp)\n",
    ";;                            (format t \"term2: ~a~a^~a\" coef2 var2 expt2)\n",
    "            \n",
    "                     (cond ((null p1) res)\n",
    "                           ((= exp 0) (differentiate-1 (cdr p1) (cons `(* 0 (expt ,var 0)) res)))\n",
    "                           (t (differentiate-1 (cdr p1) (cons `(* ,(* coef exp) (expt ,var ,(- exp 1))) res) ))\n",
    "                          )\n",
    "                      )\n",
    "             \n",
    "             )\n",
    "            \n",
    "         ) \n",
    ";;             (let ((aux (differentiate-1 (cdr (slot-value p 'poly)) '()) )\n",
    ";;                      )\n",
    ";;                  (print \"fixing\")\n",
    ";;                  (print aux)\n",
    ";;                      (MAKE-INSTANCE 'polynomial :poly \n",
    ";;                             (poly-shortener (cdr aux) (car aux) (make-polynomial 0 0) ))\n",
    ";;                  (print \"END\")\n",
    ";;                     )\n",
    "            (let ( (res_tmp (differentiate-1 (cdr (slot-value p 'poly)) '() ))\n",
    ";;                   (poly_aux1 (MAKE-INSTANCE 'polynomial \n",
    ";;                                 :poly (times-1 (cdr (slot-value p1 'poly)) (cdr (slot-value p2 'poly)) '() )))\n",
    "                  )\n",
    ";;                  (print \"going into times-3\")\n",
    "                 (poly-shortener (cdr res_tmp) (car res_tmp) (make-polynomial 0 0)  )\n",
    "             )\n",
    ";;                             (poly-shortener (cdr res_tmp) (car res_tmp) (make-polynomial 0 0)  )\n",
    "    )\n",
    " )\n",
    "    "
   ]
  },
  {
   "cell_type": "code",
   "execution_count": 158,
   "metadata": {
    "scrolled": true
   },
   "outputs": [
    {
     "name": "stdout",
     "output_type": "stream",
     "text": [
      "\n",
      "NIL \n",
      "((* 12 (EXPT X 2))) \n",
      "((* 6 (EXPT X 1)) (* 12 (EXPT X 2))) \n",
      "((* 2 (EXPT X 0)) (* 6 (EXPT X 1)) (* 12 (EXPT X 2))) \n",
      "((* 0 (EXPT X 0)) (* 2 (EXPT X 0)) (* 6 (EXPT X 1)) (* 12 (EXPT X 2))) \n",
      "NIL \n",
      "((* 12 (EXPT X 2))) \n",
      "((* 6 (EXPT X 1)) (* 12 (EXPT X 2))) \n",
      "((* 2 (EXPT X 0)) (* 6 (EXPT X 1)) (* 12 (EXPT X 2))) \n",
      "((* 0 (EXPT X 0)) (* 2 (EXPT X 0)) (* 6 (EXPT X 1)) (* 12 (EXPT X 2))) \n",
      "NIL \n",
      "((* 0 (EXPT X 0))) \n",
      "((* 6 (EXPT X 0)) (* 0 (EXPT X 0))) \n",
      "((* 24 (EXPT X 1)) (* 6 (EXPT X 0)) (* 0 (EXPT X 0))) \n",
      "24X + 6 "
     ]
    },
    {
     "data": {
      "text/plain": [
       "24X + 6"
      ]
     },
     "execution_count": 158,
     "metadata": {},
     "output_type": "execute_result"
    }
   ],
   "source": [
    "(let ( (t1 (MAKE-INSTANCE 'polynomial :poly  '(+ (* 4 (expt x 3)) (* 3 (expt x 2)) (* 2 (expt x 1)) (* 1 (expt x 0))) :deg 4)) \n",
    ";;        (t2 (MAKE-INSTANCE 'polynomial :poly  '(+ (* 3 (expt x 2)) (* 5 (expt x 0)) ) :deg 2)) \n",
    ";;        (t3 (MAKE-INSTANCE 'polynomial :poly  '(+ (* 2 (expt x 2)) (* 3 (expt x 3)) (* 1 (expt x 10))) :deg 3)) \n",
    "      )\n",
    ";;      ( print (differentiate t1 ))\n",
    "     (differentiate t1)\n",
    "     ( print (differentiate (differentiate t1 )))\n",
    "\n",
    "     \n",
    "     )"
   ]
  },
  {
   "cell_type": "code",
   "execution_count": 170,
   "metadata": {},
   "outputs": [
    {
     "name": "stdout",
     "output_type": "stream",
     "text": [
      "zero(x)     = 0\n",
      "p(x)        = 4X^3 + 3X^2 + 2X + 1\n",
      "q(x)        = 3X^2 + 5\n",
      "p(x) + q(x) = 4X^3 + 6X^2 + 2X + 6\n",
      "p(x) * q(x) = 12X^5 + 9X^4 + 26X^3 + 18X^2 + 10X + 5\n",
      "p(q(x))     = 108X^6 + 567X^4 + 996X^2 + 586\n",
      "0 - p(x)    = -4X^3 - 3X^2 - 2X - 1\n",
      "p(3)        = 142\n",
      "p'(x)       = 12X^2 + 6X + 2\n",
      "p''(x)      = 24X + 6\n"
     ]
    },
    {
     "data": {
      "text/plain": [
       "NIL"
      ]
     },
     "execution_count": 170,
     "metadata": {},
     "output_type": "execute_result"
    }
   ],
   "source": [
    "(defvar *zero* (make-polynomial 0 0))\n",
    "(defvar *p1* (make-polynomial 4 3))\n",
    "(defvar *p2* (make-polynomial 3 2))\n",
    "(defvar *p3* (make-polynomial 1 0))\n",
    "(defvar *p4* (make-polynomial 2 1))\n",
    "(defvar *p* (plus *p1* (plus *p2* (plus *p3* *p4*))))\n",
    "\n",
    "(defvar *q1* (make-polynomial 3 2))\n",
    "(defvar *q2* (make-polynomial 5 0))\n",
    "(defvar *q* (plus *q1* *q2*))\n",
    "\n",
    "(defvar *r* (plus *p* *q*))\n",
    "(defvar *s* (times *p* *q*))\n",
    "(defvar *tt* (compose *p* *q*))\n",
    ";; (compose *p* *q*)\n",
    ";; (print (slot-value *p* 'poly))\n",
    ";; (print (slot-value *q* 'poly))\n",
    "\n",
    "(format t \"zero(x)     = ~s~C\" *zero* #\\linefeed)\n",
    "(format t \"p(x)        = ~s~C\" *p* #\\linefeed)\n",
    "(format t \"q(x)        = ~s~C\" *q* #\\linefeed)\n",
    "(format t \"p(x) + q(x) = ~s~C\" *r* #\\linefeed)\n",
    "(format t \"p(x) * q(x) = ~s~C\" *s* #\\linefeed)\n",
    "(format t \"p(q(x))     = ~s~C\" *tt* #\\linefeed)\n",
    "(format t \"0 - p(x)    = ~s~C\" (minus *zero* *p*) #\\linefeed)\n",
    "(format t \"p(3)        = ~s~C\" (evaluate *p* 3) #\\linefeed)\n",
    "(format t \"p'(x)       = ~s~C\" (differentiate *p*) #\\linefeed )\n",
    "(format t \"p''(x)      = ~s~C\" (differentiate (differentiate *p*)) #\\linefeed )\n",
    "\n",
    "\n",
    ";; (setq *test* (make-polynomial 5 5))\n",
    ";; (make-polynomial 4 3)"
   ]
  },
  {
   "cell_type": "code",
   "execution_count": null,
   "metadata": {},
   "outputs": [],
   "source": []
  }
 ],
 "metadata": {
  "kernelspec": {
   "display_name": "SBCL Lisp",
   "language": "lisp",
   "name": "lisp"
  },
  "language_info": {
   "codemirror_mode": "text/x-common-lisp",
   "mimetype": "text/x-common-lisp",
   "name": "common-lisp",
   "pygments_lexer": "common-lisp",
   "version": "X3J13"
  },
  "widgets": {
   "application/vnd.jupyter.widget-state+json": {
    "state": {},
    "version_major": 2,
    "version_minor": 0
   }
  }
 },
 "nbformat": 4,
 "nbformat_minor": 2
}
