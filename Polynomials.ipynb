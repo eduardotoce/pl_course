{
 "cells": [
  {
   "cell_type": "code",
   "execution_count": null,
   "metadata": {},
   "outputs": [],
   "source": [
    "(defclass polynomial ()\n",
    "  ((poly :accessor poly\n",
    "         :initform nil\n",
    "         :initarg :poly)\n",
    "   (deg :accessor poly-deg\n",
    "        :initform 0\n",
    "        :initarg :deg)\n",
    "   )\n",
    ")"
   ]
  },
  {
   "cell_type": "code",
   "execution_count": null,
   "metadata": {},
   "outputs": [],
   "source": [
    ";;; Make a polynomial taking advantage of program = data\n",
    ";;; new polynomial term of the form a * x^b:\n",
    "(defun make-polynomial (a b)\n",
    ";;     (print (append b (cons * a)))\n",
    "     (MAKE-INSTANCE 'polynomial :poly  `(+ (* ,a (expt (x ,b)))) :deg b)\n",
    ")"
   ]
  },
  {
   "cell_type": "code",
   "execution_count": null,
   "metadata": {},
   "outputs": [],
   "source": [
    ";;;; TEST of make-polynomial\n",
    "(make-polynomial 2 3)"
   ]
  },
  {
   "cell_type": "code",
   "execution_count": null,
   "metadata": {},
   "outputs": [],
   "source": [
    "(defmethod degree ((p polynomial))\n",
    "    (labels ( (degree-1 (poly max)\n",
    ";;                         (print poly)\n",
    ";;                         (format t \"~C max: ~d calc: ~d \" #\\linefeed max (caddr (caddar poly)) )\n",
    "                (cond  ( (null poly) max ) \n",
    "                        ( (> (caddr (caddar poly)) max) (degree-1 (cdr poly) (caddr (caddar poly))) )\n",
    "                        (t (degree-1 (cdr poly) max))\n",
    "                )\n",
    "               )\n",
    "             )\n",
    "            (degree-1 (cdr (slot-value p 'poly)) 0)\n",
    "     )\n",
    "    \n",
    "    \n",
    "    )"
   ]
  },
  {
   "cell_type": "code",
   "execution_count": null,
   "metadata": {},
   "outputs": [],
   "source": [
    ";;; TESTs of degree\n",
    "(let ( (t1 (MAKE-INSTANCE 'polynomial :poly  '(+ (* 1 (expt x 1)) (* 2 (expt x 2)) (* 3 (expt x 3))) :deg 3)) \n",
    "       (t2 (MAKE-INSTANCE 'polynomial :poly  '(+ (* 1 (expt x 1)) (* 2 (expt x 7)) (* 3 (expt x 3))) :deg 3)) \n",
    "       (t3 (MAKE-INSTANCE 'polynomial :poly  '(+ (* 1 (expt x 10)) (* 2 (expt x 2)) (* 3 (expt x 3))) :deg 3)) \n",
    "      )\n",
    "     ( print (degree t1))\n",
    "     ( print (degree t2))\n",
    "     ( print (degree t3))\n",
    "     \n",
    "     )"
   ]
  },
  {
   "cell_type": "code",
   "execution_count": null,
   "metadata": {},
   "outputs": [],
   "source": [
    "(defmethod print-object ((poly polynomial) out)\n",
    "    (labels ((to-string (stack term poly  )\n",
    "                (print \"------------------------------------\")\n",
    "                (print stack)\n",
    "                (print  term)\n",
    "                (print poly)\n",
    "                (cond  ((null term) (to-string-1 (reverse stack) \"\" nil ))\n",
    "                       ((atom term) term)\n",
    "                       ((eql (car term) '*) (to-string (push `(,(to-string stack (cadr term) poly) ,(to-string stack (caddr term) poly) ) stack) (car poly) (cdr poly) ) )\n",
    "                       ((eql (car term) 'expt) `(,(cadr term),(caddr term)))\n",
    ";;                        (t (to-string-1 stack))\n",
    "                 )\n",
    ";;                 (cond ()\n",
    ";; ;;                       (t )\n",
    ";;                       (t (print \"Finished\") stack)\n",
    ";;                  )\n",
    "            \n",
    ";;               (push (pop poly) stack)\n",
    ";;                         (print stack)\n",
    "              )\n",
    "              (to-string-1 (stack res plus)\n",
    "                           (print \"AT to-string-1\")\n",
    "                           (print stack)\n",
    "                           (format t \"res: ~s\" res)\n",
    "                           (print (car stack))\n",
    "                           (let ((coef (caar stack))\n",
    "                                 (var  (caadar stack))\n",
    "                                 (exp  (car (cdadar stack)))\n",
    "                                 )\n",
    "                                 (format t \"term: ~a~a~a~C~C\" coef var exp #\\return #\\linefeed)\n",
    "                                 (when (not (null coef)) (format t \"T: ~:[ - ~; + ~]\" (> coef 0)))\n",
    "                                 (cond \n",
    "                                       ((null stack) (format t \"stack nil \"))\n",
    "                                       ((= coef 0) (format t \"0\"))\n",
    "                                       ((= exp 0)  (format t \"~a\"  (abs coef)))\n",
    "                                       ((and (= exp 1) (= (abs coef) 1)) (format t \"~a\" var )  )\n",
    "                                       ((= (abs coef) 1) (format t \"~a^~a \"  var exp ) )\n",
    "                                       ((= exp 1) (format t \"~a~a\" (abs coef) var))\n",
    "                                       \n",
    ";;                                        ((= (caar stack) 1) (format t \"T: ~:[+~;~]~a~a\" (equal res \"\") (caadar stack) (car (cdadar stack))) )\n",
    ";;                                  (t (format t \"T: ~@[~a~]~@[~a~]~@[^~a~] + ~@[~a~]~@[~a~]~@[^~a~]\" \n",
    ";;                                         (when (> (caar stack) 1) (caar stack) )  (when (/= 0 (car  (cdadar stack))) (caadar stack))       (when (> (car  (cdadar stack)) 1) (car (cdadar stack)) )  \n",
    ";;                                         (when (> (caadr stack) 1) (caadr stack)) (when (/= 0 (cadr (cadadr stack))) (car (cadadr stack))) (when (> (cadr (cadadr stack)) 1) (cadr (cadadr stack)) )\n",
    ";;                                      )\n",
    "                                  (t (print \"finished\"))\n",
    "                                     \n",
    ";;                                     (to-string-1 \n",
    ";;                                         (cddr stack) \n",
    ";;                                         res)\n",
    "                            )  (when (not (null stack)) (to-string-1 (cdr stack) res plus) )\n",
    "                        )\n",
    "                    )\n",
    ";;                            (format t \"~s^~d\" (cadr stack) (car stack) )\n",
    "                           \n",
    ";;                            (cond ((eql (car (last stack)) 'expt) (print \"eql\")  `(,(cadr stack) ^ ,(car stack))) ;(format t \"~s^~d\" (cadr stack) (car stack) ))\n",
    ";;                                  ((eql (car (last ))))\n",
    ";;                                (t (print \"OTHER :s\"))\n",
    ";;                               ) )\n",
    "             \n",
    "             ) \n",
    "            ;;     (format out \"~d\" (to-string poly) )\n",
    "            (to-string '() (cadr (slot-value poly 'poly)) (cddr (slot-value poly 'poly) )  ) \n",
    "     )\n",
    "    \n",
    "    \n",
    "\n",
    "      \n",
    "    )"
   ]
  },
  {
   "cell_type": "code",
   "execution_count": 11,
   "metadata": {
    "scrolled": false
   },
   "outputs": [
    {
     "name": "stderr",
     "output_type": "stream",
     "text": [
      "SIMPLE-STYLE-WARNING: \n",
      "  The variable T2 is defined but never used.\n",
      "\n",
      "SIMPLE-STYLE-WARNING: \n",
      "  The variable T3 is defined but never used.\n"
     ]
    },
    {
     "data": {
      "text/plain": []
     },
     "execution_count": 11,
     "metadata": {},
     "output_type": "execute_result"
    }
   ],
   "source": [
    "(let ( (t1 (MAKE-INSTANCE 'polynomial :poly  '(+ (* 0  (expt x 2 ))\n",
    "                                                 (* 1  (expt x 1 )) \n",
    "                                                 (* -1 (expt x 1 )) \n",
    "                                                 (* 1  (expt x 2 )) \n",
    "                                                 (* -1 (expt x 2 ))\n",
    "                                                 (* 1  (expt x 0 ))\n",
    "                                                 (* 2  (expt x 0 )) \n",
    "                                                 (* -1 (expt x 0 ))\n",
    "                                                 (* 2 (expt x 1 )) ) :deg 9)) \n",
    "       (t2 (MAKE-INSTANCE 'polynomial :poly  '(+ (* 1 (expt x 0 )) (* 2 (expt x 7)) (* 3 (expt x 3))) :deg 3)) \n",
    "       (t3 (MAKE-INSTANCE 'polynomial :poly  '(+ (* 1 (expt x 10)) (* 2 (expt x 2)) (* 3 (expt x 3))) :deg 3)) \n",
    "      )\n",
    "     ( print t1)\n",
    ";;      ( print t2)\n",
    ";;      ( print t3)\n",
    "     \n",
    "     )"
   ]
  },
  {
   "cell_type": "code",
   "execution_count": null,
   "metadata": {},
   "outputs": [],
   "source": [
    "(defvar *zero*)\n",
    "(defvar *p1*)\n",
    "(defvar *p2*)\n",
    "(defvar *p3*)\n",
    "(defvar *p4*)\n",
    "\n",
    "(defvar *test*)\n",
    "\n",
    "(setq *zero* (make-polynomial 0 0))\n",
    "(setq *p1* (make-polynomial 4 3))\n",
    "(setq *p2* (make-polynomial 3 2))\n",
    "(setq *p3* (make-polynomial 1 0))\n",
    "(setq *p4* (make-polynomial 2 1))\n",
    "\n",
    "(setq *test* (make-polynomial 5 5))\n",
    ";; (make-polynomial 4 3)"
   ]
  },
  {
   "cell_type": "code",
   "execution_count": null,
   "metadata": {},
   "outputs": [],
   "source": []
  }
 ],
 "metadata": {
  "kernelspec": {
   "display_name": "SBCL Lisp",
   "language": "lisp",
   "name": "lisp"
  },
  "language_info": {
   "codemirror_mode": "text/x-common-lisp",
   "mimetype": "text/x-common-lisp",
   "name": "common-lisp",
   "pygments_lexer": "common-lisp",
   "version": "X3J13"
  }
 },
 "nbformat": 4,
 "nbformat_minor": 2
}
