{
 "cells": [
  {
   "cell_type": "markdown",
   "metadata": {},
   "source": [
    "# LISP tutorial "
   ]
  },
  {
   "cell_type": "markdown",
   "metadata": {},
   "source": [
    "## Introduction"
   ]
  },
  {
   "cell_type": "markdown",
   "metadata": {},
   "source": [
    "### commenting"
   ]
  },
  {
   "cell_type": "code",
   "execution_count": 40,
   "metadata": {},
   "outputs": [
    {
     "name": "stdout",
     "output_type": "stream",
     "text": [
      "Hello world\n"
     ]
    },
    {
     "data": {
      "text/plain": [
       "Nil"
      ]
     },
     "execution_count": 40,
     "metadata": {},
     "output_type": "execute_result"
    }
   ],
   "source": [
    ";;; Comment\n",
    ";; Comment that is indented with code\n",
    "; Comment after a line of code\n",
    "\n",
    "#||\n",
    "Multiline Comment\n",
    "||#\n",
    "\n",
    ";;; ~% prints a newline with format\n",
    "(format t \"Hello world~%\")"
   ]
  },
  {
   "cell_type": "code",
   "execution_count": 141,
   "metadata": {},
   "outputs": [
    {
     "name": "stderr",
     "output_type": "stream",
     "text": [
      "Type-Error: \n",
      "  #<Type-Error expected-type: Number datum: \"hola\">\n"
     ]
    },
    {
     "data": {
      "text/plain": [
       "Nil"
      ]
     },
     "execution_count": 141,
     "metadata": {},
     "output_type": "execute_result"
    }
   ],
   "source": [
    "(+ 2 \"hola\")"
   ]
  },
  {
   "cell_type": "code",
   "execution_count": 142,
   "metadata": {},
   "outputs": [
    {
     "name": "stdout",
     "output_type": "stream",
     "text": [
      "\n",
      "5 \n",
      "\"Hello\" "
     ]
    },
    {
     "name": "stderr",
     "output_type": "stream",
     "text": [
      "Simple-Warning: \n",
      "undefined variable: I\n",
      "Simple-Warning: \n",
      "undefined variable: I\n"
     ]
    },
    {
     "data": {
      "text/plain": [
       "\"Hello\""
      ]
     },
     "execution_count": 142,
     "metadata": {},
     "output_type": "execute_result"
    }
   ],
   "source": [
    "(setq i 5)\n",
    "(print i)\n",
    "(setq i \"Hello\")\n",
    "(print i)"
   ]
  },
  {
   "cell_type": "code",
   "execution_count": 143,
   "metadata": {},
   "outputs": [
    {
     "name": "stderr",
     "output_type": "stream",
     "text": [
      "Redefinition-With-Defun: \n",
      "  redefining Cl-Jupyter-User::Compose in DEFUN\n"
     ]
    },
    {
     "data": {
      "text/plain": [
       "Compose"
      ]
     },
     "execution_count": 143,
     "metadata": {},
     "output_type": "execute_result"
    }
   ],
   "source": [
    "(defun compose (f g) \n",
    "  #'(lambda (x) \n",
    "      (funcall f (funcall g x))))"
   ]
  },
  {
   "cell_type": "code",
   "execution_count": 144,
   "metadata": {},
   "outputs": [
    {
     "name": "stderr",
     "output_type": "stream",
     "text": [
      "Redefinition-With-Defun: \n",
      "  redefining Cl-Jupyter-User::Copy-Cell in DEFUN\n"
     ]
    },
    {
     "data": {
      "text/plain": [
       "Copy-Cell"
      ]
     },
     "execution_count": 144,
     "metadata": {},
     "output_type": "execute_result"
    }
   ],
   "source": [
    "(defun copy-cell (x) (cons (car x) (cdr x)))"
   ]
  },
  {
   "cell_type": "code",
   "execution_count": 145,
   "metadata": {},
   "outputs": [
    {
     "data": {
      "text/plain": [
       "3.0"
      ]
     },
     "execution_count": 145,
     "metadata": {},
     "output_type": "execute_result"
    }
   ],
   "source": [
    "(funcall (compose #'sqrt #'abs) -9.0)"
   ]
  },
  {
   "cell_type": "markdown",
   "metadata": {},
   "source": [
    "#### printing"
   ]
  },
  {
   "cell_type": "code",
   "execution_count": 146,
   "metadata": {},
   "outputs": [
    {
     "name": "stdout",
     "output_type": "stream",
     "text": [
      "\n",
      "\"hello world\" "
     ]
    },
    {
     "data": {
      "text/plain": [
       "\"hello world\""
      ]
     },
     "execution_count": 146,
     "metadata": {},
     "output_type": "execute_result"
    }
   ],
   "source": [
    "(print \"hello world\")"
   ]
  },
  {
   "cell_type": "code",
   "execution_count": 154,
   "metadata": {},
   "outputs": [
    {
     "name": "stdout",
     "output_type": "stream",
     "text": [
      "Hello world \n"
     ]
    },
    {
     "data": {
      "text/plain": [
       "Nil"
      ]
     },
     "execution_count": 154,
     "metadata": {},
     "output_type": "execute_result"
    }
   ],
   "source": [
    "(format t \"Hello world ~%\")"
   ]
  },
  {
   "cell_type": "code",
   "execution_count": 148,
   "metadata": {},
   "outputs": [
    {
     "name": "stdout",
     "output_type": "stream",
     "text": [
      "\n",
      "\"What's your name\" "
     ]
    },
    {
     "data": {
      "text/plain": [
       "\"What's your name\""
      ]
     },
     "execution_count": 148,
     "metadata": {},
     "output_type": "execute_result"
    }
   ],
   "source": [
    "(print \"What's your name\")"
   ]
  },
  {
   "cell_type": "markdown",
   "metadata": {},
   "source": [
    "for naming variables you can use\n",
    " - letters(lower case) numebrs + - _ * > < ? ! ...<br>\n",
    " \n",
    "Do nor use spaces<br>\n",
    "Lisp is not case sentitive<br>"
   ]
  },
  {
   "cell_type": "markdown",
   "metadata": {},
   "source": [
    "The format statement starts with t to print to the console <br>\n",
    "The control sequence begins with a ~ <br>\n",
    ">   ~a : Shows the value <br>\n",
    "~s : Shows quotes around the value <br> \n",
    "~10a : Adds 10 spaces for the value with extra space to the right <br>\n",
    "~10@a : Adds 10 spaces for the value with extra space to the lef <br>"
   ]
  },
  {
   "cell_type": "markdown",
   "metadata": {},
   "source": [
    "A form is a list with a command function name at the beginning  <br>\n",
    "Everything that follows the command is sent as parameters to the function"
   ]
  },
  {
   "cell_type": "code",
   "execution_count": 155,
   "metadata": {},
   "outputs": [
    {
     "data": {
      "text/plain": [
       "9"
      ]
     },
     "execution_count": 155,
     "metadata": {},
     "output_type": "execute_result"
    }
   ],
   "source": [
    "(+ 5 4)"
   ]
  },
  {
   "cell_type": "markdown",
   "metadata": {
    "collapsed": true
   },
   "source": [
    "You can nest a form inside of a form "
   ]
  },
  {
   "cell_type": "code",
   "execution_count": 156,
   "metadata": {},
   "outputs": [
    {
     "data": {
      "text/plain": [
       "9"
      ]
     },
     "execution_count": 156,
     "metadata": {},
     "output_type": "execute_result"
    }
   ],
   "source": [
    "(+ 5 (- 6 2))"
   ]
  },
  {
   "cell_type": "markdown",
   "metadata": {},
   "source": [
    "You define a Data Mode command by proceeding with a quote '"
   ]
  },
  {
   "cell_type": "code",
   "execution_count": 157,
   "metadata": {},
   "outputs": [
    {
     "data": {
      "text/plain": [
       "(+ 5 4)"
      ]
     },
     "execution_count": 157,
     "metadata": {},
     "output_type": "execute_result"
    }
   ],
   "source": [
    "'(+ 5 4)"
   ]
  },
  {
   "cell_type": "markdown",
   "metadata": {},
   "source": [
    "Everything is a list in which each piece is held in a Cons Cell (Consecutive Cell) <br>\n",
    " [+] [5] [4] [nil] with nil defining the end of the list\n"
   ]
  },
  {
   "cell_type": "markdown",
   "metadata": {},
   "source": [
    "Format"
   ]
  },
  {
   "cell_type": "code",
   "execution_count": 161,
   "metadata": {},
   "outputs": [
    {
     "name": "stdout",
     "output_type": "stream",
     "text": [
      "\n"
     ]
    },
    {
     "data": {
      "text/plain": [
       "Nil"
      ]
     },
     "execution_count": 161,
     "metadata": {},
     "output_type": "execute_result"
    }
   ],
   "source": [
    "(terpri)"
   ]
  },
  {
   "cell_type": "code",
   "execution_count": 160,
   "metadata": {},
   "outputs": [
    {
     "name": "stdout",
     "output_type": "stream",
     "text": [
      "Number with commas 10,000,000\n",
      "PI to 5 characters 3.142\n",
      "PI to 4 decimals 3.1416\n",
      "10 Percent 10.0\n",
      "10 Dollars 10.00 \n"
     ]
    },
    {
     "data": {
      "text/plain": [
       "Nil"
      ]
     },
     "execution_count": 160,
     "metadata": {},
     "output_type": "execute_result"
    }
   ],
   "source": [
    "(format t \"Number with commas ~:d\" 10000000) (terpri)\n",
    "\n",
    "(format t \"PI to 5 characters ~5f\" 3.141593) (terpri)\n",
    "\n",
    "(format t \"PI to 4 decimals ~,4f\" 3.141593) (terpri)\n",
    "\n",
    "(format t \"10 Percent ~,,2f\" .10) (terpri)\n",
    "\n",
    "(format t \"10 Dollars ~$ ~%\" 10)"
   ]
  },
  {
   "cell_type": "markdown",
   "metadata": {},
   "source": [
    "## Numbers"
   ]
  },
  {
   "cell_type": "markdown",
   "metadata": {},
   "source": [
    "Numbers are provided in various forms and representations."
   ]
  },
  {
   "cell_type": "markdown",
   "metadata": {},
   "source": [
    "## Integers"
   ]
  },
  {
   "cell_type": "markdown",
   "metadata": {},
   "source": [
    "The  integer  data  type  is  intended  to  represent mathematical integers. Common LISP imposes no limit on the magnitude of an integer; storage is automatically allocated as necessary to represent large integers."
   ]
  },
  {
   "cell_type": "markdown",
   "metadata": {},
   "source": [
    "Zero"
   ]
  },
  {
   "cell_type": "code",
   "execution_count": 44,
   "metadata": {},
   "outputs": [
    {
     "data": {
      "text/plain": [
       "0"
      ]
     },
     "execution_count": 44,
     "metadata": {},
     "output_type": "execute_result"
    }
   ],
   "source": [
    "0"
   ]
  },
  {
   "cell_type": "code",
   "execution_count": 45,
   "metadata": {},
   "outputs": [
    {
     "data": {
      "text/plain": [
       "0"
      ]
     },
     "execution_count": 45,
     "metadata": {},
     "output_type": "execute_result"
    }
   ],
   "source": [
    "-0"
   ]
  },
  {
   "cell_type": "markdown",
   "metadata": {},
   "source": [
    "Digit with a point still an integer"
   ]
  },
  {
   "cell_type": "code",
   "execution_count": 54,
   "metadata": {},
   "outputs": [
    {
     "data": {
      "text/plain": [
       "1"
      ]
     },
     "execution_count": 54,
     "metadata": {},
     "output_type": "execute_result"
    }
   ],
   "source": [
    "1."
   ]
  },
  {
   "cell_type": "code",
   "execution_count": 42,
   "metadata": {},
   "outputs": [
    {
     "data": {
      "text/plain": [
       "15511210043330985984000000"
      ]
     },
     "execution_count": 42,
     "metadata": {},
     "output_type": "execute_result"
    }
   ],
   "source": [
    "15511210043330985984000000"
   ]
  },
  {
   "cell_type": "markdown",
   "metadata": {},
   "source": [
    "two types of integers, bignum and fixnum"
   ]
  },
  {
   "cell_type": "code",
   "execution_count": 56,
   "metadata": {},
   "outputs": [
    {
     "data": {
      "text/plain": [
       "4611686018427387903"
      ]
     },
     "execution_count": 56,
     "metadata": {},
     "output_type": "execute_result"
    }
   ],
   "source": [
    "most-positive-fixnum"
   ]
  },
  {
   "cell_type": "code",
   "execution_count": 57,
   "metadata": {},
   "outputs": [
    {
     "data": {
      "text/plain": [
       "-4611686018427387904"
      ]
     },
     "execution_count": 57,
     "metadata": {},
     "output_type": "execute_result"
    }
   ],
   "source": [
    "most-negative-fixnum"
   ]
  },
  {
   "cell_type": "markdown",
   "metadata": {},
   "source": [
    "## Ratios"
   ]
  },
  {
   "cell_type": "markdown",
   "metadata": {},
   "source": [
    "Rational numbers may be written as the possibly signed quotient of decimal numerals: an optional sign followed by two non-empty sequences of digits separated by a /. This syntax may be described as follows:\n",
    "\n",
    " ratio ::= [sign] {digit}+ / {digit}+"
   ]
  },
  {
   "cell_type": "code",
   "execution_count": 59,
   "metadata": {},
   "outputs": [
    {
     "data": {
      "text/plain": [
       "2/3"
      ]
     },
     "execution_count": 59,
     "metadata": {},
     "output_type": "execute_result"
    }
   ],
   "source": [
    "2/3                 ;This is in canonical form "
   ]
  },
  {
   "cell_type": "code",
   "execution_count": 61,
   "metadata": {},
   "outputs": [
    {
     "data": {
      "text/plain": [
       "2/3"
      ]
     },
     "execution_count": 61,
     "metadata": {},
     "output_type": "execute_result"
    }
   ],
   "source": [
    "4/6   ;A non-canonical form for the same number"
   ]
  },
  {
   "cell_type": "code",
   "execution_count": 60,
   "metadata": {},
   "outputs": [
    {
     "data": {
      "text/plain": [
       "-17/23"
      ]
     },
     "execution_count": 60,
     "metadata": {},
     "output_type": "execute_result"
    }
   ],
   "source": [
    "-17/23"
   ]
  },
  {
   "cell_type": "code",
   "execution_count": 63,
   "metadata": {},
   "outputs": [
    {
     "data": {
      "text/plain": [
       "-30517578125/32768"
      ]
     },
     "execution_count": 63,
     "metadata": {},
     "output_type": "execute_result"
    }
   ],
   "source": [
    "-30517578125/32768"
   ]
  },
  {
   "cell_type": "code",
   "execution_count": 64,
   "metadata": {
    "scrolled": true
   },
   "outputs": [
    {
     "data": {
      "text/plain": [
       "2"
      ]
     },
     "execution_count": 64,
     "metadata": {},
     "output_type": "execute_result"
    }
   ],
   "source": [
    "10/5                ;The canonical form for this is 2"
   ]
  },
  {
   "cell_type": "markdown",
   "metadata": {},
   "source": [
    "## Floation-point numbers"
   ]
  },
  {
   "cell_type": "markdown",
   "metadata": {},
   "source": [
    "Floating-point numbers may be provided in a variety of precisions and sizes. Certain definitions are made here:\n",
    "\n",
    "-  A short floating-point number (type short-float) is of the representation of smallest fixed precision.\n",
    "- A long floating-point number (type long-float) is of the representation of the largest fixed precision.\n",
    "- Intermediate between short and long formats are two others, arbitrarily called single and double (types single-float and double-float)."
   ]
  },
  {
   "cell_type": "markdown",
   "metadata": {},
   "source": [
    "The exponent specifier consists of an exponent marker, an optional sign, and a non-empty sequence of digits. For preciseness, here is a modified-BNF description of floating-point notation.\n",
    "\n"
   ]
  },
  {
   "cell_type": "markdown",
   "metadata": {},
   "source": [
    "floating-point-number ::= [sign] {digit}* decimal-point {digit}* [exponent]\n",
    "                        | [sign] {digit}+ [decimal-point {digit}*] exponent\n",
    "sign ::= + | -\n",
    "decimal-point ::= .\n",
    "digit ::= 0 | 1 | 2 | 3 | 4 | 5 | 6 | 7 | 8 | 9\n",
    "exponent ::= exponent-marker [sign] {digit}+\n",
    "exponent-marker ::= e | s | f | d | l | E | S | F | D | L"
   ]
  },
  {
   "cell_type": "markdown",
   "metadata": {},
   "source": [
    "The letters s, f, d, and l (or their respective uppercase equivalents) explicitly specify the use of short, single, double, and long format, respectively."
   ]
  },
  {
   "cell_type": "code",
   "execution_count": 65,
   "metadata": {},
   "outputs": [
    {
     "data": {
      "text/plain": [
       "0.0"
      ]
     },
     "execution_count": 65,
     "metadata": {},
     "output_type": "execute_result"
    }
   ],
   "source": [
    "0.0     ;Floating-point zero in default format "
   ]
  },
  {
   "cell_type": "code",
   "execution_count": 66,
   "metadata": {},
   "outputs": [
    {
     "data": {
      "text/plain": [
       "0.0"
      ]
     },
     "execution_count": 66,
     "metadata": {},
     "output_type": "execute_result"
    }
   ],
   "source": [
    "0E0     ;Also floating-point zero in default format "
   ]
  },
  {
   "cell_type": "code",
   "execution_count": 67,
   "metadata": {},
   "outputs": [
    {
     "data": {
      "text/plain": [
       "-0.0"
      ]
     },
     "execution_count": 67,
     "metadata": {},
     "output_type": "execute_result"
    }
   ],
   "source": [
    "-.0      ;This may be a zero or a minus zero, \n",
    "         ; depending on the implementation "
   ]
  },
  {
   "cell_type": "code",
   "execution_count": 69,
   "metadata": {},
   "outputs": [
    {
     "data": {
      "text/plain": [
       "0.0"
      ]
     },
     "execution_count": 69,
     "metadata": {},
     "output_type": "execute_result"
    }
   ],
   "source": [
    "0.0s0     ;A floating-point zero in short format "
   ]
  },
  {
   "cell_type": "code",
   "execution_count": 70,
   "metadata": {
    "scrolled": true
   },
   "outputs": [
    {
     "data": {
      "text/plain": [
       "0.0"
      ]
     },
     "execution_count": 70,
     "metadata": {},
     "output_type": "execute_result"
    }
   ],
   "source": [
    "0s0       ;Also a floating-point zero in short format "
   ]
  },
  {
   "cell_type": "code",
   "execution_count": 71,
   "metadata": {
    "scrolled": true
   },
   "outputs": [
    {
     "data": {
      "text/plain": [
       "3.141592653589793d0"
      ]
     },
     "execution_count": 71,
     "metadata": {},
     "output_type": "execute_result"
    }
   ],
   "source": [
    "3.1415926535897932384d0     ;A double-format approximation to  "
   ]
  },
  {
   "cell_type": "code",
   "execution_count": 72,
   "metadata": {},
   "outputs": [
    {
     "data": {
      "text/plain": [
       "3.141592653589793d0"
      ]
     },
     "execution_count": 72,
     "metadata": {},
     "output_type": "execute_result"
    }
   ],
   "source": [
    "PI"
   ]
  },
  {
   "cell_type": "code",
   "execution_count": 73,
   "metadata": {
    "scrolled": true
   },
   "outputs": [
    {
     "data": {
      "text/plain": [
       "6.02e23"
      ]
     },
     "execution_count": 73,
     "metadata": {},
     "output_type": "execute_result"
    }
   ],
   "source": [
    "6.02E+23                    ;Avogadro's number, in default format "
   ]
  },
  {
   "cell_type": "code",
   "execution_count": 74,
   "metadata": {},
   "outputs": [
    {
     "data": {
      "text/plain": [
       "6.02e23"
      ]
     },
     "execution_count": 74,
     "metadata": {},
     "output_type": "execute_result"
    }
   ],
   "source": [
    "602E+21                     ;Also Avogadro's number, in default format "
   ]
  },
  {
   "cell_type": "markdown",
   "metadata": {},
   "source": [
    "## Complex Numbers"
   ]
  },
  {
   "cell_type": "markdown",
   "metadata": {},
   "source": [
    "Complex numbers may be notated by writing the characters #C followed by a list of the real and imaginary parts. Both parts must be of the same type: either both are rational, or both are of the same floating-point format."
   ]
  },
  {
   "cell_type": "code",
   "execution_count": 81,
   "metadata": {},
   "outputs": [
    {
     "data": {
      "text/plain": [
       "#C(0 1)"
      ]
     },
     "execution_count": 81,
     "metadata": {},
     "output_type": "execute_result"
    }
   ],
   "source": [
    "#C(0 1)              ;The imaginary unit, that is, i"
   ]
  },
  {
   "cell_type": "code",
   "execution_count": 82,
   "metadata": {},
   "outputs": [
    {
     "data": {
      "text/plain": [
       "#C(0.0 1.0)"
      ]
     },
     "execution_count": 82,
     "metadata": {},
     "output_type": "execute_result"
    }
   ],
   "source": [
    "(sqrt -1)"
   ]
  },
  {
   "cell_type": "code",
   "execution_count": 79,
   "metadata": {},
   "outputs": [
    {
     "data": {
      "text/plain": [
       "#C(30.0 0.2)"
      ]
     },
     "execution_count": 79,
     "metadata": {},
     "output_type": "execute_result"
    }
   ],
   "source": [
    "#C(3.0s1 2.0s-1)     ;Real and imaginary parts are short format"
   ]
  },
  {
   "cell_type": "code",
   "execution_count": 80,
   "metadata": {},
   "outputs": [
    {
     "data": {
      "text/plain": [
       "#C(1.6666666 7.0)"
      ]
     },
     "execution_count": 80,
     "metadata": {},
     "output_type": "execute_result"
    }
   ],
   "source": [
    "#C(5/3 7.0)          ;Will be converted internally to #C(1.66666 7.0)"
   ]
  },
  {
   "cell_type": "markdown",
   "metadata": {},
   "source": [
    "# Math Functions"
   ]
  },
  {
   "cell_type": "code",
   "execution_count": 84,
   "metadata": {
    "scrolled": true
   },
   "outputs": [
    {
     "name": "stdout",
     "output_type": "stream",
     "text": [
      "(+ 5 4) = 9 \n",
      "(- 5 4) = 1 \n",
      "(* 5 4) = 20 \n",
      "(/ 5 4) = 5/4 \n",
      "(/ 5 4.0) = 1.25 \n",
      "(rem 5 4) = 1 \n",
      "(mod 5 4) = 1 \n",
      "(expt 4 2) = 16 \n",
      "(sqrt 81) = 9.0 \n",
      "(exp 1) = 2.7182817 \n",
      "(log 1000 10) = 3.0 \n",
      "(eq 'dog 'dog) = T \n",
      "(floor 5.5) = 5 \n",
      "(ceiling 5.5) = 6 \n",
      "(max 5 10) = 10 \n",
      "(min 5 10) = 5 \n",
      "(oddp 15) = T \n",
      "(evenp 15) = Nil \n",
      "(numberp 2) = T \n",
      "(null nil) = T \n"
     ]
    },
    {
     "data": {
      "text/plain": [
       "Nil"
      ]
     },
     "execution_count": 84,
     "metadata": {},
     "output_type": "execute_result"
    }
   ],
   "source": [
    "(format t \"(+ 5 4) = ~d ~%\" (+ 5 4))\n",
    "(format t \"(- 5 4) = ~d ~%\" (- 5 4))\n",
    "(format t \"(* 5 4) = ~d ~%\" (* 5 4))\n",
    "(format t \"(/ 5 4) = ~d ~%\" (/ 5 4)) ; = 5/4\n",
    "(format t \"(/ 5 4.0) = ~d ~%\" (/ 5 4.0)) ; = 1.25\n",
    "(format t \"(rem 5 4) = ~d ~%\" (rem 5 4)) ; = 1 Returns the remainder\n",
    "(format t \"(mod 5 4) = ~d ~%\" (mod 5 4)) ; = 1 Returns the remainder\n",
    " \n",
    "(format t \"(expt 4 2) = ~d ~%\" (expt 4 2)) ; = Exponent 4^2\n",
    "(format t \"(sqrt 81) = ~d ~%\" (sqrt 81)) ; = 9\n",
    "(format t \"(exp 1) = ~d ~%\" (exp 1)) ; = e^1\n",
    "(format t \"(log 1000 10) = ~d ~%\" (log 1000 10)) ; = 3 = Because 10^3 = 1000\n",
    "(format t \"(eq 'dog 'dog) = ~d ~%\" (eq 'dog 'dog)) ; = T Check Equality\n",
    "(format t \"(floor 5.5) = ~d ~%\" (floor 5.5)) ; = 5\n",
    "(format t \"(ceiling 5.5) = ~d ~%\" (ceiling 5.5)) ; = 6\n",
    "(format t \"(max 5 10) = ~d ~%\" (max 5 10)) ; = 10\n",
    "(format t \"(min 5 10) = ~d ~%\" (min 5 10)) ; = 5\n",
    "(format t \"(oddp 15) = ~d ~%\" (oddp 15)) ; = T Check if 15 is odd \n",
    "(format t \"(evenp 15) = ~d ~%\" (evenp 15)) ; = NIL = FALSE Check if 15 is even \n",
    "(format t \"(numberp 2) = ~d ~%\" (numberp 2)) ; = T Is 2 a number\n",
    "(format t \"(null nil) = ~d ~%\" (null nil)) ; = T Is something equal to nil"
   ]
  },
  {
   "cell_type": "markdown",
   "metadata": {},
   "source": [
    "There is also sin, cos, tan, asin, acos, atan"
   ]
  },
  {
   "cell_type": "markdown",
   "metadata": {},
   "source": [
    "# Characters"
   ]
  },
  {
   "cell_type": "markdown",
   "metadata": {},
   "source": [
    "Characters are represented as data objects of type character. A character object can be notated by writing #\\ followed by the character itself.\n"
   ]
  },
  {
   "cell_type": "code",
   "execution_count": 85,
   "metadata": {
    "scrolled": true
   },
   "outputs": [
    {
     "data": {
      "text/plain": [
       "#\\g"
      ]
     },
     "execution_count": 85,
     "metadata": {},
     "output_type": "execute_result"
    }
   ],
   "source": [
    "#\\g ;means the character object for a lowercase g."
   ]
  },
  {
   "cell_type": "code",
   "execution_count": 86,
   "metadata": {
    "scrolled": true
   },
   "outputs": [
    {
     "data": {
      "text/plain": [
       "#\\ "
      ]
     },
     "execution_count": 86,
     "metadata": {},
     "output_type": "execute_result"
    }
   ],
   "source": [
    "#\\Space  ; #\\Space (or #\\SPACE or #\\space or #\\sPaCE)\n",
    "         ; means the space character."
   ]
  },
  {
   "cell_type": "code",
   "execution_count": 91,
   "metadata": {
    "scrolled": true
   },
   "outputs": [
    {
     "data": {
      "text/plain": [
       "#\\Esc"
      ]
     },
     "execution_count": 91,
     "metadata": {},
     "output_type": "execute_result"
    }
   ],
   "source": [
    "#\\Escape"
   ]
  },
  {
   "cell_type": "markdown",
   "metadata": {},
   "source": [
    "# Symbols"
   ]
  },
  {
   "cell_type": "code",
   "execution_count": 97,
   "metadata": {
    "collapsed": true
   },
   "outputs": [
    {
     "name": "stderr",
     "output_type": "stream",
     "text": [
      "Unbound-Variable: \n",
      "  #<Unbound-Variable Frobboz {1004812493}>\n"
     ]
    },
    {
     "data": {
      "text/plain": [
       "Nil"
      ]
     },
     "execution_count": 97,
     "metadata": {},
     "output_type": "execute_result"
    }
   ],
   "source": [
    "FROBBOZ         ;The symbol whose name is FROBBOZ \n",
    "frobboz         ;Another way to notate the same symbol \n",
    "fRObBoz         ;Yet another way to notate it \n",
    "unwind-protect  ;A symbol with a - in its name \n",
    "+$              ;The symbol named +$ \n",
    "1+              ;The symbol named 1+ \n",
    "+1              ;This is the integer 1, not a symbol \n",
    "pascal_style    ;This symbol has an underscore in its name \n",
    "b^2-4*a*c       ;This is a single symbol! \n",
    "                ; It has several special characters in its name \n",
    "file.rel.43     ;This symbol has periods in its name \n",
    "/usr/games/zork ;This symbol has slashes in its name"
   ]
  },
  {
   "cell_type": "code",
   "execution_count": 96,
   "metadata": {
    "collapsed": true
   },
   "outputs": [
    {
     "name": "stderr",
     "output_type": "stream",
     "text": [
      "Unbound-Variable: \n",
      "  #<Unbound-Variable (Tt {10047B88B3}>\n"
     ]
    },
    {
     "data": {
      "text/plain": [
       "Nil"
      ]
     },
     "execution_count": 96,
     "metadata": {},
     "output_type": "execute_result"
    }
   ],
   "source": [
    "\\(       ;The symbol whose name is ( \n",
    "\\+1       ;The symbol whose name is +1 \n",
    "+\\1       ;Also the symbol whose name is +1 \n",
    "\\frobboz   ;The symbol whose name is fROBBOZ \n",
    "3.14159265\\s0   ;The symbol whose name is 3.14159265s0 \n",
    "3.14159265\\S0   ;A different symbol, whose name is 3.14159265S0 \n",
    "3.14159265s0    ;A short-format floating-point approximation to  \n",
    "APL\\\\360     ;The symbol whose name is APL 360 \n",
    "apl\\\\360     ;Also the symbol whose name is APL 360 \n",
    "\\(b^2\\)\\ -\\ 4*a*c      ;The name is (B^2) - 4*A*C; \n",
    "                       ; it has parentheses and two spaces in it \n",
    "\\(\\b^2\\)\\ -\\ 4*\\a*\\c   ;The name is (b^2) - 4*a*c; \n",
    "                       ; the letters are explicitly lowercase"
   ]
  },
  {
   "cell_type": "code",
   "execution_count": null,
   "metadata": {
    "collapsed": true
   },
   "outputs": [],
   "source": [
    "|\"|               ;The same as writing \\\" \n",
    "|(b^2) - 4*a*c|   ;The name is (b^2) - 4*a*c \n",
    "|frobboz|         ;The name is frobboz, not FROBBOZ \n",
    "|APL\\360|         ;The name is APL360, because the \\ quotes the 3 \n",
    "|APL\\\\360|        ;The name is APL\\360 \n",
    "|apl\\\\360|        ;The name is apl\\360 \n",
    "|\\|\\||            ;Same as \\|\\|: the name is || \n",
    "|(B^2) - 4*A*C|   ;The name is (B^2) - 4*A*C; \n",
    "                  ; it has parentheses and two spaces in it \n",
    "|(b^2) - 4*a*c|   ;The name is (b^2) - 4*a*c"
   ]
  },
  {
   "cell_type": "markdown",
   "metadata": {},
   "source": [
    "# Forms\n",
    "The standard unit of interaction with a Common Lisp implementation is the form, which is simply a data object meant to be evaluated as a program to produce one or more values (which are also data objects).\n",
    "\n",
    "One may request evaluation of any data object, but only certain ones are meaningful. For instance, symbols and lists are meaningful forms, while arrays normally are not. Examples of forms are 3, whose value is 3, and (+ 3 4), whose value is 7.\n",
    "\n",
    "Forms may be divided into three categories: self-evaluating forms, such as numbers; symbols, which stand for variables; and lists. The lists in turn may be divided into three categories: special forms, macro calls, and function calls."
   ]
  },
  {
   "cell_type": "markdown",
   "metadata": {},
   "source": [
    "## Self-Evaluating Forms\n",
    "All numbers, characters, strings, and bit-vectors are self-evaluating forms. When such an object is evaluated, that object (or possibly a copy in the case of numbers or characters) is returned as the value of the form. The empty list (), which is also the false value nil, is also a self-evaluating form: the value of nil is nil. Keywords (symbols written with a leading colon) also evaluate to themselves: the value of :start is :start."
   ]
  },
  {
   "cell_type": "markdown",
   "metadata": {},
   "source": [
    "## Variables\n",
    "Symbols are used as names of variables in Common Lisp programs. \n",
    "There are actually two kinds of variables in Common Lisp, called lexical (or static) variables and special (or dynamic) variables. At any given time either or both kinds of variable with the same name may have a current value. Which of the two kinds of variable is referred to when a symbol is evaluated depends on the context of the evaluation. The general rule is that if the symbol occurs textually within a program construct that creates a binding for a variable of the same name, then the reference is to the variable specified by the binding; if no such program construct textually contains the reference, then it is taken to refer to the special variable of that name."
   ]
  },
  {
   "cell_type": "code",
   "execution_count": 204,
   "metadata": {},
   "outputs": [
    {
     "name": "stderr",
     "output_type": "stream",
     "text": [
      "Simple-Warning: \n",
      "undefined variable: Items\n"
     ]
    },
    {
     "data": {
      "text/plain": [
       "3"
      ]
     },
     "execution_count": 204,
     "metadata": {},
     "output_type": "execute_result"
    }
   ],
   "source": [
    "(setq items 3)"
   ]
  },
  {
   "cell_type": "markdown",
   "metadata": {},
   "source": [
    "Certain global variables are reserved as ''named constants''. They have a global value and may not be bound or assigned to. For example, the symbols t and nil are reserved. One may not assign a value to t or nil, and one may not bind t or nil. The global value of t is always t, and the global value of nil is always nil. Constant symbols defined by defconstant also become reserved and may not be further assigned to or bound (although they may be redefined, if necessary, by using defconstant again). Keyword symbols, which are notated with a leading colon, are reserved and may never be assigned to or bound; a keyword always evaluates to itself."
   ]
  },
  {
   "cell_type": "code",
   "execution_count": 208,
   "metadata": {},
   "outputs": [
    {
     "data": {
      "text/plain": [
       "*Name*"
      ]
     },
     "execution_count": 208,
     "metadata": {},
     "output_type": "execute_result"
    }
   ],
   "source": [
    "(defvar *name* \"Lalo\") ;  for receiving data"
   ]
  },
  {
   "cell_type": "code",
   "execution_count": 209,
   "metadata": {},
   "outputs": [
    {
     "name": "stderr",
     "output_type": "stream",
     "text": [
      "Redefinition-With-Defun: \n",
      "  redefining Cl-Jupyter-User::Hello-You in DEFUN\n"
     ]
    },
    {
     "data": {
      "text/plain": [
       "Hello-You"
      ]
     },
     "execution_count": 209,
     "metadata": {},
     "output_type": "execute_result"
    }
   ],
   "source": [
    "(defun hello-you (*name*)\n",
    "    (format t \"Hello ~a! ~%\" *name*))"
   ]
  },
  {
   "cell_type": "code",
   "execution_count": 212,
   "metadata": {},
   "outputs": [
    {
     "name": "stdout",
     "output_type": "stream",
     "text": [
      "Hello Gary! \n"
     ]
    },
    {
     "data": {
      "text/plain": [
       "Nil"
      ]
     },
     "execution_count": 212,
     "metadata": {},
     "output_type": "execute_result"
    }
   ],
   "source": [
    "(hello-you *name*)"
   ]
  },
  {
   "cell_type": "code",
   "execution_count": 213,
   "metadata": {},
   "outputs": [
    {
     "data": {
      "text/plain": [
       "Gary"
      ]
     },
     "execution_count": 213,
     "metadata": {},
     "output_type": "execute_result"
    }
   ],
   "source": [
    "*name*"
   ]
  },
  {
   "cell_type": "markdown",
   "metadata": {},
   "source": [
    "Change the value of a variable with setf"
   ]
  },
  {
   "cell_type": "code",
   "execution_count": 216,
   "metadata": {},
   "outputs": [
    {
     "data": {
      "text/plain": [
       "6"
      ]
     },
     "execution_count": 216,
     "metadata": {},
     "output_type": "execute_result"
    }
   ],
   "source": [
    "(defvar *number*)\n",
    "(setf *name* 6)\n",
    "*name*"
   ]
  },
  {
   "cell_type": "markdown",
   "metadata": {},
   "source": [
    "### Predicates"
   ]
  },
  {
   "cell_type": "markdown",
   "metadata": {},
   "source": [
    "These are functions that apply some test one or two values (variables or expressions evaluated before the test is applied) and either succeed (evaluating to t) or fail (evaluating to nil).\n",
    "\n",
    "- atom: true if its single argument is an atom. "
   ]
  },
  {
   "cell_type": "code",
   "execution_count": 127,
   "metadata": {},
   "outputs": [
    {
     "data": {
      "text/plain": [
       "T"
      ]
     },
     "execution_count": 127,
     "metadata": {},
     "output_type": "execute_result"
    }
   ],
   "source": [
    "(atom 2)"
   ]
  },
  {
   "cell_type": "code",
   "execution_count": 128,
   "metadata": {},
   "outputs": [
    {
     "data": {
      "text/plain": [
       "T"
      ]
     },
     "execution_count": 128,
     "metadata": {},
     "output_type": "execute_result"
    }
   ],
   "source": [
    "(atom #C(2 5))"
   ]
  },
  {
   "cell_type": "code",
   "execution_count": 129,
   "metadata": {
    "scrolled": true
   },
   "outputs": [
    {
     "data": {
      "text/plain": [
       "T"
      ]
     },
     "execution_count": 129,
     "metadata": {},
     "output_type": "execute_result"
    }
   ],
   "source": [
    "(atom \"this-is-a-string\")"
   ]
  },
  {
   "cell_type": "code",
   "execution_count": 133,
   "metadata": {},
   "outputs": [
    {
     "data": {
      "text/plain": [
       "NIL"
      ]
     },
     "execution_count": 133,
     "metadata": {},
     "output_type": "execute_result"
    }
   ],
   "source": [
    "(atom '(1 2 3))"
   ]
  },
  {
   "cell_type": "markdown",
   "metadata": {},
   "source": [
    "- consp: true if its single argument is a symbol."
   ]
  },
  {
   "cell_type": "code",
   "execution_count": 181,
   "metadata": {},
   "outputs": [
    {
     "data": {
      "text/plain": [
       "T"
      ]
     },
     "execution_count": 181,
     "metadata": {},
     "output_type": "execute_result"
    }
   ],
   "source": [
    "(consp '(1 2 3)) "
   ]
  },
  {
   "cell_type": "markdown",
   "metadata": {},
   "source": [
    "- symbolp: true if its single argument is a symbol."
   ]
  },
  {
   "cell_type": "code",
   "execution_count": 138,
   "metadata": {},
   "outputs": [
    {
     "data": {
      "text/plain": [
       "T"
      ]
     },
     "execution_count": 138,
     "metadata": {},
     "output_type": "execute_result"
    }
   ],
   "source": [
    "(symbolp *name*)"
   ]
  },
  {
   "cell_type": "code",
   "execution_count": 139,
   "metadata": {},
   "outputs": [
    {
     "data": {
      "text/plain": [
       "T"
      ]
     },
     "execution_count": 139,
     "metadata": {},
     "output_type": "execute_result"
    }
   ],
   "source": [
    "(symbolp 'anything)"
   ]
  },
  {
   "cell_type": "markdown",
   "metadata": {},
   "source": [
    "- numberp: true if its single argument is a number."
   ]
  },
  {
   "cell_type": "code",
   "execution_count": 140,
   "metadata": {},
   "outputs": [
    {
     "data": {
      "text/plain": [
       "T"
      ]
     },
     "execution_count": 140,
     "metadata": {},
     "output_type": "execute_result"
    }
   ],
   "source": [
    "(numberp (+ 3 4))"
   ]
  },
  {
   "cell_type": "markdown",
   "metadata": {},
   "source": [
    "- listp: true if its single argument is a (true or dotted) list. "
   ]
  },
  {
   "cell_type": "code",
   "execution_count": 151,
   "metadata": {},
   "outputs": [
    {
     "data": {
      "text/plain": [
       "T"
      ]
     },
     "execution_count": 151,
     "metadata": {},
     "output_type": "execute_result"
    }
   ],
   "source": [
    "(listp '(a b 4 \"hey\"))"
   ]
  },
  {
   "cell_type": "markdown",
   "metadata": {},
   "source": [
    "- null: true if its single argument is the empty list (() or nil)."
   ]
  },
  {
   "cell_type": "code",
   "execution_count": 152,
   "metadata": {},
   "outputs": [
    {
     "data": {
      "text/plain": [
       "NIL"
      ]
     },
     "execution_count": 152,
     "metadata": {},
     "output_type": "execute_result"
    }
   ],
   "source": [
    "(null t)"
   ]
  },
  {
   "cell_type": "markdown",
   "metadata": {},
   "source": [
    "- eq: true if its two arguments are the same identical object. Because of the way LISP handles symbols, a given name always maps to the same symbol, so something like (eq 'a 'a) is always true."
   ]
  },
  {
   "cell_type": "code",
   "execution_count": 169,
   "metadata": {},
   "outputs": [
    {
     "data": {
      "text/plain": [
       "*NAME*"
      ]
     },
     "execution_count": 169,
     "metadata": {},
     "output_type": "execute_result"
    }
   ],
   "source": [
    "(defparameter *name* 'Lalo)"
   ]
  },
  {
   "cell_type": "code",
   "execution_count": 166,
   "metadata": {},
   "outputs": [
    {
     "data": {
      "text/plain": [
       "NIL"
      ]
     },
     "execution_count": 166,
     "metadata": {},
     "output_type": "execute_result"
    }
   ],
   "source": [
    "(eq (list 1 2 3) (list 1 2 3)))"
   ]
  },
  {
   "cell_type": "code",
   "execution_count": 175,
   "metadata": {},
   "outputs": [
    {
     "data": {
      "text/plain": [
       "NIL"
      ]
     },
     "execution_count": 175,
     "metadata": {},
     "output_type": "execute_result"
    }
   ],
   "source": [
    "(eq 1.0 1)"
   ]
  },
  {
   "cell_type": "markdown",
   "metadata": {},
   "source": [
    "- equalp: compare strings of any case and integers to floats"
   ]
  },
  {
   "cell_type": "code",
   "execution_count": 167,
   "metadata": {},
   "outputs": [
    {
     "data": {
      "text/plain": [
       "NIL"
      ]
     },
     "execution_count": 167,
     "metadata": {},
     "output_type": "execute_result"
    }
   ],
   "source": [
    "(eql (list 1 2 3) (list 1 2 3))"
   ]
  },
  {
   "cell_type": "code",
   "execution_count": 173,
   "metadata": {},
   "outputs": [
    {
     "data": {
      "text/plain": [
       "T"
      ]
     },
     "execution_count": 173,
     "metadata": {},
     "output_type": "execute_result"
    }
   ],
   "source": [
    "(equalp 1.0 1)"
   ]
  },
  {
   "cell_type": "code",
   "execution_count": 174,
   "metadata": {},
   "outputs": [
    {
     "data": {
      "text/plain": [
       "T"
      ]
     },
     "execution_count": 174,
     "metadata": {},
     "output_type": "execute_result"
    }
   ],
   "source": [
    "(equalp \"Lalo\" \"lalo\")"
   ]
  },
  {
   "cell_type": "markdown",
   "metadata": {},
   "source": [
    "- equal: true if its two arguments are isomorphic, i.e. their printed representation is the same."
   ]
  },
  {
   "cell_type": "code",
   "execution_count": 172,
   "metadata": {},
   "outputs": [
    {
     "data": {
      "text/plain": [
       "T"
      ]
     },
     "execution_count": 172,
     "metadata": {},
     "output_type": "execute_result"
    }
   ],
   "source": [
    "(equal *name* 'Lalo)"
   ]
  },
  {
   "cell_type": "code",
   "execution_count": 155,
   "metadata": {},
   "outputs": [
    {
     "data": {
      "text/plain": [
       "T"
      ]
     },
     "execution_count": 155,
     "metadata": {},
     "output_type": "execute_result"
    }
   ],
   "source": [
    "(equal 10 10)"
   ]
  },
  {
   "cell_type": "code",
   "execution_count": 156,
   "metadata": {},
   "outputs": [
    {
     "data": {
      "text/plain": [
       "NIL"
      ]
     },
     "execution_count": 156,
     "metadata": {},
     "output_type": "execute_result"
    }
   ],
   "source": [
    "(equal 5.5 5.3)"
   ]
  },
  {
   "cell_type": "code",
   "execution_count": 168,
   "metadata": {},
   "outputs": [
    {
     "data": {
      "text/plain": [
       "T"
      ]
     },
     "execution_count": 168,
     "metadata": {},
     "output_type": "execute_result"
    }
   ],
   "source": [
    "(equal (list 1 2 3) (list 1 2 3))"
   ]
  },
  {
   "cell_type": "code",
   "execution_count": 177,
   "metadata": {},
   "outputs": [
    {
     "data": {
      "text/plain": [
       "NIL"
      ]
     },
     "execution_count": 177,
     "metadata": {},
     "output_type": "execute_result"
    }
   ],
   "source": [
    "(equal 1.0 1)"
   ]
  },
  {
   "cell_type": "code",
   "execution_count": 178,
   "metadata": {},
   "outputs": [
    {
     "data": {
      "text/plain": [
       "NIL"
      ]
     },
     "execution_count": 178,
     "metadata": {},
     "output_type": "execute_result"
    }
   ],
   "source": [
    "(equal \"Lalo\" \"lalo\")"
   ]
  },
  {
   "cell_type": "markdown",
   "metadata": {},
   "source": [
    "### Conditionals\n",
    "LISP supports the standard comparisons on numbers, but most can take one up to any number of arguments, rather than just two. (In the case of two arguments, they behave in the traditional way.) All of the arguments must be numbers.\n",
    "\n",
    "- $=$ all arguments equal\n",
    " \n",
    "- $/=$ all arguments differ (no two equal)\n",
    " \n",
    "- $>$ all arguments monotonically increasing\n",
    " \n",
    "- $<$ all arguments monotonically decreasing\n",
    " \n",
    "- $>$= all arguments monotonically non-decreasing\n",
    " \n",
    "- $<=$ all arguments monotonically non-increasing\n",
    " \n",
    "- $zerop$ one argument only - true if the argument is 0"
   ]
  },
  {
   "cell_type": "markdown",
   "metadata": {},
   "source": [
    "## Special Forms\n",
    "A special form is a form with special syntax, special evaluation rules, or both, possibly manipulating the evaluation environment, control flow, or both. A special operator has access to the current lexical environment and the current dynamic environment. Each special operator defines the manner in which its subexpressions are treated---which are forms, which are special syntax, etc.\n",
    "The next expresons are some examples of special forms"
   ]
  },
  {
   "cell_type": "markdown",
   "metadata": {},
   "source": [
    "### quote\n",
    " \n",
    "quote is a special form that simply passes its unevaluated argument through. For example, the value of (quote a) is the symbol a.\n",
    " \n",
    "As a convenience, the LISP reader considers the an expression of the form 'anything to be equivalent to (quote anything). "
   ]
  },
  {
   "cell_type": "code",
   "execution_count": 246,
   "metadata": {},
   "outputs": [
    {
     "data": {
      "text/plain": [
       "(+ 3 4)"
      ]
     },
     "execution_count": 246,
     "metadata": {},
     "output_type": "execute_result"
    }
   ],
   "source": [
    "'(+ 3 4)"
   ]
  },
  {
   "cell_type": "code",
   "execution_count": 242,
   "metadata": {},
   "outputs": [
    {
     "data": {
      "text/plain": [
       "Nil"
      ]
     },
     "execution_count": 242,
     "metadata": {},
     "output_type": "execute_result"
    }
   ],
   "source": [
    "'()"
   ]
  },
  {
   "cell_type": "code",
   "execution_count": 244,
   "metadata": {},
   "outputs": [
    {
     "data": {
      "text/plain": [
       "Nil"
      ]
     },
     "execution_count": 244,
     "metadata": {},
     "output_type": "execute_result"
    }
   ],
   "source": [
    "'nil"
   ]
  },
  {
   "cell_type": "code",
   "execution_count": 225,
   "metadata": {},
   "outputs": [
    {
     "data": {
      "text/plain": [
       "(Defvar *Name* \"Hey\")"
      ]
     },
     "execution_count": 225,
     "metadata": {},
     "output_type": "execute_result"
    }
   ],
   "source": [
    "'(defvar *name* \"Hey\")"
   ]
  },
  {
   "cell_type": "code",
   "execution_count": 219,
   "metadata": {},
   "outputs": [
    {
     "data": {
      "text/plain": [
       "(If Test\n",
       "    Then\n",
       "    Else)"
      ]
     },
     "execution_count": 219,
     "metadata": {},
     "output_type": "execute_result"
    }
   ],
   "source": [
    "'(if test then else)"
   ]
  },
  {
   "cell_type": "code",
   "execution_count": 227,
   "metadata": {},
   "outputs": [
    {
     "data": {
      "text/plain": [
       "'List"
      ]
     },
     "execution_count": 227,
     "metadata": {},
     "output_type": "execute_result"
    }
   ],
   "source": [
    "(quote (quote list))"
   ]
  },
  {
   "cell_type": "code",
   "execution_count": 226,
   "metadata": {},
   "outputs": [
    {
     "data": {
      "text/plain": [
       "''List"
      ]
     },
     "execution_count": 226,
     "metadata": {},
     "output_type": "execute_result"
    }
   ],
   "source": [
    "(quote (quote (quote list)))"
   ]
  },
  {
   "cell_type": "code",
   "execution_count": 250,
   "metadata": {},
   "outputs": [
    {
     "data": {
      "text/plain": [
       "#\\\\"
      ]
     },
     "execution_count": 250,
     "metadata": {},
     "output_type": "execute_result"
    }
   ],
   "source": [
    "'#\\backslash"
   ]
  },
  {
   "cell_type": "markdown",
   "metadata": {},
   "source": [
    "## setq"
   ]
  },
  {
   "cell_type": "markdown",
   "metadata": {},
   "source": [
    "The special form (setq var1 form1 var2 form2 ...) is the \"simple variable assignment statement\" of Lisp. \n",
    "\n",
    "First form1 is evaluated and the result is stored in the variable var1, then form2 is evaluated and the result stored in var2, and so forth.\n",
    "\n",
    "__The variables are represented as symbols, of course, and are interpreted as referring to static or dynamic instances according to the usual rules. Therefore setq may be used for assignment of both lexical and special variables.\n",
    "\n",
    "setq returns the last value assigned, that is, the result of the evaluation of its last argument. As a boundary case, the form (setq) is legal and returns nil.\n",
    "(setq)\n",
    "There must be an even number of argument forms. For example, in\n"
   ]
  },
  {
   "cell_type": "code",
   "execution_count": 299,
   "metadata": {
    "scrolled": false
   },
   "outputs": [
    {
     "name": "stderr",
     "output_type": "stream",
     "text": [
      "Simple-Warning: \n",
      "undefined variable: P\n"
     ]
    },
    {
     "data": {
      "text/plain": [
       "5"
      ]
     },
     "execution_count": 299,
     "metadata": {},
     "output_type": "execute_result"
    }
   ],
   "source": [
    "(setq p 5)"
   ]
  },
  {
   "cell_type": "code",
   "execution_count": 291,
   "metadata": {},
   "outputs": [
    {
     "name": "stderr",
     "output_type": "stream",
     "text": [
      "Simple-Warning: \n",
      "undefined variable: A\n",
      "Simple-Warning: \n",
      "undefined variable: B\n",
      "Simple-Warning: \n",
      "undefined variable: C\n"
     ]
    },
    {
     "data": {
      "text/plain": [
       "3"
      ]
     },
     "execution_count": 291,
     "metadata": {},
     "output_type": "execute_result"
    }
   ],
   "source": [
    "(setq a 1 b 2 c 3)"
   ]
  },
  {
   "cell_type": "code",
   "execution_count": 292,
   "metadata": {},
   "outputs": [
    {
     "name": "stderr",
     "output_type": "stream",
     "text": [
      "Simple-Warning: \n",
      "undefined variable: A\n",
      "Simple-Warning: \n",
      "undefined variable: B\n",
      "Simple-Warning: \n",
      "undefined variable: C\n"
     ]
    },
    {
     "data": {
      "text/plain": [
       "7"
      ]
     },
     "execution_count": 292,
     "metadata": {},
     "output_type": "execute_result"
    }
   ],
   "source": [
    "(setq a (1+ b) b (1+ a) c (+ a b))"
   ]
  },
  {
   "cell_type": "code",
   "execution_count": 293,
   "metadata": {
    "scrolled": true
   },
   "outputs": [
    {
     "data": {
      "text/plain": [
       "3"
      ]
     },
     "execution_count": 293,
     "metadata": {},
     "output_type": "execute_result"
    }
   ],
   "source": [
    "a"
   ]
  },
  {
   "cell_type": "code",
   "execution_count": 294,
   "metadata": {},
   "outputs": [
    {
     "data": {
      "text/plain": [
       "4"
      ]
     },
     "execution_count": 294,
     "metadata": {},
     "output_type": "execute_result"
    }
   ],
   "source": [
    "b"
   ]
  },
  {
   "cell_type": "code",
   "execution_count": 295,
   "metadata": {},
   "outputs": [
    {
     "data": {
      "text/plain": [
       "7"
      ]
     },
     "execution_count": 295,
     "metadata": {},
     "output_type": "execute_result"
    }
   ],
   "source": [
    "c"
   ]
  },
  {
   "cell_type": "code",
   "execution_count": 259,
   "metadata": {},
   "outputs": [
    {
     "name": "stderr",
     "output_type": "stream",
     "text": [
      "Simple-Warning: \n",
      "undefined variable: X\n",
      "Simple-Warning: \n",
      "undefined variable: Y\n"
     ]
    },
    {
     "data": {
      "text/plain": [
       "(6)"
      ]
     },
     "execution_count": 259,
     "metadata": {},
     "output_type": "execute_result"
    }
   ],
   "source": [
    "(setq x (+ 3 2 1) y (cons x nil))"
   ]
  },
  {
   "cell_type": "code",
   "execution_count": 253,
   "metadata": {},
   "outputs": [
    {
     "data": {
      "text/plain": [
       "6"
      ]
     },
     "execution_count": 253,
     "metadata": {},
     "output_type": "execute_result"
    }
   ],
   "source": [
    "x"
   ]
  },
  {
   "cell_type": "code",
   "execution_count": 254,
   "metadata": {},
   "outputs": [
    {
     "data": {
      "text/plain": [
       "(6)"
      ]
     },
     "execution_count": 254,
     "metadata": {},
     "output_type": "execute_result"
    }
   ],
   "source": [
    "y"
   ]
  },
  {
   "cell_type": "markdown",
   "metadata": {},
   "source": [
    "Note that the first assignment is performed before the second form is evaluated, allowing that form to use the new value of x."
   ]
  },
  {
   "cell_type": "markdown",
   "metadata": {},
   "source": [
    "### let"
   ]
  },
  {
   "cell_type": "markdown",
   "metadata": {},
   "source": [
    "?????\n",
    "let create new variable bindings and execute a series of forms that use these bindings.\n",
    "\n",
    "The form\n",
    "\n",
    "     (let ((var1 init-form-1)\n",
    "           (var2 init-form-2)\n",
    "           ...\n",
    "           (varm init-form-m))\n",
    "       form1\n",
    "       form2\n",
    "       ...\n",
    "       formn)\n",
    "\n",
    "first evaluates the expressions init-form-1, init-form-2, and so on, saving the resulting values. Then all of the variables varj are bound to the corresponding values. The expressions formk are then evaluated."
   ]
  },
  {
   "cell_type": "markdown",
   "metadata": {},
   "source": [
    "You can define variables local to only the let body "
   ]
  },
  {
   "cell_type": "markdown",
   "metadata": {},
   "source": [
    "(let ((var-1 5) (var-2 10)) (... Body ...))"
   ]
  },
  {
   "cell_type": "code",
   "execution_count": 303,
   "metadata": {},
   "outputs": [
    {
     "name": "stdout",
     "output_type": "stream",
     "text": [
      "\n",
      "15 "
     ]
    },
    {
     "data": {
      "text/plain": [
       "15"
      ]
     },
     "execution_count": 303,
     "metadata": {},
     "output_type": "execute_result"
    }
   ],
   "source": [
    "(let ((x_0 5) \n",
    "      (x_1 10)) \n",
    "         (print (+ x_0 x_1)))"
   ]
  },
  {
   "cell_type": "code",
   "execution_count": 305,
   "metadata": {},
   "outputs": [
    {
     "name": "stderr",
     "output_type": "stream",
     "text": [
      "Unbound-Variable: \n",
      "  #<Unbound-Variable X_0 {1003137EE3}>\n"
     ]
    },
    {
     "data": {
      "text/plain": [
       "Nil"
      ]
     },
     "execution_count": 305,
     "metadata": {},
     "output_type": "execute_result"
    }
   ],
   "source": [
    "x_0"
   ]
  },
  {
   "cell_type": "code",
   "execution_count": 304,
   "metadata": {},
   "outputs": [
    {
     "name": "stderr",
     "output_type": "stream",
     "text": [
      "Unbound-Variable: \n",
      "  #<Unbound-Variable X_1 {10030EB523}>\n"
     ]
    },
    {
     "data": {
      "text/plain": [
       "Nil"
      ]
     },
     "execution_count": 304,
     "metadata": {},
     "output_type": "execute_result"
    }
   ],
   "source": [
    "x_1"
   ]
  },
  {
   "cell_type": "code",
   "execution_count": 308,
   "metadata": {},
   "outputs": [
    {
     "data": {
      "text/plain": [
       "6"
      ]
     },
     "execution_count": 308,
     "metadata": {},
     "output_type": "execute_result"
    }
   ],
   "source": [
    "x"
   ]
  },
  {
   "cell_type": "code",
   "execution_count": 306,
   "metadata": {},
   "outputs": [
    {
     "data": {
      "text/plain": [
       "10"
      ]
     },
     "execution_count": 306,
     "metadata": {},
     "output_type": "execute_result"
    }
   ],
   "source": [
    "(let ((x 10)) x)"
   ]
  },
  {
   "cell_type": "code",
   "execution_count": 330,
   "metadata": {},
   "outputs": [
    {
     "data": {
      "text/plain": [
       "A"
      ]
     },
     "execution_count": 330,
     "metadata": {},
     "output_type": "execute_result"
    }
   ],
   "source": [
    "(defvar a nil)"
   ]
  },
  {
   "cell_type": "code",
   "execution_count": 2,
   "metadata": {},
   "outputs": [
    {
     "name": "stderr",
     "output_type": "stream",
     "text": [
      "SIMPLE-WARNING: \n",
      "undefined variable: A\n"
     ]
    },
    {
     "data": {
      "text/plain": [
       "TOP"
      ]
     },
     "execution_count": 2,
     "metadata": {},
     "output_type": "execute_result"
    }
   ],
   "source": [
    "(setq a 'top)"
   ]
  },
  {
   "cell_type": "code",
   "execution_count": 3,
   "metadata": {},
   "outputs": [
    {
     "name": "stderr",
     "output_type": "stream",
     "text": [
      "SIMPLE-WARNING: \n",
      "undefined variable: A\n"
     ]
    },
    {
     "data": {
      "text/plain": [
       "DUMMY-FUNCTION"
      ]
     },
     "execution_count": 3,
     "metadata": {},
     "output_type": "execute_result"
    }
   ],
   "source": [
    "(defun dummy-function () a)"
   ]
  },
  {
   "cell_type": "code",
   "execution_count": 4,
   "metadata": {},
   "outputs": [
    {
     "name": "stderr",
     "output_type": "stream",
     "text": [
      "SIMPLE-WARNING: \n",
      "undefined variable: A\n"
     ]
    },
    {
     "data": {
      "text/plain": [
       "\"INSIDE TOP TOP\""
      ]
     },
     "execution_count": 4,
     "metadata": {},
     "output_type": "execute_result"
    }
   ],
   "source": [
    "(let ((a 'inside) (b a))\n",
    "    (format nil \"~S ~S ~S\" a b (dummy-function)))"
   ]
  },
  {
   "cell_type": "code",
   "execution_count": 5,
   "metadata": {},
   "outputs": [
    {
     "data": {
      "text/plain": [
       "\"INSIDE INSIDE TOP\""
      ]
     },
     "execution_count": 5,
     "metadata": {},
     "output_type": "execute_result"
    }
   ],
   "source": [
    "(let* ((a 'inside) (b a))\n",
    "    (format nil \"~S ~S ~S\" a b (dummy-function)))"
   ]
  },
  {
   "cell_type": "code",
   "execution_count": 6,
   "metadata": {},
   "outputs": [
    {
     "name": "stderr",
     "output_type": "stream",
     "text": [
      "SIMPLE-WARNING: \n",
      "undefined variable: A\n"
     ]
    },
    {
     "data": {
      "text/plain": [
       "\"INSIDE TOP INSIDE\""
      ]
     },
     "execution_count": 6,
     "metadata": {},
     "output_type": "execute_result"
    }
   ],
   "source": [
    "(let ((a 'inside) (b a))\n",
    "    (declare (special a))\n",
    "    (format nil \"~S ~S ~S\" a b (dummy-function)))"
   ]
  },
  {
   "cell_type": "code",
   "execution_count": 333,
   "metadata": {},
   "outputs": [
    {
     "data": {
      "text/plain": [
       "Top"
      ]
     },
     "execution_count": 333,
     "metadata": {},
     "output_type": "execute_result"
    }
   ],
   "source": [
    "a"
   ]
  },
  {
   "cell_type": "markdown",
   "metadata": {},
   "source": [
    "### if"
   ]
  },
  {
   "cell_type": "markdown",
   "metadata": {},
   "source": [
    "if allows the execution of a form to be dependent on a single test-form.\n",
    "\n",
    "First test-form is evaluated. If the result is true, then then-form is selected; otherwise else-form is selected. Whichever form is selected is then evaluated."
   ]
  },
  {
   "cell_type": "markdown",
   "metadata": {},
   "source": [
    "(if test then-form else-from)"
   ]
  },
  {
   "cell_type": "code",
   "execution_count": 18,
   "metadata": {},
   "outputs": [
    {
     "name": "stdout",
     "output_type": "stream",
     "text": [
      "\n",
      "\"false\" "
     ]
    },
    {
     "data": {
      "text/plain": [
       "\"false\""
      ]
     },
     "execution_count": 18,
     "metadata": {},
     "output_type": "execute_result"
    }
   ],
   "source": [
    "(if nil (print \"true\") (print \"false\"))"
   ]
  },
  {
   "cell_type": "code",
   "execution_count": 20,
   "metadata": {},
   "outputs": [
    {
     "name": "stdout",
     "output_type": "stream",
     "text": [
      "\n",
      "\"true\" "
     ]
    },
    {
     "data": {
      "text/plain": [
       "\"true\""
      ]
     },
     "execution_count": 20,
     "metadata": {},
     "output_type": "execute_result"
    }
   ],
   "source": [
    "(if t (print \"true\") (print \"false\"))"
   ]
  },
  {
   "cell_type": "code",
   "execution_count": 21,
   "metadata": {},
   "outputs": [
    {
     "name": "stdout",
     "output_type": "stream",
     "text": [
      "\n",
      "TRUE "
     ]
    },
    {
     "data": {
      "text/plain": [
       "TRUE"
      ]
     },
     "execution_count": 21,
     "metadata": {},
     "output_type": "execute_result"
    }
   ],
   "source": [
    "(if 1 (print 'true) (print 'false))"
   ]
  },
  {
   "cell_type": "code",
   "execution_count": 23,
   "metadata": {},
   "outputs": [
    {
     "name": "stdout",
     "output_type": "stream",
     "text": [
      "\n",
      "\"true\" "
     ]
    },
    {
     "data": {
      "text/plain": [
       "\"true\""
      ]
     },
     "execution_count": 23,
     "metadata": {},
     "output_type": "execute_result"
    }
   ],
   "source": [
    "(if '(a b c) (print \"true\") (print \"false\"))"
   ]
  },
  {
   "cell_type": "markdown",
   "metadata": {},
   "source": [
    "## Macros"
   ]
  },
  {
   "cell_type": "markdown",
   "metadata": {},
   "source": [
    "### defun"
   ]
  },
  {
   "cell_type": "markdown",
   "metadata": {},
   "source": [
    "Macro for defining named functions. \n",
    "The basic syntax is \n",
    "\n",
    "    (defun name ( { parameter }* ) { form }*)\n",
    "\n",
    "Defines a new function named function-name in the global environment.\n",
    "The body of the function defined by defun consists of forms.\n",
    "\n",
    "When the function is called, the form(s) constituting the body are evaluated in sequence in a context where any parameter(s) are lexical variables bound to the actual parameters of the call; if there are multiple form(s) the value of the last becomes the value of the function and the others are evaluated only for side-effects."
   ]
  },
  {
   "cell_type": "code",
   "execution_count": 64,
   "metadata": {
    "scrolled": true
   },
   "outputs": [
    {
     "name": "stderr",
     "output_type": "stream",
     "text": [
      "REDEFINITION-WITH-DEFUN: \n",
      "  redefining CL-JUPYTER-USER::DISCRIMINANT in DEFUN\n"
     ]
    },
    {
     "data": {
      "text/plain": [
       "DISCRIMINANT"
      ]
     },
     "execution_count": 64,
     "metadata": {},
     "output_type": "execute_result"
    }
   ],
   "source": [
    "(defun discriminant (a b c)\n",
    "  \"Compute the discriminant for a quadratic equation.\"\n",
    "  (- (* b b) (* 4 a c)))"
   ]
  },
  {
   "cell_type": "code",
   "execution_count": 42,
   "metadata": {},
   "outputs": [
    {
     "data": {
      "text/plain": [
       "76/9"
      ]
     },
     "execution_count": 42,
     "metadata": {},
     "output_type": "execute_result"
    }
   ],
   "source": [
    "(discriminant 1 2/3 -2)"
   ]
  },
  {
   "cell_type": "markdown",
   "metadata": {},
   "source": [
    "### defvar & defparameter"
   ]
  },
  {
   "cell_type": "markdown",
   "metadata": {},
   "source": [
    "defparameter and defvar establish name as a dynamic variable.\n",
    "\n",
    "defparameter unconditionally assigns the initial-value to the dynamic variable named name. defvar, by contrast, assigns initial-value (if supplied) to the dynamic variable named name only if name is not already bound.\n",
    "\n",
    "If no initial-value is supplied, defvar leaves the value cell of the dynamic variable named name undisturbed; if name was previously bound, its old value persists, and if it was previously unbound, it remains unbound."
   ]
  },
  {
   "cell_type": "code",
   "execution_count": 78,
   "metadata": {},
   "outputs": [
    {
     "data": {
      "text/plain": [
       "*P*"
      ]
     },
     "execution_count": 78,
     "metadata": {},
     "output_type": "execute_result"
    }
   ],
   "source": [
    "(defparameter *p* 1)"
   ]
  },
  {
   "cell_type": "code",
   "execution_count": 79,
   "metadata": {},
   "outputs": [
    {
     "data": {
      "text/plain": [
       "1"
      ]
     },
     "execution_count": 79,
     "metadata": {},
     "output_type": "execute_result"
    }
   ],
   "source": [
    "*p*"
   ]
  },
  {
   "cell_type": "code",
   "execution_count": 81,
   "metadata": {},
   "outputs": [
    {
     "data": {
      "text/plain": [
       "2"
      ]
     },
     "execution_count": 81,
     "metadata": {},
     "output_type": "execute_result"
    }
   ],
   "source": [
    "(setq *p* 2)"
   ]
  },
  {
   "cell_type": "code",
   "execution_count": 82,
   "metadata": {},
   "outputs": [
    {
     "data": {
      "text/plain": [
       "2"
      ]
     },
     "execution_count": 82,
     "metadata": {},
     "output_type": "execute_result"
    }
   ],
   "source": [
    "*p*"
   ]
  },
  {
   "cell_type": "code",
   "execution_count": 85,
   "metadata": {},
   "outputs": [
    {
     "data": {
      "text/plain": [
       "*P*"
      ]
     },
     "execution_count": 85,
     "metadata": {},
     "output_type": "execute_result"
    }
   ],
   "source": [
    "(defparameter *p* 3)"
   ]
  },
  {
   "cell_type": "code",
   "execution_count": 86,
   "metadata": {},
   "outputs": [
    {
     "data": {
      "text/plain": [
       "3"
      ]
     },
     "execution_count": 86,
     "metadata": {},
     "output_type": "execute_result"
    }
   ],
   "source": [
    "*p*"
   ]
  },
  {
   "cell_type": "code",
   "execution_count": 87,
   "metadata": {},
   "outputs": [
    {
     "data": {
      "text/plain": [
       "*V*"
      ]
     },
     "execution_count": 87,
     "metadata": {},
     "output_type": "execute_result"
    }
   ],
   "source": [
    "(defvar *v* 1)"
   ]
  },
  {
   "cell_type": "code",
   "execution_count": 91,
   "metadata": {},
   "outputs": [
    {
     "data": {
      "text/plain": [
       "2"
      ]
     },
     "execution_count": 91,
     "metadata": {},
     "output_type": "execute_result"
    }
   ],
   "source": [
    "*v*"
   ]
  },
  {
   "cell_type": "code",
   "execution_count": 89,
   "metadata": {},
   "outputs": [
    {
     "data": {
      "text/plain": [
       "2"
      ]
     },
     "execution_count": 89,
     "metadata": {},
     "output_type": "execute_result"
    }
   ],
   "source": [
    "(setq *v* 2)"
   ]
  },
  {
   "cell_type": "code",
   "execution_count": 91,
   "metadata": {},
   "outputs": [
    {
     "data": {
      "text/plain": [
       "2"
      ]
     },
     "execution_count": 91,
     "metadata": {},
     "output_type": "execute_result"
    }
   ],
   "source": [
    "*v*"
   ]
  },
  {
   "cell_type": "code",
   "execution_count": 90,
   "metadata": {},
   "outputs": [
    {
     "data": {
      "text/plain": [
       "*V*"
      ]
     },
     "execution_count": 90,
     "metadata": {},
     "output_type": "execute_result"
    }
   ],
   "source": [
    "(defvar *v* 3)"
   ]
  },
  {
   "cell_type": "code",
   "execution_count": 91,
   "metadata": {},
   "outputs": [
    {
     "data": {
      "text/plain": [
       "2"
      ]
     },
     "execution_count": 91,
     "metadata": {},
     "output_type": "execute_result"
    }
   ],
   "source": [
    "*v*"
   ]
  },
  {
   "cell_type": "code",
   "execution_count": 93,
   "metadata": {
    "scrolled": true
   },
   "outputs": [
    {
     "name": "stderr",
     "output_type": "stream",
     "text": [
      "SIMPLE-STYLE-WARNING: \n",
      "  undefined function: BAR\n"
     ]
    },
    {
     "data": {
      "text/plain": [
       "FOOO"
      ]
     },
     "execution_count": 93,
     "metadata": {},
     "output_type": "execute_result"
    }
   ],
   "source": [
    "(defun fooo ()\n",
    "  (let ((*p* 'p) (*v* 'v))\n",
    "    (bar)))"
   ]
  },
  {
   "cell_type": "code",
   "execution_count": 94,
   "metadata": {},
   "outputs": [
    {
     "data": {
      "text/plain": [
       "BAR"
      ]
     },
     "execution_count": 94,
     "metadata": {},
     "output_type": "execute_result"
    }
   ],
   "source": [
    "(defun bar () (list *p* *v*))"
   ]
  },
  {
   "cell_type": "code",
   "execution_count": 95,
   "metadata": {},
   "outputs": [
    {
     "data": {
      "text/plain": [
       "(P V)"
      ]
     },
     "execution_count": 95,
     "metadata": {},
     "output_type": "execute_result"
    }
   ],
   "source": [
    "(foo)"
   ]
  },
  {
   "cell_type": "markdown",
   "metadata": {},
   "source": [
    "### lambda\n",
    "Macro for defining anonymous functions. The basic syntax is\n",
    "\t\n",
    "    (lambda  ( { parameter }* ) { form }* )\n",
    "\t\n",
    "When the function is called, the form(s) constituting the body are evaluated in sequence in a context where any parameter(s) are lexical variables bound to the actual parameters of the call; if there are multiple form(s) the value of the last becomes the value of the function and the others are evaluated only for side-effects."
   ]
  },
  {
   "cell_type": "code",
   "execution_count": 101,
   "metadata": {},
   "outputs": [
    {
     "data": {
      "text/plain": [
       "7"
      ]
     },
     "execution_count": 101,
     "metadata": {},
     "output_type": "execute_result"
    }
   ],
   "source": [
    "(funcall (lambda (x) (+ x 3)) 4)"
   ]
  },
  {
   "cell_type": "markdown",
   "metadata": {},
   "source": [
    "### cond"
   ]
  },
  {
   "cell_type": "markdown",
   "metadata": {},
   "source": [
    "cond is a macro that selects one series of expressions out of several to evaluate. It has the following basic form (though variations are possible)\n",
    " \n",
    "    (cond { ( test { form }*) }* )\n",
    "\t\n",
    "Each test is evaluated in turn until one returns any result other than nil at which point the following form(s) is/are evaluated. The value of the last form evaluated becomes the value of the cond, hence if there is more than one form, any form save the last is evaluated only for its side effects. It is common to see that the last clause of cond has the test t, which of course is always true and constitutes a default case."
   ]
  },
  {
   "cell_type": "markdown",
   "metadata": {},
   "source": [
    "    (cond (test then) (t else))"
   ]
  },
  {
   "cell_type": "code",
   "execution_count": 27,
   "metadata": {},
   "outputs": [
    {
     "name": "stdout",
     "output_type": "stream",
     "text": [
      "yes"
     ]
    },
    {
     "data": {
      "text/plain": [
       "NIL"
      ]
     },
     "execution_count": 27,
     "metadata": {},
     "output_type": "execute_result"
    }
   ],
   "source": [
    "(defvar *x* nil)\n",
    "(cond (x (format t \"yes\")) (t (format t \"no\")))"
   ]
  },
  {
   "cell_type": "markdown",
   "metadata": {},
   "source": [
    "### and\n",
    "Macro with any number of arguments, which are usually all tests - true if all are non-nil - false if any is nil. Does short-circuit evaluation - i.e. stops evaluating arguments as soon as one that is false (nil) is encountered. "
   ]
  },
  {
   "cell_type": "code",
   "execution_count": 184,
   "metadata": {},
   "outputs": [
    {
     "data": {
      "text/plain": [
       "*AGE*"
      ]
     },
     "execution_count": 184,
     "metadata": {},
     "output_type": "execute_result"
    }
   ],
   "source": [
    "(defvar *age* 30)"
   ]
  },
  {
   "cell_type": "code",
   "execution_count": 185,
   "metadata": {},
   "outputs": [
    {
     "name": "stdout",
     "output_type": "stream",
     "text": [
      "Time for work\n"
     ]
    },
    {
     "data": {
      "text/plain": [
       "NIL"
      ]
     },
     "execution_count": 185,
     "metadata": {},
     "output_type": "execute_result"
    }
   ],
   "source": [
    "(if (and (>= *age* 18) (<= *age* 67) )\n",
    "(format t \"Time for work~%\")\n",
    "(format t \"Work if you want~%\"))"
   ]
  },
  {
   "cell_type": "markdown",
   "metadata": {},
   "source": [
    "### or\n",
    "Macro with any number of arguments, which are usually all tests - true if any is non-nil - false if all are nil. Does short-circuit evaluation - i.e. stops evaluating arguments as soon as one that is true (non-nil) is encountered. "
   ]
  },
  {
   "cell_type": "code",
   "execution_count": 187,
   "metadata": {},
   "outputs": [
    {
     "name": "stdout",
     "output_type": "stream",
     "text": [
      "You should work\n"
     ]
    },
    {
     "data": {
      "text/plain": [
       "NIL"
      ]
     },
     "execution_count": 187,
     "metadata": {},
     "output_type": "execute_result"
    }
   ],
   "source": [
    "(if (or (<= *age* 21) (>= *age* 67) )\n",
    "(format t \"You shouldn't work~%\")\n",
    "(format t \"You should work~%\"))"
   ]
  },
  {
   "cell_type": "markdown",
   "metadata": {},
   "source": [
    "### when & unless\n",
    "\n",
    "Allow the execution of forms to be dependent on a single test-form.\n",
    "\n",
    "In a when form, allows you to execute multiple statements by default.<br>\n",
    "If the test-form yields true, the forms are evaluated in order from left to right and the values returned by the forms are returned from the when form. <br>\n",
    "Otherwise, if the test-form yields false, the forms are not evaluated, and the when form returns nil.\n",
    "\n",
    "In an unless form, it is executed if the expression is false.<br>\n",
    "If the test-form yields false, the forms are evaluated in order from left to right and the values returned by the forms are returned from the unless form. <br>\n",
    "Otherwise, if the test-form yields false, the forms are not evaluated, and the unless form returns nil."
   ]
  },
  {
   "cell_type": "code",
   "execution_count": 104,
   "metadata": {},
   "outputs": [
    {
     "data": {
      "text/plain": [
       "HELLO"
      ]
     },
     "execution_count": 104,
     "metadata": {},
     "output_type": "execute_result"
    }
   ],
   "source": [
    "(when t 'hello)"
   ]
  },
  {
   "cell_type": "code",
   "execution_count": 105,
   "metadata": {},
   "outputs": [
    {
     "data": {
      "text/plain": [
       "NIL"
      ]
     },
     "execution_count": 105,
     "metadata": {},
     "output_type": "execute_result"
    }
   ],
   "source": [
    "(unless t 'hello)"
   ]
  },
  {
   "cell_type": "code",
   "execution_count": 106,
   "metadata": {},
   "outputs": [
    {
     "data": {
      "text/plain": [
       "NIL"
      ]
     },
     "execution_count": 106,
     "metadata": {},
     "output_type": "execute_result"
    }
   ],
   "source": [
    "(when nil 'hello)"
   ]
  },
  {
   "cell_type": "code",
   "execution_count": 107,
   "metadata": {},
   "outputs": [
    {
     "data": {
      "text/plain": [
       "HELLO"
      ]
     },
     "execution_count": 107,
     "metadata": {},
     "output_type": "execute_result"
    }
   ],
   "source": [
    "(unless nil 'hello)"
   ]
  },
  {
   "cell_type": "code",
   "execution_count": 108,
   "metadata": {},
   "outputs": [
    {
     "data": {
      "text/plain": [
       "NIL"
      ]
     },
     "execution_count": 108,
     "metadata": {},
     "output_type": "execute_result"
    }
   ],
   "source": [
    "(when t)"
   ]
  },
  {
   "cell_type": "code",
   "execution_count": 109,
   "metadata": {},
   "outputs": [
    {
     "data": {
      "text/plain": [
       "NIL"
      ]
     },
     "execution_count": 109,
     "metadata": {},
     "output_type": "execute_result"
    }
   ],
   "source": [
    "(unless nil)"
   ]
  },
  {
   "cell_type": "code",
   "execution_count": 110,
   "metadata": {},
   "outputs": [
    {
     "name": "stdout",
     "output_type": "stream",
     "text": [
      "123"
     ]
    },
    {
     "data": {
      "text/plain": [
       "3"
      ]
     },
     "execution_count": 110,
     "metadata": {},
     "output_type": "execute_result"
    }
   ],
   "source": [
    "(when t (prin1 1) (prin1 2) (prin1 3))"
   ]
  },
  {
   "cell_type": "code",
   "execution_count": 111,
   "metadata": {},
   "outputs": [
    {
     "data": {
      "text/plain": [
       "NIL"
      ]
     },
     "execution_count": 111,
     "metadata": {},
     "output_type": "execute_result"
    }
   ],
   "source": [
    "(unless t (prin1 1) (prin1 2) (prin1 3))"
   ]
  },
  {
   "cell_type": "code",
   "execution_count": null,
   "metadata": {
    "collapsed": true
   },
   "outputs": [],
   "source": [
    "(when nil (prin1 1) (prin1 2) (prin1 3))"
   ]
  },
  {
   "cell_type": "code",
   "execution_count": null,
   "metadata": {
    "collapsed": true
   },
   "outputs": [],
   "source": [
    "(unless nil (prin1 1) (prin1 2) (prin1 3))"
   ]
  },
  {
   "cell_type": "code",
   "execution_count": 114,
   "metadata": {},
   "outputs": [
    {
     "data": {
      "text/plain": [
       "T"
      ]
     },
     "execution_count": 114,
     "metadata": {},
     "output_type": "execute_result"
    }
   ],
   "source": [
    "(oddp 3)"
   ]
  },
  {
   "cell_type": "code",
   "execution_count": 112,
   "metadata": {},
   "outputs": [
    {
     "data": {
      "text/plain": [
       "((4) NIL (5) NIL 6 (6) 7 (7))"
      ]
     },
     "execution_count": 112,
     "metadata": {},
     "output_type": "execute_result"
    }
   ],
   "source": [
    "(let ((x 3))\n",
    "  (list (when  (incf x) (list x))\n",
    "        (when (oddp x) (incf x) (list x))\n",
    "        (unless (oddp x) (incf x) (list x))\n",
    "        (unless (oddp x) (incf x) (list x))\n",
    "        (if (oddp x) (incf x) (list x)) \n",
    "        (if (oddp x) (incf x) (list x)) \n",
    "        (if (not (oddp x)) (incf x) (list x)) \n",
    "        (if (not (oddp x)) (incf x) (list x))))"
   ]
  },
  {
   "cell_type": "code",
   "execution_count": null,
   "metadata": {
    "collapsed": true
   },
   "outputs": [],
   "source": [
    "(when (= *age* 18)\n",
    "    (setf *num-3* 18)\n",
    "    (format t \"Go to college you're ~d ~%\" *num-3*)\n",
    ")"
   ]
  },
  {
   "cell_type": "code",
   "execution_count": null,
   "metadata": {
    "collapsed": true
   },
   "outputs": [],
   "source": [
    "(unless (not (= *age* 18))\n",
    "    (setf *num-3* 20)\n",
    "    (format t \"Something Random ~%\")\n",
    ")"
   ]
  },
  {
   "cell_type": "markdown",
   "metadata": {},
   "source": [
    "### progn \n",
    "\n",
    "This macro evaluates forms, in the order in which they are given.\n",
    "\n",
    "The values of each form but the last are discarded.\n",
    "\n",
    "If progn appears as a top level form, then all forms within that progn are considered by the compiler to be top level forms."
   ]
  },
  {
   "cell_type": "code",
   "execution_count": 115,
   "metadata": {},
   "outputs": [
    {
     "data": {
      "text/plain": [
       "NIL"
      ]
     },
     "execution_count": 115,
     "metadata": {},
     "output_type": "execute_result"
    }
   ],
   "source": [
    "(progn)"
   ]
  },
  {
   "cell_type": "code",
   "execution_count": 116,
   "metadata": {},
   "outputs": [
    {
     "data": {
      "text/plain": [
       "3"
      ]
     },
     "execution_count": 116,
     "metadata": {},
     "output_type": "execute_result"
    }
   ],
   "source": [
    "(progn 1 2 3)"
   ]
  },
  {
   "cell_type": "code",
   "execution_count": 117,
   "metadata": {},
   "outputs": [
    {
     "data": {
      "text/plain": [
       "1"
      ]
     },
     "execution_count": 117,
     "metadata": {},
     "output_type": "execute_result"
    }
   ],
   "source": [
    "(progn (values 1 2 3))"
   ]
  },
  {
   "cell_type": "code",
   "execution_count": 118,
   "metadata": {},
   "outputs": [
    {
     "name": "stderr",
     "output_type": "stream",
     "text": [
      "SIMPLE-WARNING: \n",
      "undefined variable: A\n"
     ]
    },
    {
     "data": {
      "text/plain": [
       "1"
      ]
     },
     "execution_count": 118,
     "metadata": {},
     "output_type": "execute_result"
    }
   ],
   "source": [
    "(setq a 1)"
   ]
  },
  {
   "cell_type": "code",
   "execution_count": 119,
   "metadata": {},
   "outputs": [
    {
     "name": "stderr",
     "output_type": "stream",
     "text": [
      "SIMPLE-WARNING: \n",
      "undefined variable: A\n"
     ]
    },
    {
     "data": {
      "text/plain": [
       "HERE"
      ]
     },
     "execution_count": 119,
     "metadata": {},
     "output_type": "execute_result"
    }
   ],
   "source": [
    "(if a\n",
    "      (progn (setq a nil) 'here)\n",
    "      (progn (setq a t) 'there))"
   ]
  },
  {
   "cell_type": "code",
   "execution_count": 120,
   "metadata": {},
   "outputs": [
    {
     "data": {
      "text/plain": [
       "NIL"
      ]
     },
     "execution_count": 120,
     "metadata": {},
     "output_type": "execute_result"
    }
   ],
   "source": [
    "a"
   ]
  },
  {
   "cell_type": "markdown",
   "metadata": {},
   "source": [
    "### defconstant \n",
    "This macro causes the global variable named by name to be given a value that is the result of evaluating initial-value.\n",
    "\n",
    "A constant defined by defconstant can be redefined with defconstant. The consequences are undefined if an attempt is made to assign a value to the symbol using another operator, or to assign it to a different value using a subsequent defconstant.\n",
    "\n",
    "If documentation is supplied, it is attached to name as a documentation string of kind variable.\n",
    "\n",
    "defconstant normally appears as a top level form, but it is meaningful for it to appear as a non-top-level form. However, the compile-time side effects described below only take place when defconstant appears as a top level form.\n",
    "\n",
    "The consequences are undefined if there are any bindings of the variable named by name at the time defconstant is executed or if the value is not eql to the value of initial-value.\n",
    "\n",
    "The consequences are undefined when constant symbols are rebound as either lexical or dynamic variables. In other words, a reference to a symbol declared with defconstant always refers to its global value.\n",
    "\n",
    "The side effects of the execution of defconstant must be equivalent to at least the side effects of the execution of the following code:\n",
    "\n",
    " (setf (symbol-value 'name) initial-value)\n",
    " (setf (documentation 'name 'variable) 'documentation)\n"
   ]
  },
  {
   "cell_type": "markdown",
   "metadata": {},
   "source": [
    "### catch\n",
    "Catch macro is used as the destination of a non-local control transfer by throw. Tags are used to find the catch to which a throw is transferring control. \n",
    "\n",
    "    (catch 'foo form) \n",
    "    \n",
    "catches a \n",
    "\n",
    "    (throw 'foo form) \n",
    "    \n",
    "but not a \n",
    "    \n",
    "    (throw 'bar form).\n",
    "\n",
    "The order of execution of catch follows:\n",
    "\n",
    "1. Tag is evaluated. It serves as the name of the catch.\n",
    "2. Forms are then evaluated, and the results of the last form are returned unless a throw occurs.\n",
    "3. If a throw occurs during the execution of one of the forms, control is transferred to the catch form whose tag is eq to the tag argument of the throw and which is the most recently established catch with that tag. No further evaluation of forms occurs.\n",
    "4. The tag established by catch is disestablished just before the results are returned.\n",
    "\n",
    "If during the execution of one of the forms, a throw is executed whose tag is eq to the catch tag, then the values specified by the throw are returned as the result of the dynamically most recently established catch form with that tag.\n",
    "\n",
    "The mechanism for catch and throw works even if throw is not within the lexical scope of catch. throw must occur within the dynamic extent of the evaluation of the body of a catch with a corresponding tag."
   ]
  },
  {
   "cell_type": "code",
   "execution_count": 121,
   "metadata": {},
   "outputs": [
    {
     "data": {
      "text/plain": [
       "3"
      ]
     },
     "execution_count": 121,
     "metadata": {},
     "output_type": "execute_result"
    }
   ],
   "source": [
    "(catch 'dummy-tag 1 2 (throw 'dummy-tag 3) 4)"
   ]
  },
  {
   "cell_type": "code",
   "execution_count": 122,
   "metadata": {},
   "outputs": [
    {
     "data": {
      "text/plain": [
       "4"
      ]
     },
     "execution_count": 122,
     "metadata": {},
     "output_type": "execute_result"
    }
   ],
   "source": [
    "(catch 'dummy-tag 1 2 3 4)"
   ]
  },
  {
   "cell_type": "code",
   "execution_count": 123,
   "metadata": {},
   "outputs": [
    {
     "data": {
      "text/plain": [
       "THROW-BACK"
      ]
     },
     "execution_count": 123,
     "metadata": {},
     "output_type": "execute_result"
    }
   ],
   "source": [
    "(defun throw-back (tag) (throw tag t))"
   ]
  },
  {
   "cell_type": "code",
   "execution_count": 124,
   "metadata": {},
   "outputs": [
    {
     "data": {
      "text/plain": [
       "T"
      ]
     },
     "execution_count": 124,
     "metadata": {},
     "output_type": "execute_result"
    }
   ],
   "source": [
    "(catch 'dummy-tag (throw-back 'dummy-tag) 2)"
   ]
  },
  {
   "cell_type": "code",
   "execution_count": 125,
   "metadata": {},
   "outputs": [
    {
     "data": {
      "text/plain": [
       "2"
      ]
     },
     "execution_count": 125,
     "metadata": {},
     "output_type": "execute_result"
    }
   ],
   "source": [
    ";; Contrast behavior of this example with corresponding example of BLOCK.\n",
    "(catch 'c\n",
    "  (flet ((c1 () (throw 'c 1)))\n",
    "    (catch 'c (c1) (print 'unreachable))\n",
    "    2))"
   ]
  },
  {
   "cell_type": "code",
   "execution_count": 203,
   "metadata": {},
   "outputs": [
    {
     "data": {
      "text/plain": [
       "6"
      ]
     },
     "execution_count": 203,
     "metadata": {},
     "output_type": "execute_result"
    }
   ],
   "source": [
    "(defparameter *num* 2)\n",
    "(defparameter *num-2* 2)\n",
    "(defparameter *num-3* 2)\n",
    "\n",
    "(if (= *num* 2)\n",
    "    (progn \n",
    "        (setf *num-2* (* *num-2* 2))\n",
    "        (setf *num-3* (* *num-3* 3))\n",
    "    ))"
   ]
  },
  {
   "cell_type": "code",
   "execution_count": 84,
   "metadata": {},
   "outputs": [
    {
     "name": "stdout",
     "output_type": "stream",
     "text": [
      "\n",
      "\"Kindergarten\" "
     ]
    },
    {
     "name": "stderr",
     "output_type": "stream",
     "text": [
      "Redefinition-With-Defun: \n",
      "  redefining Cl-Jupyter-User::Get-School in DEFUN\n"
     ]
    },
    {
     "data": {
      "text/plain": [
       "\"Kindergarten\""
      ]
     },
     "execution_count": 84,
     "metadata": {},
     "output_type": "execute_result"
    }
   ],
   "source": [
    "Case performs certain actions depending on conditions\n",
    "(defun get-school (age)\n",
    "    (case age\n",
    "        (5 (print \"Kindergarten\"))\n",
    "        (6 (print \"First Grade\"))\n",
    "        (otherwise '(middle school))\n",
    "    ))\n",
    "\n",
    "(get-school 5)"
   ]
  },
  {
   "cell_type": "code",
   "execution_count": 87,
   "metadata": {},
   "outputs": [
    {
     "name": "stdout",
     "output_type": "stream",
     "text": [
      "Ready for College \n"
     ]
    },
    {
     "data": {
      "text/plain": [
       "Nil"
      ]
     },
     "execution_count": 87,
     "metadata": {},
     "output_type": "execute_result"
    }
   ],
   "source": [
    "(defvar *college-ready* nil)\n",
    "\n",
    "(cond ( (>= *age* 18) ; If T do this\n",
    "        (setf *college-ready* 'yes)\n",
    "        (format t \"Ready for College ~%\"))\n",
    "      ( (< *age* 18) ; Else If T do this\n",
    "        (setf *college-ready* 'no)\n",
    "        (format t \"Not Ready for College ~%\"))\n",
    "      (t (format t \"Don't Know ~%\"))) ; Else do this by default (t is for true)\n",
    "      "
   ]
  },
  {
   "cell_type": "markdown",
   "metadata": {},
   "source": [
    "#### Loop"
   ]
  },
  {
   "cell_type": "markdown",
   "metadata": {},
   "source": [
    "The Loop Macro is one of the most valuable, and least-well documented of the operations in Common Lisp. It is valuable because it is more powerful, more compact, and more readable than comparable Common Lisp constructs such as mapping operations and recursion. It also uses a programming style that will be familiar to programmers who have worked with other more traditional languages. This short guide provides examples of how to use the Loop Macro.\n",
    "\n",
    "The Loop macro is different than most Lisp expressions in having a complex internal syntax that is more similar to programming languages like C or Pascal. So you need to read Loop expressions with half of your brain in Lisp mode, and the other half in Pascal mode.\n",
    "\n",
    "Think of Loop expressions as having four parts: expressions that set up variables that will be iterated, expressions that conditionally terminate the iteration, expressions that do something on each iteration, and expressions that do something right before the Loop exits. In addition, Loop expressions can return a value. It is very rare to use all of these parts in a given Loop expression, but you can combine them in many ways."
   ]
  },
  {
   "cell_type": "markdown",
   "metadata": {},
   "source": [
    "loop executes code a defined number of times <br>\n",
    "Create a list using numbers 1 through 10"
   ]
  },
  {
   "cell_type": "code",
   "execution_count": 44,
   "metadata": {},
   "outputs": [
    {
     "name": "stdout",
     "output_type": "stream",
     "text": [
      "\n",
      "A \n",
      "B \n",
      "C \n",
      "D \n",
      "E "
     ]
    },
    {
     "data": {
      "text/plain": [
       "NIL"
      ]
     },
     "execution_count": 44,
     "metadata": {},
     "output_type": "execute_result"
    }
   ],
   "source": [
    "(loop for x in '(a b c d e)\n",
    "      do (print x) )"
   ]
  },
  {
   "cell_type": "code",
   "execution_count": 43,
   "metadata": {},
   "outputs": [
    {
     "name": "stdout",
     "output_type": "stream",
     "text": [
      "\n",
      "1 \n",
      "2 \n",
      "3 \n",
      "4 \n",
      "5 \n",
      "6 \n",
      "7 \n",
      "8 \n",
      "9 \n",
      "10 "
     ]
    },
    {
     "data": {
      "text/plain": [
       "NIL"
      ]
     },
     "execution_count": 43,
     "metadata": {},
     "output_type": "execute_result"
    }
   ],
   "source": [
    "(loop for x from 1 to 10\n",
    "    do(print x))"
   ]
  },
  {
   "cell_type": "markdown",
   "metadata": {},
   "source": [
    " Iterate through two lists in parallel, and cons\n",
    " up a result that is returned as a value by Loop.\n",
    "Note that keywords \"append\" and \"nconc\" are available\n",
    "in addition to collect."
   ]
  },
  {
   "cell_type": "code",
   "execution_count": 45,
   "metadata": {},
   "outputs": [
    {
     "data": {
      "text/plain": [
       "((A 1) (B 2) (C 3) (D 4) (E 5))"
      ]
     },
     "execution_count": 45,
     "metadata": {},
     "output_type": "execute_result"
    }
   ],
   "source": [
    "(loop for x in '(a b c d e)\n",
    "      for y in '(1 2 3 4 5)\n",
    "      collect (list x y) )"
   ]
  },
  {
   "cell_type": "markdown",
   "metadata": {},
   "source": [
    ";; Iterate using a counter, and a variable whose value\n",
    ";; is computed from an expression on each iteration."
   ]
  },
  {
   "cell_type": "code",
   "execution_count": 46,
   "metadata": {},
   "outputs": [
    {
     "data": {
      "text/plain": [
       "(2 4 6 8 10)"
      ]
     },
     "execution_count": 46,
     "metadata": {},
     "output_type": "execute_result"
    }
   ],
   "source": [
    "(loop for x from 1 to 5\n",
    "      for y = (* x 2)\n",
    "      collect y)"
   ]
  },
  {
   "cell_type": "markdown",
   "metadata": {},
   "source": [
    ";; Iterate through a list, and have a counter iterate\n",
    ";; in parallel.  The length of the list determines when\n",
    ";; the iteration ends.  Two sets of actions are defined,\n",
    ";; one of which is executed conditionally.\n"
   ]
  },
  {
   "cell_type": "code",
   "execution_count": 47,
   "metadata": {},
   "outputs": [
    {
     "name": "stdout",
     "output_type": "stream",
     "text": [
      "A, B, C, D, E"
     ]
    },
    {
     "data": {
      "text/plain": [
       "NIL"
      ]
     },
     "execution_count": 47,
     "metadata": {},
     "output_type": "execute_result"
    }
   ],
   "source": [
    "(loop for x in '(a b c d e)\n",
    "      for y from 1\n",
    "\n",
    "      when (> y 1)\n",
    "      do (format t \", \")\n",
    "\n",
    "      do (format t \"~A\" x)\n",
    "      )"
   ]
  },
  {
   "cell_type": "code",
   "execution_count": 48,
   "metadata": {},
   "outputs": [
    {
     "name": "stdout",
     "output_type": "stream",
     "text": [
      "A, B, C, D, E"
     ]
    },
    {
     "data": {
      "text/plain": [
       "NIL"
      ]
     },
     "execution_count": 48,
     "metadata": {},
     "output_type": "execute_result"
    }
   ],
   "source": [
    "(loop for x in '(a b c d e)\n",
    "      for y from 1\n",
    "\n",
    "      if (> y 1)\n",
    "      do (format t \", ~A\" x)\n",
    "      else do (format t \"~A\" x)\n",
    "      )"
   ]
  },
  {
   "cell_type": "markdown",
   "metadata": {},
   "source": [
    "Loop until the when condition calls return"
   ]
  },
  {
   "cell_type": "code",
   "execution_count": 90,
   "metadata": {},
   "outputs": [
    {
     "name": "stdout",
     "output_type": "stream",
     "text": [
      "1 \n",
      "2 \n",
      "3 \n",
      "4 \n",
      "5 \n",
      "6 \n",
      "7 \n",
      "8 \n",
      "9 \n",
      "10 \n"
     ]
    },
    {
     "name": "stderr",
     "output_type": "stream",
     "text": [
      "Simple-Warning: \n",
      "undefined variable: X\n",
      "Simple-Warning: \n",
      "undefined variable: X\n"
     ]
    },
    {
     "data": {
      "text/plain": [
       "11"
      ]
     },
     "execution_count": 90,
     "metadata": {},
     "output_type": "execute_result"
    }
   ],
   "source": [
    "(setq x 1)\n",
    "(loop\n",
    "    (format t \"~d ~%\" x)\n",
    "    (setq x (+ x 1))\n",
    "    (when (> x 10) (return x))\n",
    ")"
   ]
  },
  {
   "cell_type": "markdown",
   "metadata": {},
   "source": [
    "loop for can cycle through a list or iterate commonly <br>\n",
    "It will execute any number of statements after do"
   ]
  },
  {
   "cell_type": "code",
   "execution_count": 91,
   "metadata": {},
   "outputs": [
    {
     "name": "stdout",
     "output_type": "stream",
     "text": [
      "Peter \n",
      "Paul \n",
      "Mary \n"
     ]
    },
    {
     "data": {
      "text/plain": [
       "Nil"
      ]
     },
     "execution_count": 91,
     "metadata": {},
     "output_type": "execute_result"
    }
   ],
   "source": [
    "(loop for x in '(Peter Paul Mary) do \n",
    "    (format t \"~s ~%\" x)\n",
    ")"
   ]
  },
  {
   "cell_type": "code",
   "execution_count": 54,
   "metadata": {},
   "outputs": [
    {
     "name": "stdout",
     "output_type": "stream",
     "text": [
      "\n",
      "100 \n",
      "101 \n",
      "102 \n",
      "103 \n",
      "104 \n",
      "105 \n",
      "106 \n",
      "107 \n",
      "108 \n",
      "109 \n",
      "110 "
     ]
    },
    {
     "data": {
      "text/plain": [
       "NIL"
      ]
     },
     "execution_count": 54,
     "metadata": {},
     "output_type": "execute_result"
    }
   ],
   "source": [
    "(loop for y from 100 to 110 do\n",
    "    (print y)\n",
    ")"
   ]
  },
  {
   "cell_type": "code",
   "execution_count": 53,
   "metadata": {},
   "outputs": [
    {
     "name": "stderr",
     "output_type": "stream",
     "text": [
      "SIMPLE-PROGRAM-ERROR: \n",
      "A compound form was expected, but COLLECT found.\n",
      "current LOOP context: DO COLLECT (LIST X 'FOO).\n"
     ]
    },
    {
     "data": {
      "text/plain": [
       "NIL"
      ]
     },
     "execution_count": 53,
     "metadata": {},
     "output_type": "execute_result"
    }
   ],
   "source": [
    ";; Terminate the loop early using a test.  Actions can\n",
    ";; consist of arbitrarily many lines and can refer to\n",
    ";; variables defined outside the lexical scope of the loop.\n",
    "\n",
    "(loop for x in '(a b c d e 1 2 3 4)\n",
    "   until (numberp x)\n",
    "   do\n",
    "   collect (list x 'foo))"
   ]
  },
  {
   "cell_type": "code",
   "execution_count": 50,
   "metadata": {
    "scrolled": true
   },
   "outputs": [
    {
     "name": "stdout",
     "output_type": "stream",
     "text": [
      "\n",
      "5 \n",
      "10 \n",
      "15 \n",
      "20 \n",
      "25 \n",
      "30 \n",
      "35 \n",
      "40 \n",
      "45 "
     ]
    },
    {
     "data": {
      "text/plain": [
       "(10 20 30 40 50 60 70 80 90)"
      ]
     },
     "execution_count": 50,
     "metadata": {},
     "output_type": "execute_result"
    }
   ],
   "source": [
    ";; \"While\" can also serve as a termination check.  Both\n",
    ";; \"do\" and \"collect\" can be combined in one expression.\n",
    "(loop for x from 1\n",
    "      for y = (* x 10)\n",
    "      while (< y 100)\n",
    "      do (print (* x 5))\n",
    "      collect y)"
   ]
  },
  {
   "cell_type": "code",
   "execution_count": 57,
   "metadata": {},
   "outputs": [
    {
     "data": {
      "text/plain": [
       "((1) (1 2) (1 2 3) (1 2 3 4) (1 2 3 4 5) (1 2 3 4 5 6) (1 2 3 4 5 6 7)\n",
       " (1 2 3 4 5 6 7 8) (1 2 3 4 5 6 7 8 9) (1 2 3 4 5 6 7 8 9 10))"
      ]
     },
     "execution_count": 57,
     "metadata": {},
     "output_type": "execute_result"
    }
   ],
   "source": [
    ";; Loops can be nested in various ways\n",
    "\n",
    "(loop for x from 1 to 10\n",
    "      collect (loop for y from 1 to x \n",
    "            collect y) )"
   ]
  },
  {
   "cell_type": "code",
   "execution_count": 58,
   "metadata": {},
   "outputs": [
    {
     "data": {
      "text/plain": [
       "((1 X) (2 Y) (3 Z))"
      ]
     },
     "execution_count": 58,
     "metadata": {},
     "output_type": "execute_result"
    }
   ],
   "source": [
    ";; Several variables can loop through the components of a complex\n",
    ";; list to destructure it.\n",
    "\n",
    "(loop for (a b) in '((x 1) (y 2) (z 3))\n",
    "      collect (list b a) )"
   ]
  },
  {
   "cell_type": "code",
   "execution_count": 59,
   "metadata": {},
   "outputs": [
    {
     "data": {
      "text/plain": [
       "(1 4 9)"
      ]
     },
     "execution_count": 59,
     "metadata": {},
     "output_type": "execute_result"
    }
   ],
   "source": [
    ";; Destructuring works for dotted pairs too.\n",
    "\n",
    "(loop for (x . y) in '((1 . 1) (2 . 4) (3 . 9)) collect y)"
   ]
  },
  {
   "cell_type": "code",
   "execution_count": 60,
   "metadata": {},
   "outputs": [
    {
     "data": {
      "text/plain": [
       "#\\4"
      ]
     },
     "execution_count": 60,
     "metadata": {},
     "output_type": "execute_result"
    }
   ],
   "source": [
    ";; The \"return\" action both stops the loop and returns a result.\n",
    ";; Here we return the first numeric character in the string s.\n",
    "\n",
    "(let ((s \"alpha45\"))\n",
    "  (loop for i from 0 below (length s)\n",
    "    for ch =  (char s i)\n",
    "    when (find ch \"0123456789\" :test #'eql)\n",
    "    return ch) )"
   ]
  },
  {
   "cell_type": "code",
   "execution_count": 61,
   "metadata": {},
   "outputs": [
    {
     "data": {
      "text/plain": [
       "T"
      ]
     },
     "execution_count": 61,
     "metadata": {},
     "output_type": "execute_result"
    }
   ],
   "source": [
    ";; Several actions provide shorthands for combinations of when/return\n",
    "\n",
    "(loop for x in '(foo 2) \n",
    "      thereis (numberp x))"
   ]
  },
  {
   "cell_type": "code",
   "execution_count": 62,
   "metadata": {},
   "outputs": [
    {
     "data": {
      "text/plain": [
       "NIL"
      ]
     },
     "execution_count": 62,
     "metadata": {},
     "output_type": "execute_result"
    }
   ],
   "source": [
    "(loop for x in '(foo 2) \n",
    "      never (numberp x))"
   ]
  },
  {
   "cell_type": "code",
   "execution_count": 63,
   "metadata": {},
   "outputs": [
    {
     "data": {
      "text/plain": [
       "NIL"
      ]
     },
     "execution_count": 63,
     "metadata": {},
     "output_type": "execute_result"
    }
   ],
   "source": [
    "(loop for x in '(foo 2) \n",
    "      always (numberp x))"
   ]
  },
  {
   "cell_type": "code",
   "execution_count": null,
   "metadata": {
    "collapsed": true
   },
   "outputs": [],
   "source": []
  },
  {
   "cell_type": "markdown",
   "metadata": {},
   "source": [
    "dotimes iterates a specified number of times"
   ]
  },
  {
   "cell_type": "code",
   "execution_count": 94,
   "metadata": {},
   "outputs": [
    {
     "name": "stdout",
     "output_type": "stream",
     "text": [
      "\n",
      "0 \n",
      "1 \n",
      "2 \n",
      "3 \n",
      "4 \n",
      "5 \n",
      "6 \n",
      "7 \n",
      "8 \n",
      "9 \n",
      "10 \n",
      "11 "
     ]
    },
    {
     "data": {
      "text/plain": [
       "Nil"
      ]
     },
     "execution_count": 94,
     "metadata": {},
     "output_type": "execute_result"
    }
   ],
   "source": [
    "(dotimes (y 12)\n",
    "    (print y))"
   ]
  },
  {
   "cell_type": "markdown",
   "metadata": {},
   "source": [
    "# Lists and Conses"
   ]
  },
  {
   "cell_type": "code",
   "execution_count": 98,
   "metadata": {
    "collapsed": true
   },
   "outputs": [
    {
     "name": "stderr",
     "output_type": "stream",
     "text": [
      "Simple-Style-Warning: \n",
      "  undefined function: A\n",
      "Simple-Warning: \n",
      "undefined variable: B\n",
      "Simple-Warning: \n",
      "undefined variable: C\n",
      "Unbound-Variable: \n",
      "  #<Unbound-Variable B {10048D3B63}>\n"
     ]
    },
    {
     "data": {
      "text/plain": [
       "Nil"
      ]
     },
     "execution_count": 98,
     "metadata": {},
     "output_type": "execute_result"
    }
   ],
   "source": [
    "(a b c)               ;A list of three symbols \n",
    "(2.0s0 (a 1) #\\*)     ;A list of three things: a short floating-point \n",
    "                      ; number, another list, and a character object\n",
    "\n",
    "(a . 4)         ;A cons whose car is a symbol \n",
    "                ; and whose cdr is an integer \n",
    "(a b c . d)     ;A dotted list with three elements whose last cons \n",
    "                ; has the symbol d in its cdr"
   ]
  },
  {
   "cell_type": "markdown",
   "metadata": {},
   "source": [
    "Link together 2 objects of data"
   ]
  },
  {
   "cell_type": "code",
   "execution_count": 102,
   "metadata": {},
   "outputs": [
    {
     "data": {
      "text/plain": [
       "(Superman . Batman)"
      ]
     },
     "execution_count": 102,
     "metadata": {},
     "output_type": "execute_result"
    }
   ],
   "source": [
    "(cons 'superman 'batman)"
   ]
  },
  {
   "cell_type": "markdown",
   "metadata": {},
   "source": [
    "Create a list with list"
   ]
  },
  {
   "cell_type": "code",
   "execution_count": 14,
   "metadata": {},
   "outputs": [
    {
     "data": {
      "text/plain": [
       "(SUPERMAN 2 9.0)"
      ]
     },
     "execution_count": 14,
     "metadata": {},
     "output_type": "execute_result"
    }
   ],
   "source": [
    "(list 'superman 2 9.0)"
   ]
  },
  {
   "cell_type": "markdown",
   "metadata": {},
   "source": [
    "Add item to the front of another list"
   ]
  },
  {
   "cell_type": "code",
   "execution_count": 97,
   "metadata": {},
   "outputs": [
    {
     "data": {
      "text/plain": [
       "(Aquaman Superman Batman)"
      ]
     },
     "execution_count": 97,
     "metadata": {},
     "output_type": "execute_result"
    }
   ],
   "source": [
    "(cons 'aquaman '(superman batman))"
   ]
  },
  {
   "cell_type": "markdown",
   "metadata": {},
   "source": [
    "Get the first item out of a list with car"
   ]
  },
  {
   "cell_type": "code",
   "execution_count": 98,
   "metadata": {},
   "outputs": [
    {
     "data": {
      "text/plain": [
       "Superman"
      ]
     },
     "execution_count": 98,
     "metadata": {},
     "output_type": "execute_result"
    }
   ],
   "source": [
    "(car '(superman batman aquaman))"
   ]
  },
  {
   "cell_type": "markdown",
   "metadata": {},
   "source": [
    "Get everything but the first item with cdr"
   ]
  },
  {
   "cell_type": "code",
   "execution_count": 99,
   "metadata": {},
   "outputs": [
    {
     "data": {
      "text/plain": [
       "(Batman Aquaman)"
      ]
     },
     "execution_count": 99,
     "metadata": {},
     "output_type": "execute_result"
    }
   ],
   "source": [
    "(cdr '(superman batman aquaman))"
   ]
  },
  {
   "cell_type": "markdown",
   "metadata": {},
   "source": [
    "Get the 2nd item d = (batman flash joker) a = (batman)"
   ]
  },
  {
   "cell_type": "code",
   "execution_count": 100,
   "metadata": {},
   "outputs": [
    {
     "data": {
      "text/plain": [
       "Batman"
      ]
     },
     "execution_count": 100,
     "metadata": {},
     "output_type": "execute_result"
    }
   ],
   "source": [
    " (cadr '(superman batman aquaman flash joker))"
   ]
  },
  {
   "cell_type": "markdown",
   "metadata": {},
   "source": [
    "Get the 3rd item = aquaman"
   ]
  },
  {
   "cell_type": "code",
   "execution_count": 101,
   "metadata": {},
   "outputs": [
    {
     "data": {
      "text/plain": [
       "Aquaman"
      ]
     },
     "execution_count": 101,
     "metadata": {},
     "output_type": "execute_result"
    }
   ],
   "source": [
    "(caddr '(superman batman aquaman flash joker))"
   ]
  },
  {
   "cell_type": "markdown",
   "metadata": {},
   "source": [
    "Get the 4th item (Max you can go)"
   ]
  },
  {
   "cell_type": "code",
   "execution_count": 102,
   "metadata": {},
   "outputs": [
    {
     "data": {
      "text/plain": [
       "Flash"
      ]
     },
     "execution_count": 102,
     "metadata": {},
     "output_type": "execute_result"
    }
   ],
   "source": [
    "(cadddr '(superman batman aquaman flash joker))"
   ]
  },
  {
   "cell_type": "markdown",
   "metadata": {},
   "source": [
    "Get the 4th item = joker"
   ]
  },
  {
   "cell_type": "code",
   "execution_count": 103,
   "metadata": {},
   "outputs": [
    {
     "data": {
      "text/plain": [
       "(Joker)"
      ]
     },
     "execution_count": 103,
     "metadata": {},
     "output_type": "execute_result"
    }
   ],
   "source": [
    "(cddddr '(superman batman aquaman flash joker))"
   ]
  },
  {
   "cell_type": "markdown",
   "metadata": {},
   "source": [
    "Get the 2nd item in the second list <br>\n",
    "> d : (aquaman flash joker) (wonderwoman catwoman) <br>\n",
    "a : (aquaman flash joker) <br>\n",
    "d : (flash joker) <br>\n",
    "a : (flash) <br>"
   ]
  },
  {
   "cell_type": "code",
   "execution_count": 104,
   "metadata": {},
   "outputs": [
    {
     "data": {
      "text/plain": [
       "Flash"
      ]
     },
     "execution_count": 104,
     "metadata": {},
     "output_type": "execute_result"
    }
   ],
   "source": [
    "(cadadr '((superman batman) (aquaman flash joker) (wonderwoman catwoman)))"
   ]
  },
  {
   "cell_type": "markdown",
   "metadata": {},
   "source": [
    "Get the 3rd item in the 2nd list = joker"
   ]
  },
  {
   "cell_type": "code",
   "execution_count": 105,
   "metadata": {},
   "outputs": [
    {
     "data": {
      "text/plain": [
       "(Joker)"
      ]
     },
     "execution_count": 105,
     "metadata": {},
     "output_type": "execute_result"
    }
   ],
   "source": [
    "(cddadr '((superman batman) (aquaman flash joker) (wonderwoman catwoman)))"
   ]
  },
  {
   "cell_type": "markdown",
   "metadata": {},
   "source": [
    "= T Is something a list"
   ]
  },
  {
   "cell_type": "code",
   "execution_count": 108,
   "metadata": {},
   "outputs": [
    {
     "data": {
      "text/plain": [
       "T"
      ]
     },
     "execution_count": 108,
     "metadata": {},
     "output_type": "execute_result"
    }
   ],
   "source": [
    "(listp '(batman superman))"
   ]
  },
  {
   "cell_type": "markdown",
   "metadata": {},
   "source": [
    "Is 3 a member of the list?"
   ]
  },
  {
   "cell_type": "code",
   "execution_count": 111,
   "metadata": {},
   "outputs": [
    {
     "data": {
      "text/plain": [
       "Nil"
      ]
     },
     "execution_count": 111,
     "metadata": {},
     "output_type": "execute_result"
    }
   ],
   "source": [
    "(if (member 3 '(2 4 6)) 't nil)"
   ]
  },
  {
   "cell_type": "markdown",
   "metadata": {},
   "source": [
    "Combine lists into 1 list"
   ]
  },
  {
   "cell_type": "code",
   "execution_count": 112,
   "metadata": {},
   "outputs": [
    {
     "data": {
      "text/plain": [
       "(Just Some Random Words)"
      ]
     },
     "execution_count": 112,
     "metadata": {},
     "output_type": "execute_result"
    }
   ],
   "source": [
    "(append '(just) '(some) '(random words))"
   ]
  },
  {
   "cell_type": "markdown",
   "metadata": {},
   "source": [
    "Push an item on the front of a list"
   ]
  },
  {
   "cell_type": "code",
   "execution_count": 133,
   "metadata": {},
   "outputs": [
    {
     "data": {
      "text/plain": [
       "(1 2 4 6)"
      ]
     },
     "execution_count": 133,
     "metadata": {},
     "output_type": "execute_result"
    }
   ],
   "source": [
    "(defparameter *nums* '(2 4 6))\n",
    "(push 1 *nums*)"
   ]
  },
  {
   "cell_type": "markdown",
   "metadata": {},
   "source": [
    "Get the nth value from a list"
   ]
  },
  {
   "cell_type": "code",
   "execution_count": 114,
   "metadata": {},
   "outputs": [
    {
     "data": {
      "text/plain": [
       "4"
      ]
     },
     "execution_count": 114,
     "metadata": {},
     "output_type": "execute_result"
    }
   ],
   "source": [
    "(nth 2 *nums*)"
   ]
  },
  {
   "cell_type": "markdown",
   "metadata": {},
   "source": [
    "Create a plist which uses a symbol to describe the data"
   ]
  },
  {
   "cell_type": "code",
   "execution_count": 115,
   "metadata": {},
   "outputs": [
    {
     "data": {
      "text/plain": [
       "Superman"
      ]
     },
     "execution_count": 115,
     "metadata": {},
     "output_type": "execute_result"
    }
   ],
   "source": [
    "(defvar superman (list :name \"Superman\" :secret-id \"Clark Kent\"))"
   ]
  },
  {
   "cell_type": "markdown",
   "metadata": {},
   "source": [
    "This list will hold heroes"
   ]
  },
  {
   "cell_type": "code",
   "execution_count": 117,
   "metadata": {},
   "outputs": [
    {
     "data": {
      "text/plain": [
       "*Hero-List*"
      ]
     },
     "execution_count": 117,
     "metadata": {},
     "output_type": "execute_result"
    }
   ],
   "source": [
    "(defvar *hero-list* nil)"
   ]
  },
  {
   "cell_type": "markdown",
   "metadata": {},
   "source": [
    "Adds items to our list"
   ]
  },
  {
   "cell_type": "code",
   "execution_count": 118,
   "metadata": {
    "scrolled": true
   },
   "outputs": [
    {
     "data": {
      "text/plain": [
       "((:Name \"Superman\" :Secret-Id \"Clark Kent\"))"
      ]
     },
     "execution_count": 118,
     "metadata": {},
     "output_type": "execute_result"
    }
   ],
   "source": [
    "(push superman *hero-list*)"
   ]
  },
  {
   "cell_type": "markdown",
   "metadata": {},
   "source": [
    "Cycle through all heros in the list and print them out"
   ]
  },
  {
   "cell_type": "code",
   "execution_count": 124,
   "metadata": {
    "scrolled": true
   },
   "outputs": [
    {
     "name": "stdout",
     "output_type": "stream",
     "text": [
      "Name : Superman Secret-Id : Clark Kent \n"
     ]
    },
    {
     "data": {
      "text/plain": [
       "((:Name \"Superman\" :Secret-Id \"Clark Kent\")\n",
       " (:Name \"Superman\" :Secret-Id \"Clark Kent\"))"
      ]
     },
     "execution_count": 124,
     "metadata": {},
     "output_type": "execute_result"
    }
   ],
   "source": [
    "(dolist (hero *hero-list*)\n",
    "\n",
    "    ;; Surround with ~{ and ~} to automatically grab data from list\n",
    "    (format t \"~{~a : ~a ~}~%\" hero)\n",
    ")\n",
    "(push superman *hero-list*)"
   ]
  },
  {
   "cell_type": "markdown",
   "metadata": {},
   "source": [
    "Cycle through all heros in the list and print them out"
   ]
  },
  {
   "cell_type": "markdown",
   "metadata": {},
   "source": [
    "#### Association List"
   ]
  },
  {
   "cell_type": "markdown",
   "metadata": {},
   "source": [
    "The hero name represents the key"
   ]
  },
  {
   "cell_type": "code",
   "execution_count": 126,
   "metadata": {},
   "outputs": [
    {
     "name": "stdout",
     "output_type": "stream",
     "text": [
      "Superman Data (Superman (Clark Kent)) \n",
      "Superman is (Clark Kent) \n"
     ]
    },
    {
     "data": {
      "text/plain": [
       "Nil"
      ]
     },
     "execution_count": 126,
     "metadata": {},
     "output_type": "execute_result"
    }
   ],
   "source": [
    "(defparameter *heroes*\n",
    "    '((Superman (Clark Kent))\n",
    "    (Flash (Barry Allen))\n",
    "    (Batman (Bruce Wayne))))\n",
    "    \n",
    ";;; Get the key value with assoc\n",
    "(format t \"Superman Data ~a ~%\" (assoc 'superman *heroes*)) \n",
    "\n",
    ";;; Get secret identity\n",
    "(format t \"Superman is ~a ~%\" (cadr (assoc 'superman *heroes*))) "
   ]
  },
  {
   "cell_type": "code",
   "execution_count": 127,
   "metadata": {
    "scrolled": true
   },
   "outputs": [
    {
     "name": "stdout",
     "output_type": "stream",
     "text": [
      "Superman is (6 Ft 0 In) \n",
      "Batman is (210 Lbs) \n"
     ]
    },
    {
     "data": {
      "text/plain": [
       "Nil"
      ]
     },
     "execution_count": 127,
     "metadata": {},
     "output_type": "execute_result"
    }
   ],
   "source": [
    "(defparameter *hero-size*\n",
    "    '((Superman (6 ft 3 in) (230 lbs))\n",
    "    (Flash (6 ft 0 in) (190 lbs))\n",
    "    (Batman (6 ft 2 in) (210 lbs))))\n",
    "    \n",
    ";;; Get height\n",
    "(format t \"Superman is ~a ~%\" (cadr (assoc 'Flash *hero-size*)))\n",
    " \n",
    ";;; Get weight\n",
    "(format t \"Batman is ~a ~%\" (caddr (assoc 'Batman *hero-size*))) "
   ]
  },
  {
   "cell_type": "markdown",
   "metadata": {},
   "source": []
  },
  {
   "cell_type": "markdown",
   "metadata": {},
   "source": [
    "### Funtions"
   ]
  },
  {
   "cell_type": "markdown",
   "metadata": {},
   "source": [
    "Create a function that says hello"
   ]
  },
  {
   "cell_type": "code",
   "execution_count": 15,
   "metadata": {},
   "outputs": [
    {
     "name": "stdout",
     "output_type": "stream",
     "text": [
      "\n",
      "\"Hello\" \n"
     ]
    },
    {
     "data": {
      "text/plain": [
       "NIL"
      ]
     },
     "execution_count": 15,
     "metadata": {},
     "output_type": "execute_result"
    }
   ],
   "source": [
    "(defun hello ()\n",
    "    (print \"Hello\")\n",
    "    (terpri)) ; Newline\n",
    "\n",
    "(hello)"
   ]
  },
  {
   "cell_type": "markdown",
   "metadata": {},
   "source": [
    "Get average"
   ]
  },
  {
   "cell_type": "code",
   "execution_count": 136,
   "metadata": {},
   "outputs": [
    {
     "name": "stderr",
     "output_type": "stream",
     "text": [
      "Redefinition-With-Defun: \n",
      "  redefining Cl-Jupyter-User::Get-Avg in DEFUN\n"
     ]
    },
    {
     "data": {
      "text/plain": [
       "Get-Avg"
      ]
     },
     "execution_count": 136,
     "metadata": {},
     "output_type": "execute_result"
    }
   ],
   "source": [
    "(defun get-avg (num-1 num-2)\n",
    "    (/ (+ num-1 num-2) 2 ))"
   ]
  },
  {
   "cell_type": "code",
   "execution_count": 135,
   "metadata": {},
   "outputs": [
    {
     "data": {
      "text/plain": [
       "30"
      ]
     },
     "execution_count": 135,
     "metadata": {},
     "output_type": "execute_result"
    }
   ],
   "source": [
    "(get-avg 10 50)"
   ]
  },
  {
   "cell_type": "markdown",
   "metadata": {},
   "source": [
    "You can define some parameters as optional in a function with $&optional$"
   ]
  },
  {
   "cell_type": "code",
   "execution_count": 137,
   "metadata": {},
   "outputs": [
    {
     "name": "stdout",
     "output_type": "stream",
     "text": [
      "List = (1 2 3 Nil) \n"
     ]
    },
    {
     "data": {
      "text/plain": [
       "Nil"
      ]
     },
     "execution_count": 137,
     "metadata": {},
     "output_type": "execute_result"
    }
   ],
   "source": [
    "(defun print-list (w x &optional y z)\n",
    "    (format t \"List = ~a ~%\" (list w x y z))\n",
    ")\n",
    "\n",
    "(print-list 1 2 3)"
   ]
  },
  {
   "cell_type": "markdown",
   "metadata": {},
   "source": [
    "Receive multiple values with $&rest$"
   ]
  },
  {
   "cell_type": "code",
   "execution_count": 106,
   "metadata": {},
   "outputs": [
    {
     "data": {
      "text/plain": [
       "Sum"
      ]
     },
     "execution_count": 106,
     "metadata": {},
     "output_type": "execute_result"
    }
   ],
   "source": [
    "(defvar *total* 0)\n",
    "\n",
    "(defun sum (&rest nums)\n",
    "    (dolist (num nums)\n",
    "        (setf *total* (+ *total* num))\n",
    "    )\n",
    "    *total*\n",
    ")"
   ]
  },
  {
   "cell_type": "code",
   "execution_count": 107,
   "metadata": {},
   "outputs": [
    {
     "data": {
      "text/plain": [
       "15"
      ]
     },
     "execution_count": 107,
     "metadata": {},
     "output_type": "execute_result"
    }
   ],
   "source": [
    "(sum 1 2 3 4 5)"
   ]
  },
  {
   "cell_type": "markdown",
   "metadata": {},
   "source": [
    "Keyword parameters are used to pass values to specific variables"
   ]
  },
  {
   "cell_type": "code",
   "execution_count": 149,
   "metadata": {},
   "outputs": [
    {
     "name": "stdout",
     "output_type": "stream",
     "text": [
      "List: (1 2 Nil) \n"
     ]
    },
    {
     "name": "stderr",
     "output_type": "stream",
     "text": [
      "Redefinition-With-Defun: \n",
      "  redefining Cl-Jupyter-User::Print-List in DEFUN\n"
     ]
    },
    {
     "data": {
      "text/plain": [
       "Nil"
      ]
     },
     "execution_count": 149,
     "metadata": {},
     "output_type": "execute_result"
    }
   ],
   "source": [
    "(defun print-list(&optional &key x y z)\n",
    "    (format t \"List: ~a ~%\" (list x y z))\n",
    ")\n",
    "\n",
    "(print-list :x 1 :y 2)"
   ]
  },
  {
   "cell_type": "markdown",
   "metadata": {},
   "source": [
    "Functions by default return the value of the last expression <br>\n",
    "You can also return a specific value with return-from followed by the \n",
    " function name"
   ]
  },
  {
   "cell_type": "code",
   "execution_count": 150,
   "metadata": {},
   "outputs": [
    {
     "data": {
      "text/plain": [
       "Difference"
      ]
     },
     "execution_count": 150,
     "metadata": {},
     "output_type": "execute_result"
    }
   ],
   "source": [
    "(defun difference (num1 num2)\n",
    "    (return-from difference(- num1 num2))\n",
    ")"
   ]
  },
  {
   "cell_type": "code",
   "execution_count": 151,
   "metadata": {},
   "outputs": [
    {
     "data": {
      "text/plain": [
       "8"
      ]
     },
     "execution_count": 151,
     "metadata": {},
     "output_type": "execute_result"
    }
   ],
   "source": [
    "(difference 10 2)"
   ]
  },
  {
   "cell_type": "markdown",
   "metadata": {},
   "source": [
    "Get Supermans data <br>\n",
    "When you use $`$ you are using quasiquoting which allows you to switch from code to data mode <br>\n",
    "The function between $,()$ is code mode"
   ]
  },
  {
   "cell_type": "code",
   "execution_count": 153,
   "metadata": {},
   "outputs": [
    {
     "name": "stdout",
     "output_type": "stream",
     "text": [
      "(Superman Is (6 Ft 3 In) And ((230 Lbs))) \n"
     ]
    },
    {
     "name": "stderr",
     "output_type": "stream",
     "text": [
      "Redefinition-With-Defun: \n",
      "  redefining Cl-Jupyter-User::Get-Hero-Data in DEFUN\n"
     ]
    },
    {
     "data": {
      "text/plain": [
       "Nil"
      ]
     },
     "execution_count": 153,
     "metadata": {},
     "output_type": "execute_result"
    }
   ],
   "source": [
    "(defun get-hero-data (size)\n",
    "    (format t \"~a ~%\" \n",
    "    `(,(caar size) is ,(cadar size) and ,(cddar size))))\n",
    "    \n",
    "(defparameter *hero-size*\n",
    "    '((Superman (6 ft 3 in) (230 lbs))\n",
    "    (Flash (6 ft 0 in) (190 lbs))\n",
    "    (Batman (6 ft 2 in) (210 lbs))))\n",
    "\n",
    "(get-hero-data *hero-size*)"
   ]
  },
  {
   "cell_type": "markdown",
   "metadata": {},
   "source": [
    "Check if every item in a list is a number"
   ]
  },
  {
   "cell_type": "code",
   "execution_count": 154,
   "metadata": {},
   "outputs": [
    {
     "data": {
      "text/plain": [
       "(T T T Nil Nil)"
      ]
     },
     "execution_count": 154,
     "metadata": {},
     "output_type": "execute_result"
    }
   ],
   "source": [
    "(mapcar #'numberp '(1 2 3 f g))"
   ]
  },
  {
   "cell_type": "markdown",
   "metadata": {},
   "source": [
    "You can define functions local only to the flet body <br>\n",
    ">(flet ((func-name (arguments)<br>\n",
    "... Function Body ...))<br>\n",
    "... Body ...)<br>"
   ]
  },
  {
   "cell_type": "code",
   "execution_count": 155,
   "metadata": {},
   "outputs": [
    {
     "data": {
      "text/plain": [
       "20"
      ]
     },
     "execution_count": 155,
     "metadata": {},
     "output_type": "execute_result"
    }
   ],
   "source": [
    "(flet ((double-it (num)\n",
    "        (* num 2)))\n",
    "        (double-it 10))"
   ]
  },
  {
   "cell_type": "markdown",
   "metadata": {},
   "source": [
    "You can have multiple functions in flet"
   ]
  },
  {
   "cell_type": "code",
   "execution_count": 157,
   "metadata": {},
   "outputs": [
    {
     "data": {
      "text/plain": [
       "60"
      ]
     },
     "execution_count": 157,
     "metadata": {},
     "output_type": "execute_result"
    }
   ],
   "source": [
    "(flet ((double-it (num)\n",
    "        (* num 2))\n",
    "        (triple-it (num)\n",
    "        (* num 3)))\n",
    "        (triple-it (double-it 10))\n",
    ")"
   ]
  },
  {
   "cell_type": "markdown",
   "metadata": {},
   "source": [
    "labels is used when you want to have a function call itself, or if you want  to be able to call another local function inside a function"
   ]
  },
  {
   "cell_type": "code",
   "execution_count": 158,
   "metadata": {},
   "outputs": [
    {
     "data": {
      "text/plain": [
       "18"
      ]
     },
     "execution_count": 158,
     "metadata": {},
     "output_type": "execute_result"
    }
   ],
   "source": [
    "(labels ((double-it (num)\n",
    "            (* num 2))\n",
    "        (triple-it (num)\n",
    "            (* (double-it num) 3)))\n",
    "        (triple-it 3)\n",
    ")\n"
   ]
  },
  {
   "cell_type": "markdown",
   "metadata": {},
   "source": [
    "Return multiple values from a function"
   ]
  },
  {
   "cell_type": "code",
   "execution_count": 165,
   "metadata": {},
   "outputs": [
    {
     "name": "stdout",
     "output_type": "stream",
     "text": [
      "2^2 = 4  2^3 = 8\n"
     ]
    },
    {
     "name": "stderr",
     "output_type": "stream",
     "text": [
      "Redefinition-With-Defun: \n",
      "  redefining Cl-Jupyter-User::Squares in DEFUN\n"
     ]
    },
    {
     "data": {
      "text/plain": [
       "Nil"
      ]
     },
     "execution_count": 165,
     "metadata": {},
     "output_type": "execute_result"
    }
   ],
   "source": [
    "(defun squares (num)\n",
    "    (values (expt num 2) (expt num 3)))\n",
    "\n",
    "(multiple-value-bind (a b) (squares 2) \n",
    " (format t \"2^2 = ~d  2^3 = ~d~%\" a b)\n",
    ")"
   ]
  },
  {
   "cell_type": "markdown",
   "metadata": {},
   "source": [
    "Higher Order Functions <br>\n",
    "You can use functions as data"
   ]
  },
  {
   "cell_type": "code",
   "execution_count": 168,
   "metadata": {
    "scrolled": true
   },
   "outputs": [
    {
     "name": "stdout",
     "output_type": "stream",
     "text": [
      "0 : 0\n",
      "1 : 3\n",
      "2 : 6\n",
      "3 : 9\n",
      "4 : 12\n",
      "5 : 15\n",
      "6 : 18\n",
      "7 : 21\n",
      "8 : 24\n",
      "9 : 27\n",
      "0 : 0\n",
      "1 : 4\n",
      "2 : 8\n",
      "3 : 12\n",
      "4 : 16\n",
      "5 : 20\n",
      "6 : 24\n",
      "7 : 28\n",
      "8 : 32\n",
      "9 : 36\n"
     ]
    },
    {
     "name": "stderr",
     "output_type": "stream",
     "text": [
      "Redefinition-With-Defun: \n",
      "  redefining Cl-Jupyter-User::Times-3 in DEFUN\n",
      "Redefinition-With-Defun: \n",
      "  redefining Cl-Jupyter-User::Times-4 in DEFUN\n",
      "Redefinition-With-Defun: \n",
      "  redefining Cl-Jupyter-User::Multiples in DEFUN\n"
     ]
    },
    {
     "data": {
      "text/plain": [
       "Nil"
      ]
     },
     "execution_count": 168,
     "metadata": {},
     "output_type": "execute_result"
    }
   ],
   "source": [
    "(defun times-3 (x) (* 3 x))\n",
    "(defun times-4 (x) (* 4 x))\n",
    ";;; Pass in the function without attributes just like a variable\n",
    "(defun multiples (mult-func max-num)\n",
    "\n",
    "    ;; Cycle through values up to the max supplied\n",
    "    (dotimes (x max-num)\n",
    "        \n",
    "        ;; funcall is used when you know the number of arguments\n",
    "        (format t \"~d : ~d~%\" x (funcall mult-func x))\t\t\n",
    "))\n",
    "\n",
    "(multiples #'times-3 10)\n",
    "(multiples #'times-4 10)\n"
   ]
  },
  {
   "cell_type": "markdown",
   "metadata": {},
   "source": [
    "#### Lambda"
   ]
  },
  {
   "cell_type": "markdown",
   "metadata": {},
   "source": [
    "The lambda command allows you to create a function without giving it a name <br>\n",
    "You can also pass this function just like you pass variables <br>\n",
    "Multiply every item in a list"
   ]
  },
  {
   "cell_type": "code",
   "execution_count": 170,
   "metadata": {},
   "outputs": [
    {
     "data": {
      "text/plain": [
       "(2 4 6 8 10)"
      ]
     },
     "execution_count": 170,
     "metadata": {},
     "output_type": "execute_result"
    }
   ],
   "source": [
    "(mapcar (lambda (x) (* x 2)) '(1 2 3 4 5))"
   ]
  },
  {
   "cell_type": "markdown",
   "metadata": {},
   "source": [
    "#### Macros\n",
    "A function runs when it is called to execute, while a macro is compiled \n",
    "first and is available immediately like any other lisp built in function <br>\n",
    "Macros are functions used to generate code rather then perform actions"
   ]
  },
  {
   "cell_type": "code",
   "execution_count": 173,
   "metadata": {},
   "outputs": [
    {
     "name": "stdout",
     "output_type": "stream",
     "text": [
      "*num-2* = 2 \n",
      "\n",
      "\"You are over 16\" \n",
      "\"Time to Drive\" \n"
     ]
    },
    {
     "name": "stderr",
     "output_type": "stream",
     "text": [
      "Redefinition-With-Defmacro: \n",
      "  redefining Cl-Jupyter-User::Ifit in DEFMACRO\n"
     ]
    },
    {
     "data": {
      "text/plain": [
       "Nil"
      ]
     },
     "execution_count": 173,
     "metadata": {},
     "output_type": "execute_result"
    }
   ],
   "source": [
    "(defvar *num* 2)\n",
    "(defvar *num-2* 0)\n",
    "\n",
    ";;; It can be irritating to have to use progn with if\n",
    "(if (= *num* 2)\n",
    "    (progn \n",
    "        (setf *num-2* 2)\n",
    "        (format t \"*num-2* = ~d ~%\" *num-2*)\n",
    "    )\n",
    "    (format t \"Not equal to 2 ~%\"))\n",
    "\n",
    "(defmacro ifit (condition &rest body)\n",
    "\n",
    "    ;;; The backquote generates the code\n",
    "    ;;; The , changes the condition to code mode from data mode\n",
    "    ;;; The &rest body parameter will hold commands in a list\n",
    "    ;;; The \"Can't Drive\" Works as the else\n",
    "    \n",
    "    `(if ,condition (progn ,@body) (format t \"Can't Drive ~%\") ))\n",
    "\n",
    "(setf *age* 16)\n",
    "\n",
    "(ifit (>= *age* 16) \n",
    "    (print \"You are over 16\")\n",
    "    (print \"Time to Drive\")\n",
    "    (terpri)\n",
    ")"
   ]
  },
  {
   "cell_type": "markdown",
   "metadata": {},
   "source": [
    "$let$ can also get confusing with its parentheses"
   ]
  },
  {
   "cell_type": "code",
   "execution_count": 174,
   "metadata": {},
   "outputs": [
    {
     "name": "stdout",
     "output_type": "stream",
     "text": [
      "10 - 6 = 4 \n"
     ]
    },
    {
     "data": {
      "text/plain": [
       "Nil"
      ]
     },
     "execution_count": 174,
     "metadata": {},
     "output_type": "execute_result"
    }
   ],
   "source": [
    "(defun add (num1 num2)\n",
    "    (let ((sum (+ num1 num2)))\n",
    "        (format t \"~a + ~a = ~a ~%\" num1 num2 sum)))\n",
    "\n",
    ";;; Define a macro to clean up let\n",
    "\n",
    "(defmacro letx (var val &body body)\n",
    "    `(let ((,var ,val)) ,@body))\n",
    "    \n",
    "(defun subtract (num1 num2)\n",
    "    (letx dif (- num1 num2)\n",
    "        (format t \"~a - ~a = ~a ~%\" num1 num2 dif)))\n",
    "\n",
    "(subtract 10 6)"
   ]
  },
  {
   "cell_type": "markdown",
   "metadata": {},
   "source": [
    "#### Classes"
   ]
  },
  {
   "cell_type": "markdown",
   "metadata": {},
   "source": [
    "$defclass$ defines your custom data type <br>  \n",
    "Define the class name and attributes it has"
   ]
  },
  {
   "cell_type": "code",
   "execution_count": 176,
   "metadata": {},
   "outputs": [
    {
     "name": "stdout",
     "output_type": "stream",
     "text": [
      "Spot says Woof \n"
     ]
    },
    {
     "data": {
      "text/plain": [
       "Nil"
      ]
     },
     "execution_count": 176,
     "metadata": {},
     "output_type": "execute_result"
    }
   ],
   "source": [
    "(defclass animal ()\n",
    "    (name\n",
    "    sound))\n",
    "\n",
    ";;; Create an animal object\n",
    "(defparameter *dog* (make-instance 'animal))\n",
    "\n",
    ";;; Set the values for dog\n",
    "(setf (slot-value *dog* 'name) \"Spot\")\n",
    "(setf (slot-value *dog* 'sound) \"Woof\")\n",
    "\n",
    ";;; Get the values for dog\n",
    "(format t \"~a says ~a ~%\" \n",
    "    (slot-value *dog* 'name) \n",
    "    (slot-value *dog* 'sound))"
   ]
  },
  {
   "cell_type": "markdown",
   "metadata": {},
   "source": [
    " You can define initialization options for objects <br>\n",
    " - :initarg defines the key used to assign to the slot <br>\n",
    " - :initform defines a default value  <br>\n",
    "You can define an error message if an attribute isn't provided <br>\n",
    " - :accessor generates getter and setters for the slot using the name you provide.  <br>\n",
    "You could use :reader mammal-sound to generate only a getter <br>\n",
    "You could use :writer (setf mammal-sound) to generate only a setter"
   ]
  },
  {
   "cell_type": "code",
   "execution_count": 127,
   "metadata": {
    "collapsed": true
   },
   "outputs": [
    {
     "name": "stderr",
     "output_type": "stream",
     "text": [
      "Reader error: Package TT does not exist.\n",
      "\n",
      "  Line: 214, Column: 10, File-Position: 5442\n",
      "\n",
      "  Stream: #<Sb-Impl::String-Input-Stream {1003869243}> (condition of type Simple-Reader-Package-Error)\n"
     ]
    },
    {
     "data": {
      "text/plain": [
       "Nil"
      ]
     },
     "execution_count": 127,
     "metadata": {},
     "output_type": "execute_result"
    }
   ],
   "source": [
    "(defclass mammal ()\n",
    "    ((name\n",
    "        :initarg :name\n",
    "        :initform (error \"Must provide a name\"))\n",
    "    (sound\n",
    "        :initarg :sound\n",
    "        :initform \"No Sound\"\n",
    "        :accessor mammal-sound)\n",
    "    )\n",
    ")\n",
    "\n",
    "(defparameter *king-kong*\n",
    "    (make-instance 'mammal :name \"King Kong\" :sound \"Rawwwr\")\n",
    ")\n",
    "\n",
    ";;; Output data on the mammal\n",
    "(format t \"~a says ~a ~%\" \n",
    "    (slot-value *king-kong* 'name) \n",
    "    (slot-value *king-kong* 'sound))\n",
    "\n",
    ";;; Displays an error because name wasn't defined\n",
    ";;; (defparameter *king-kong* (make-instance 'mammal))\n",
    "\n",
    ";;; Create mammal Fluffy\n",
    "(defparameter *fluffy*\n",
    "    (make-instance 'mammal :name \"Fluffy\" :sound \"Meow\")\n",
    ")"
   ]
  },
  {
   "cell_type": "markdown",
   "metadata": {},
   "source": [
    "A generic function has a name and parameter list but no implementation. <br>\n",
    "In Lisp methods don't belong to classes, but instead belong to generic \n",
    "functions which are responsible for executing the correct method based on the data passed\n"
   ]
  },
  {
   "cell_type": "raw",
   "metadata": {
    "collapsed": true
   },
   "source": [
    "(defgeneric make-sound (mammal))\n",
    "\n",
    "(defmethod make-sound ((the-mammal mammal))\n",
    "    (format t \"~a says ~a ~%\" \n",
    "    (slot-value the-mammal 'name)\n",
    "    (slot-value the-mammal 'sound))\n",
    ") \n",
    "\n",
    "(make-sound *king-kong*)\n",
    "(make-sound *fluffy*)\n",
    "\n",
    ";;; You can define your own getters and setters\n",
    "\n",
    ";;; Define setter\n",
    "(defgeneric (setf mammal-name) (value the-mammal))\n",
    "\n",
    "(defmethod (setf mammal-name) (value (the-mammal mammal))\n",
    "    (setf (slot-value the-mammal 'name) value))\n",
    "    \n",
    ";;; Define getter\n",
    "(defgeneric mammal-name (the-mammal))\n",
    "\n",
    "(defmethod mammal-name ((the-mammal mammal))\n",
    "    (slot-value the-mammal 'name))\n",
    "    \n",
    "(setf (mammal-name *king-kong*) \"Kong\")\n",
    "\n",
    "(format t \"I am ~a ~%\" (mammal-name *king-kong*))\n",
    "\n",
    ";;; Use the auto generated sound getters and setters instead\n",
    "(setf (mammal-sound *king-kong*) \"Rawwwwwwwwr\")\n",
    "(format t \"I say ~a ~%\" (mammal-sound *king-kong*))\n",
    "\n",
    ";;; Inheritance allows you to inherit all the attributes of the superclass\n",
    ";;; and call methods that accept the superclass\n",
    "\n",
    "(defclass dog (mammal)\n",
    "    ())\n",
    "\n",
    "(defparameter *rover*\n",
    "    (make-instance 'dog :name \"Rover\" :sound \"Woof\")\n",
    ")\n",
    "\n",
    "(make-sound *rover*)"
   ]
  },
  {
   "cell_type": "code",
   "execution_count": 177,
   "metadata": {},
   "outputs": [
    {
     "name": "stdout",
     "output_type": "stream",
     "text": [
      "\n",
      "0 \n",
      "1 \n",
      "2 \n",
      "3 \n",
      "4 \n",
      "5 \n",
      "6 \n",
      "7 \n",
      "8 "
     ]
    },
    {
     "name": "stderr",
     "output_type": "stream",
     "text": [
      "Simple-Warning: \n",
      "undefined variable: Num-Array\n",
      "Simple-Warning: \n",
      "undefined variable: Num-Array\n"
     ]
    },
    {
     "data": {
      "text/plain": [
       "Nil"
      ]
     },
     "execution_count": 177,
     "metadata": {},
     "output_type": "execute_result"
    }
   ],
   "source": [
    ";;; ---------- ARRAYS ---------- \n",
    "\n",
    ";;; Create an array with 3 storage areas\n",
    "(defparameter names (make-array 3))\n",
    "\n",
    ";;; Add a value to an array\n",
    "(setf (aref names 1) 'Bob)\n",
    "\n",
    ";;; Get a value in an index\n",
    "(aref names 1)\n",
    "\n",
    ";;; Make a 3 by 3 array\n",
    "(setf num-array (make-array '(3 3)\n",
    "    :initial-contents '((0 1 2) (3 4 5) (6 7 8))))\n",
    "    \n",
    ";;; Cycle through and print the array\n",
    "(dotimes (x 3)\n",
    "    (dotimes (y 3)\n",
    "        (print (aref num-array x y))\n",
    "    )\n",
    ")"
   ]
  },
  {
   "cell_type": "code",
   "execution_count": 178,
   "metadata": {},
   "outputs": [
    {
     "name": "stdout",
     "output_type": "stream",
     "text": [
      "102 = (Paul Smith)\n",
      "103 = (Sam Smith)\n"
     ]
    },
    {
     "data": {
      "text/plain": [
       "T"
      ]
     },
     "execution_count": 178,
     "metadata": {},
     "output_type": "execute_result"
    }
   ],
   "source": [
    ";;; ---------- HASH TABLE ---------- \n",
    ";;; A collection of key value pairs\n",
    "\n",
    ";;; Create a hash table\n",
    "(defparameter people (make-hash-table))\n",
    "\n",
    ";;; Set the key as 102 and the value to Paul Smith\n",
    "(setf (gethash '102 people) '(Paul Smith))\n",
    "(setf (gethash '103 people) '(Sam Smith))\n",
    "\n",
    ";;; Get the value stored in the key 102\n",
    "(gethash '102 people)\n",
    "\n",
    ";;; maphash executes a function on each item\n",
    ";;; ~% = newline\n",
    "(maphash #'(lambda (k v) (format t \"~a = ~a~%\" k v)) people)\n",
    "\n",
    ";;; Remove an entry with the key\n",
    "(remhash '103 people)\n"
   ]
  },
  {
   "cell_type": "code",
   "execution_count": 179,
   "metadata": {},
   "outputs": [
    {
     "name": "stdout",
     "output_type": "stream",
     "text": [
      "#S(Customer :Name \"Paul Smith\" :Address \"125 Main St\" :Id 1000)"
     ]
    },
    {
     "name": "stderr",
     "output_type": "stream",
     "text": [
      "Simple-Warning: \n",
      "undefined variable: Paulsmith\n",
      "Simple-Warning: \n",
      "undefined variable: Paulsmith\n",
      "Simple-Warning: \n",
      "undefined variable: Sally-Smith-1001\n"
     ]
    },
    {
     "data": {
      "text/plain": [
       "#S(Customer :Name \"Sally Smith\" :Address \"123 Main St\" :Id 1001)"
      ]
     },
     "execution_count": 179,
     "metadata": {},
     "output_type": "execute_result"
    }
   ],
   "source": [
    ";;; ---------- STRUCTURES ----------\n",
    ";;; A user defined data type with multiple different data types\n",
    "\n",
    ";;; Define the data names in the struct\n",
    "(defstruct customer name address id)\n",
    "\n",
    ";;; Store data in the struct\n",
    "(setq paulsmith (make-customer \n",
    "    :name \"Paul Smith\"\n",
    "    :address \"123 Main St\"\n",
    "    :id 1000\n",
    "))\n",
    "\n",
    ";;; Get a value stored\n",
    "(customer-name paulsmith)\n",
    "\n",
    ";;; Change a value in the struct\n",
    "(setf (customer-address paulsmith) \"125 Main St\")\n",
    "(write paulsmith)\n",
    "\n",
    "(setq sally-smith-1001 (make-customer \n",
    "    :name \"Sally Smith\"\n",
    "    :address \"123 Main St\"\n",
    "    :id 1001\n",
    "))\n"
   ]
  },
  {
   "cell_type": "code",
   "execution_count": 180,
   "metadata": {},
   "outputs": [
    {
     "name": "stdout",
     "output_type": "stream",
     "text": [
      "Some random Text\n"
     ]
    },
    {
     "data": {
      "text/plain": [
       "T"
      ]
     },
     "execution_count": 180,
     "metadata": {},
     "output_type": "execute_result"
    }
   ],
   "source": [
    ";;; ---------- FILE I O ---------- \n",
    "\n",
    ";;; Write text to a file\n",
    ";;; A keyword symbol starts with a colon and it only means itself\n",
    "(with-open-file (my-stream\n",
    "                \"test.txt\"\n",
    "                :direction :output ; We are writing to the file\n",
    "                :if-exists :supersede) ; If the file exists delete it\n",
    "    (princ \"Some random Text\" my-stream))\n",
    "\n",
    ";;; Read data from a file\n",
    "(let ((in (open \"test.txt\" :if-does-not-exist nil)))\n",
    "   (when in\n",
    "      (loop for line = (read-line in nil)\n",
    "      while line do (format t \"~a~%\" line))\n",
    "      (close in)\n",
    "   )\n",
    ")"
   ]
  },
  {
   "cell_type": "code",
   "execution_count": null,
   "metadata": {
    "collapsed": true
   },
   "outputs": [],
   "source": []
  }
 ],
 "metadata": {
  "kernelspec": {
   "display_name": "SBCL Lisp",
   "language": "lisp",
   "name": "lisp"
  },
  "language_info": {
   "codemirror_mode": "text/x-common-lisp",
   "mimetype": "text/x-common-lisp",
   "name": "common-lisp",
   "pygments_lexer": "common-lisp",
   "version": "X3J13"
  }
 },
 "nbformat": 4,
 "nbformat_minor": 2
}
