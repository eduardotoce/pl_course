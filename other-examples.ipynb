{
 "cells": [
  {
   "cell_type": "code",
   "execution_count": 12,
   "metadata": {},
   "outputs": [
    {
     "name": "stderr",
     "output_type": "stream",
     "text": [
      "REDEFINITION-WITH-DEFUN: \n",
      "  redefining CL-JUPYTER-USER::LAST-ELEMENT-DEFUN in DEFUN\n",
      "REDEFINITION-WITH-DEFUN: \n",
      "  redefining CL-JUPYTER-USER::LAST-ELEMENT-DEFUN-1 in DEFUN\n",
      "REDEFINITION-WITH-DEFUN: \n",
      "  redefining CL-JUPYTER-USER::LAST-ELEMENT-LABELS in DEFUN\n",
      "REDEFINITION-WITH-DEFUN: \n",
      "  redefining CL-JUPYTER-USER::LAST-ELEMENT-LAST in DEFUN\n",
      "SIMPLE-STYLE-WARNING: \n",
      "  LAST-ELEMENT-MACRO is being redefined as a macro when it was previously assumed to be a function.\n"
     ]
    },
    {
     "data": {
      "text/plain": [
       "LAST-ELEMENT-MACRO"
      ]
     },
     "execution_count": 12,
     "metadata": {},
     "output_type": "execute_result"
    }
   ],
   "source": [
    ";;; Find the last element of a list\n",
    "(defun last-element-defun (list)\n",
    "    (last-element-defun-1 list nil)\n",
    "    \n",
    "    )\n",
    "(defun last-element-defun-1 (list res)\n",
    "    \n",
    "    (cond ((null (car list)) res)\n",
    "          (t (last-element-defun-1 (cdr list) (car list)))\n",
    "        )\n",
    "    )\n",
    "(defun last-element-labels (list)\n",
    "    (labels ((last-element-labels-1 (list res)\n",
    "                   (cond ((null (car list)) res)\n",
    "                         (t (last-element-defun-1 (cdr list) (car list)))\n",
    "                    ) \n",
    "                )\n",
    "            )\n",
    "            (last-element-labels-1 list nil)\n",
    "        )\n",
    "    \n",
    "    )\n",
    "\n",
    "(defun last-element-last (list)\n",
    "    (car (last list))\n",
    "    )\n",
    "(defmacro last-element-macro (list)\n",
    "    `(car (last ,list))\n",
    "    )"
   ]
  },
  {
   "cell_type": "code",
   "execution_count": 13,
   "metadata": {},
   "outputs": [
    {
     "name": "stdout",
     "output_type": "stream",
     "text": [
      "Last: K\n",
      "Last: K\n",
      "Last: K\n",
      "Last: K\n"
     ]
    },
    {
     "data": {
      "text/plain": [
       "NIL"
      ]
     },
     "execution_count": 13,
     "metadata": {},
     "output_type": "execute_result"
    }
   ],
   "source": [
    "(defvar list-test '(a b c d e f g h i j k))\n",
    "(format t \"Last: ~a~C\" (last-element-defun list-test) #\\newline)\n",
    "(format t \"Last: ~a~C\" (last-element-labels list-test ) #\\newline)\n",
    "(format t \"Last: ~a~C\" (last-element-last list-test) #\\newline)\n",
    "(format t \"Last: ~a~C\" (last-element-macro list-test) #\\newline)"
   ]
  },
  {
   "cell_type": "code",
   "execution_count": 106,
   "metadata": {},
   "outputs": [
    {
     "name": "stderr",
     "output_type": "stream",
     "text": [
      "REDEFINITION-WITH-DEFUN: \n",
      "  redefining CL-JUPYTER-USER::REVERSE-LIST in DEFUN\n",
      "REDEFINITION-WITH-DEFUN: \n",
      "  redefining CL-JUPYTER-USER::REVERSE-LIST-TAIL-RECURSION in DEFUN\n",
      "REDEFINITION-WITH-DEFUN: \n",
      "  redefining CL-JUPYTER-USER::REVERSE-ITER in DEFUN\n",
      "REDEFINITION-WITH-DEFUN: \n",
      "  redefining CL-JUPYTER-USER::REVERSE-DESTRUCT in DEFUN\n"
     ]
    },
    {
     "data": {
      "text/plain": [
       "NIL"
      ]
     },
     "execution_count": 106,
     "metadata": {},
     "output_type": "execute_result"
    }
   ],
   "source": [
    "(defun reverse-list (list)\n",
    "    (cond ((null list) list )\n",
    "          (t (append (reverse-list (cdr list)) (list (car list))))\n",
    "        )\n",
    ")\n",
    "\n",
    "(defun reverse-list-tail-recursion (list)\n",
    "    (labels ((reverse-list-1 (list res)\n",
    "                (cond ((null list) res)\n",
    "                      (t (reverse-list-1 (cdr list) (cons (car list) res))) \n",
    "                    )\n",
    "                )\n",
    "             )\n",
    "            (reverse-list-1 list nil)\n",
    "        )\n",
    "    )\n",
    "\n",
    "\n",
    "\n",
    "(defun reverse-iter (list )\n",
    "    (let (\n",
    "          (aux nil)\n",
    "          (len (length list))\n",
    "          )\n",
    "        (loop for i from 0 to (- len 1)\n",
    "           do (push (pop list) aux) ;(format t \"list at ~d: (~{~a~^, ~})~C\" i list #\\newline)\n",
    "        )\n",
    "         \n",
    "        aux\n",
    "         \n",
    "    )\n",
    ")\n",
    "\n",
    "(defun reverse-destruct (&rest l )\n",
    "    (let* ((list (if (null l) *list-global* (car l) ))\n",
    "          (aux nil)\n",
    "          (len (length list))\n",
    "          )\n",
    "         \n",
    "        (loop for i from 0 to (- len 1)\n",
    "           do (push (pop list) aux) ;(format t \"list at ~d: (~{~a~^, ~})~C\" i list #\\newline)\n",
    "        )\n",
    "         \n",
    "        (setq *list-global* aux)\n",
    "         \n",
    "    )\n",
    ")\n",
    "\n"
   ]
  },
  {
   "cell_type": "code",
   "execution_count": 31,
   "metadata": {},
   "outputs": [
    {
     "name": "stdout",
     "output_type": "stream",
     "text": [
      "reverse list: (K, J, I, H, G, F, E, D, C, B, A)\n"
     ]
    },
    {
     "name": "stderr",
     "output_type": "stream",
     "text": [
      "SIMPLE-WARNING: \n",
      "REVERSE-LIST is already TRACE'd, untracing it first.\n"
     ]
    },
    {
     "data": {
      "text/plain": [
       "NIL"
      ]
     },
     "execution_count": 31,
     "metadata": {},
     "output_type": "execute_result"
    }
   ],
   "source": [
    "(defvar list-test '(a b c d e f g h i j k))\n",
    "(trace reverse-list)\n",
    "(format t \"reverse list: (~{~a~^, ~})~C\" (reverse-list list-test) #\\newline)\n",
    "\n"
   ]
  },
  {
   "cell_type": "code",
   "execution_count": 41,
   "metadata": {},
   "outputs": [
    {
     "name": "stdout",
     "output_type": "stream",
     "text": [
      "reverse  list: (K, J, I, H, G, F, E, D, C, B, A)\n",
      "original list: (A, B, C, D, E, F, G, H, I, J, K)\n"
     ]
    },
    {
     "name": "stderr",
     "output_type": "stream",
     "text": [
      "SIMPLE-WARNING: \n",
      "REVERSE-LIST-TAIL-RECURSION is already TRACE'd, untracing it first.\n"
     ]
    },
    {
     "data": {
      "text/plain": [
       "NIL"
      ]
     },
     "execution_count": 41,
     "metadata": {},
     "output_type": "execute_result"
    }
   ],
   "source": [
    "(defvar list-test '(a b c d e f g h i j k))\n",
    "(trace reverse-list-tail-recursion)\n",
    "(format t \"reverse  list: (~{~a~^, ~})~C\" (reverse-list-tail-recursion list-test) #\\newline)\n",
    "(format t \"original list: (~{~a~^, ~})~C\" list-test #\\newline)"
   ]
  },
  {
   "cell_type": "code",
   "execution_count": 107,
   "metadata": {},
   "outputs": [
    {
     "name": "stdout",
     "output_type": "stream",
     "text": [
      "iteration:\n",
      "reverse  list: (K, J, I, H, G, F, E, D, C, B, A)\n",
      "original list: (A, B, C, D, E, F, G, H, I, J, K)\n",
      "destruct:\n",
      "reverse  list: (10, 9, 8, 7, 6, 5, 4, 3, 2, 1)\n",
      "reverse  list: (K, J, I, H, G, F, E, D, C, B, A)\n",
      "original list: (K, J, I, H, G, F, E, D, C, B, A)\n",
      "flet:\n",
      "reverse  list: (K, J, I, H, G, F, E, D, C, B, A)\n"
     ]
    },
    {
     "name": "stderr",
     "output_type": "stream",
     "text": [
      "SIMPLE-WARNING: \n",
      "REVERSE-DESTRUCT is already TRACE'd, untracing it first.\n",
      "TYPE-ERROR: \n",
      "  #<TYPE-ERROR expected-type: LIST datum: A>\n"
     ]
    },
    {
     "data": {
      "text/plain": [
       "NIL"
      ]
     },
     "execution_count": 107,
     "metadata": {},
     "output_type": "execute_result"
    }
   ],
   "source": [
    "(defvar *list-global*)\n",
    "(setf *list-global* '(1 2 3 4 5 6 7 8 9 10))\n",
    "(let (\n",
    "      (list-test '(a b c d e f g h i j k))\n",
    "      )\n",
    "      (trace reverse-destruct)\n",
    ";; (reverse-destruct list-test)\n",
    "      (format t \"iteration:~C\" #\\newline)\n",
    "      (format t \"reverse  list: (~{~a~^, ~})~C\" (reverse-iter list-test) #\\newline)\n",
    "      (format t \"original list: (~{~a~^, ~})~C\" list-test #\\newline)\n",
    "      (format t \"destruct:~C\" #\\newline)\n",
    "      (format t \"reverse  list: (~{~a~^, ~})~C\" (reverse-destruct ) #\\newline)\n",
    "      (format t \"reverse  list: (~{~a~^, ~})~C\" (reverse-destruct list-test) #\\newline)\n",
    "      (format t \"original list: (~{~a~^, ~})~C\" *list-global* #\\newline)\n",
    "      (format t \"flet:~C\" #\\newline)\n",
    "      (format t \"reverse  list: (~{~a~^, ~})~C\" (reverse-list-tail-recursion list-test) #\\newline)\n",
    "      (format t \"reverse  list: (~{~a~^, ~})~C\" (reverse-list-tail-recursion 'A) #\\newline)\n",
    "     )"
   ]
  },
  {
   "cell_type": "code",
   "execution_count": 91,
   "metadata": {},
   "outputs": [
    {
     "name": "stdout",
     "output_type": "stream",
     "text": [
      "\n",
      "55 \n",
      "55 "
     ]
    },
    {
     "data": {
      "text/plain": [
       "55"
      ]
     },
     "execution_count": 91,
     "metadata": {},
     "output_type": "execute_result"
    }
   ],
   "source": [
    "(print (+ 1 2 3 4 5 6 7 8 9 10))\n",
    ";; (+ 1 2 3 4 5 6 '(7 8 9 10)) ;TYPE-ERROR:   #<TYPE-ERROR expected-type: NUMBER datum: (7 8 9 10)>\n",
    "(print (apply #'+ 1 2 3 4 5 6 '(7 8 9 10)))"
   ]
  },
  {
   "cell_type": "code",
   "execution_count": 35,
   "metadata": {},
   "outputs": [
    {
     "data": {
      "text/plain": [
       "DISTANCE"
      ]
     },
     "execution_count": 35,
     "metadata": {},
     "output_type": "execute_result"
    }
   ],
   "source": [
    "(defun distance (x1 y1 x2 y2)\n",
    "    (sqrt (+ (expt (- x1 x2) 2) (expt (- y1 y2) 2))))"
   ]
  },
  {
   "cell_type": "code",
   "execution_count": 36,
   "metadata": {},
   "outputs": [
    {
     "data": {
      "text/plain": [
       "1.4142135"
      ]
     },
     "execution_count": 36,
     "metadata": {},
     "output_type": "execute_result"
    }
   ],
   "source": [
    "(distance 0 0 1 1)"
   ]
  },
  {
   "cell_type": "code",
   "execution_count": 39,
   "metadata": {},
   "outputs": [
    {
     "data": {
      "text/plain": [
       "(1.4142135 2.828427 4.2426405)"
      ]
     },
     "execution_count": 39,
     "metadata": {},
     "output_type": "execute_result"
    }
   ],
   "source": [
    "(mapcar #'distance '(0 0 0) '(0 0 0) '(1 2 3) '(1 2 3))\n"
   ]
  },
  {
   "cell_type": "code",
   "execution_count": 96,
   "metadata": {},
   "outputs": [
    {
     "name": "stdout",
     "output_type": "stream",
     "text": [
      "\n",
      "(1.4142135 2.828427 4.2426405) "
     ]
    },
    {
     "data": {
      "text/plain": [
       "(1.4142135 2.828427 4.2426405)"
      ]
     },
     "execution_count": 96,
     "metadata": {},
     "output_type": "execute_result"
    }
   ],
   "source": [
    "(print \n",
    " (mapcar (function (lambda (x1 y1 x2 y2) \n",
    "                          (sqrt (+ (expt (- x1 x2) 2) (expt (- y1 y2) 2))) ) ) \n",
    "        '(0 0 0) '(0 0 0) '(1 2 3) '(1 2 3)) )\n",
    "\n",
    "(mapcar #'(lambda (x1 y1 x2 y2) \n",
    "                          (sqrt (+ (expt (- x1 x2) 2) (expt (- y1 y2) 2))) )  \n",
    "        '(0 0 0) '(0 0 0) '(1 2 3) '(1 2 3))"
   ]
  },
  {
   "cell_type": "code",
   "execution_count": null,
   "metadata": {},
   "outputs": [],
   "source": []
  },
  {
   "cell_type": "code",
   "execution_count": null,
   "metadata": {},
   "outputs": [],
   "source": []
  }
 ],
 "metadata": {
  "kernelspec": {
   "display_name": "SBCL Lisp",
   "language": "lisp",
   "name": "lisp"
  },
  "language_info": {
   "codemirror_mode": "text/x-common-lisp",
   "mimetype": "text/x-common-lisp",
   "name": "common-lisp",
   "pygments_lexer": "common-lisp",
   "version": "X3J13"
  }
 },
 "nbformat": 4,
 "nbformat_minor": 2
}
