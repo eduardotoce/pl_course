{
 "cells": [
  {
   "cell_type": "code",
   "execution_count": 16,
   "metadata": {},
   "outputs": [
    {
     "name": "stderr",
     "output_type": "stream",
     "text": [
      "REDEFINITION-WITH-DEFUN: \n",
      "  redefining CL-JUPYTER-USER::ELEMENT-AT in DEFUN\n",
      "\n",
      "REDEFINITION-WITH-DEFUN: \n",
      "  redefining CL-JUPYTER-USER::ELEMENT-AT-1 in DEFUN\n"
     ]
    },
    {
     "data": {
      "text/plain": [
       "NIL"
      ]
     },
     "execution_count": 16,
     "metadata": {},
     "output_type": "execute_result"
    }
   ],
   "source": [
    ";;; P03\n",
    "\n",
    "(defun element-at (li at)\n",
    "    (element-at-1 li at 0)\n",
    "    )\n",
    "(defun element-at-1 (li at i)\n",
    "    ;(= at i)\n",
    "    (if (= at i)\n",
    "        (car li)\n",
    "        (element-at-1 (cdr li) at (+ i 1) )\n",
    "    )\n",
    ")\n",
    "(element-at '(a b c d e) 13)"
   ]
  },
  {
   "cell_type": "code",
   "execution_count": 19,
   "metadata": {},
   "outputs": [
    {
     "name": "stderr",
     "output_type": "stream",
     "text": [
      "REDEFINITION-WITH-DEFUN: \n",
      "  redefining CL-JUPYTER-USER::LEN_LIST in DEFUN\n",
      "\n",
      "REDEFINITION-WITH-DEFUN: \n",
      "  redefining CL-JUPYTER-USER::LEN-LIST-1 in DEFUN\n"
     ]
    },
    {
     "data": {
      "text/plain": [
       "5"
      ]
     },
     "execution_count": 19,
     "metadata": {},
     "output_type": "execute_result"
    }
   ],
   "source": [
    ";;; P04\n",
    "\n",
    "(defun len_list (li) \n",
    "    (len-list-1 li 0 )\n",
    ")\n",
    "(defun len-list-1 (li i)\n",
    "    (if (null li)\n",
    "        i\n",
    "        (len-list-1 (cdr li) (+ i 1))\n",
    "    )\n",
    ")\n",
    "(len_list '(a b c d e) )"
   ]
  },
  {
   "cell_type": "code",
   "execution_count": 43,
   "metadata": {},
   "outputs": [
    {
     "name": "stderr",
     "output_type": "stream",
     "text": [
      "REDEFINITION-WITH-DEFUN: \n",
      "  redefining CL-JUPYTER-USER::REV-LIST-GARY in DEFUN\n",
      "\n",
      "REDEFINITION-WITH-DEFUN: \n",
      "  redefining CL-JUPYTER-USER::REV-LIST-GARY-1 in DEFUN\n"
     ]
    },
    {
     "data": {
      "text/plain": [
       "(E D C B A)"
      ]
     },
     "execution_count": 43,
     "metadata": {},
     "output_type": "execute_result"
    }
   ],
   "source": [
    ";;; P05\n",
    "(defun rev-list-gary (li)\n",
    "    (rev-list-gary-1 li '() )\n",
    ")\n",
    "\n",
    "(defun rev-list-gary-1 (old new)\n",
    "    ;(print old)\n",
    "    (if (null old)\n",
    "        new\n",
    "         ( rev-list-gary-1 (cdr old) ( cons (car old) new)  )    \n",
    "    )\n",
    ")\n",
    ";(print (cons 1 2) )\n",
    "(rev-list-gary '(a b c d e))"
   ]
  },
  {
   "cell_type": "code",
   "execution_count": 45,
   "metadata": {},
   "outputs": [
    {
     "name": "stderr",
     "output_type": "stream",
     "text": [
      "REDEFINITION-WITH-DEFUN: \n",
      "  redefining CL-JUPYTER-USER::ES-PALINDROMO in DEFUN\n"
     ]
    },
    {
     "data": {
      "text/plain": [
       "T"
      ]
     },
     "execution_count": 45,
     "metadata": {},
     "output_type": "execute_result"
    }
   ],
   "source": [
    "(defun es-palindromo (li)\n",
    "    (equal li (rev-list-gary li ))\n",
    "    )\n",
    "\n",
    "(es-palindromo '(a b c b a))"
   ]
  },
  {
   "cell_type": "code",
   "execution_count": 192,
   "metadata": {},
   "outputs": [
    {
     "name": "stderr",
     "output_type": "stream",
     "text": [
      "REDEFINITION-WITH-DEFUN: \n",
      "  redefining CL-JUPYTER-USER::MY-FLATTEN in DEFUN\n",
      "\n",
      "SIMPLE-WARNING: \n",
      "undefined variable: AUX\n",
      "\n",
      "REDEFINITION-WITH-DEFUN: \n",
      "  redefining CL-JUPYTER-USER::MY-FLATTEN-1 in DEFUN\n"
     ]
    },
    {
     "data": {
      "text/plain": [
       "(A B C D E)"
      ]
     },
     "execution_count": 192,
     "metadata": {},
     "output_type": "execute_result"
    }
   ],
   "source": [
    ";;; P07\n",
    "(defun my-flatten (li)\n",
    "    (my-flatten-1 (car li) (cdr li) '() )\n",
    ")\n",
    "\n",
    "(defun my-flatten-1 (head tail new)\n",
    "    ;(print new)\n",
    "    (if (atom head)\n",
    "        (setq aux (cons head new))\n",
    "        (my-flatten-1 (car head) (cdr head) new )\n",
    "    )\n",
    "    (if (null tail)\n",
    "        (rev-list-gary aux)\n",
    "        (my-flatten-1 (car tail) (cdr tail) aux )\n",
    "    )\n",
    ")\n",
    "\n",
    ";(print ( atom '(a) ) )\n",
    "(my-flatten '(a (b (c d) e)))"
   ]
  },
  {
   "cell_type": "code",
   "execution_count": 134,
   "metadata": {
    "scrolled": false
   },
   "outputs": [
    {
     "name": "stderr",
     "output_type": "stream",
     "text": [
      "REDEFINITION-WITH-DEFUN: \n",
      "  redefining CL-JUPYTER-USER::COMPRESS-GARY in DEFUN\n",
      "\n",
      "REDEFINITION-WITH-DEFUN: \n",
      "  redefining CL-JUPYTER-USER::COMPRESS-GARY-1 in DEFUN\n"
     ]
    },
    {
     "data": {
      "text/plain": [
       "(A B C A D E)"
      ]
     },
     "execution_count": 134,
     "metadata": {},
     "output_type": "execute_result"
    }
   ],
   "source": [
    ";;; P08\n",
    "(defun compress-gary (li)\n",
    "    (compress-gary-1 (cdr li) (car li) '() )\n",
    ")\n",
    "(defun compress-gary-1 (li last new)\n",
    "    ;(print last)\n",
    "    (cond   \n",
    "            ( (null (car li) ) (rev-list-gary (cons last new ) ))\n",
    "            ( (eql last (car li)) (compress-gary-1 (cdr li) (car li) new  ) )\n",
    "            ;( (eql (last (car li))) (print \"other? \")) ;(compress-gary-1 (cdr li) (car li) new ))\n",
    "            (T (compress-gary-1 (cdr li) (car li) (cons last new ) ))\n",
    "    )\n",
    ")\n",
    "\n",
    "(compress-gary '(a a a a b c c a a d e e e e))"
   ]
  },
  {
   "cell_type": "code",
   "execution_count": 150,
   "metadata": {},
   "outputs": [
    {
     "name": "stderr",
     "output_type": "stream",
     "text": [
      "REDEFINITION-WITH-DEFUN: \n",
      "  redefining CL-JUPYTER-USER::PACK-REP in DEFUN\n",
      "\n",
      "REDEFINITION-WITH-DEFUN: \n",
      "  redefining CL-JUPYTER-USER::PACK-REP-1 in DEFUN\n"
     ]
    },
    {
     "data": {
      "text/plain": [
       "((A A A A) (B) (C C) (A A) (D) (E E E E))"
      ]
     },
     "execution_count": 150,
     "metadata": {},
     "output_type": "execute_result"
    }
   ],
   "source": [
    ";;; P09\n",
    "(defun pack-rep (li)\n",
    "    (pack-rep-1 li '() '())\n",
    ")\n",
    "\n",
    "(defun pack-rep-1 (li res sub-res)\n",
    "    \n",
    "    (cond   ( (null (car li)) ( rev-list-gary res ) )\n",
    "            ( (eql (first li) (second li)) (pack-rep-1 (cdr li) res (cons (first li) sub-res) ) )\n",
    "            ( t  (pack-rep-1 (cdr li) (cons (cons (first li) sub-res ) res) '() ) )\n",
    "    )\n",
    ")\n",
    "\n",
    "(pack-rep '(a a a a b c c a a d e e e e))"
   ]
  },
  {
   "cell_type": "code",
   "execution_count": 189,
   "metadata": {},
   "outputs": [
    {
     "name": "stderr",
     "output_type": "stream",
     "text": [
      "REDEFINITION-WITH-DEFUN: \n",
      "  redefining CL-JUPYTER-USER::ENCODE in DEFUN\n",
      "\n",
      "REDEFINITION-WITH-DEFUN: \n",
      "  redefining CL-JUPYTER-USER::ENCODE-1 in DEFUN\n"
     ]
    },
    {
     "data": {
      "text/plain": [
       "((4 . A) (1 . B) (2 . C) (2 . A) (1 . D) (4 . E))"
      ]
     },
     "execution_count": 189,
     "metadata": {},
     "output_type": "execute_result"
    }
   ],
   "source": [
    ";;; P10\n",
    "(defun encode (li)\n",
    "    (encode-1 li '() 1)\n",
    ")\n",
    "\n",
    "(defun encode-1 (li res val)\n",
    "    \n",
    "    (cond   ( (null (car li)) ( rev-list-gary res ) )\n",
    "            ( (eql (first li) (second li)) (encode-1 (cdr li) res (+ val 1) ) )\n",
    "            ( t  (encode-1 (cdr li) (cons (cons val (first li)) res) 1 ) )\n",
    "    )\n",
    ")\n",
    "\n",
    "(encode '(a a a a b c c a a d e e e e))"
   ]
  },
  {
   "cell_type": "code",
   "execution_count": 193,
   "metadata": {},
   "outputs": [
    {
     "name": "stderr",
     "output_type": "stream",
     "text": [
      "REDEFINITION-WITH-DEFUN: \n",
      "  redefining CL-JUPYTER-USER::DECODE in DEFUN\n",
      "\n",
      "REDEFINITION-WITH-DEFUN: \n",
      "  redefining CL-JUPYTER-USER::DECODE-1 in DEFUN\n",
      "\n",
      "REDEFINITION-WITH-DEFUN: \n",
      "  redefining CL-JUPYTER-USER::GET-VAL in DEFUN\n"
     ]
    },
    {
     "data": {
      "text/plain": [
       "(A A A A B C C A A D E E E E)"
      ]
     },
     "execution_count": 193,
     "metadata": {},
     "output_type": "execute_result"
    }
   ],
   "source": [
    ";;; P12\n",
    "\n",
    "(defun decode (li)\n",
    "    (decode-1 li '() (get-val (car li)) '() )\n",
    ")\n",
    "\n",
    "(defun decode-1 (li res val sub-res)\n",
    "    (cond   ( (null (car li )) (my-flatten (rev-list-gary res) ) )\n",
    "            ( (atom (first li)) (decode-1 (cdr li) (cons (first li) res) (get-val (second li) ) '() ) )\n",
    "            ( (eql val 0) (decode-1 (cdr li) (cons sub-res res ) (get-val (car li) ) '()  ) )\n",
    "            ( (> val 0 ) (decode-1 li res (- val 1) (cons (cadar li) sub-res )  ) )\n",
    "            ( t (print \"Error!!\"))\n",
    "    )\n",
    ")\n",
    "\n",
    "(defun get-val (e)\n",
    "    ;(print (atom e))\n",
    "    (cond   ( (atom e) -1 ) \n",
    "            (t (car e) )\n",
    "    )\n",
    ")\n",
    "\n",
    ";(get-val '(4 A))\n",
    ";(get-val  (car '(B)))\n",
    ";(car '((4 A) B (2 C) (2 A) D (4 E)))\n",
    "(decode '((4 A) B (2 C) (2 A) D (4 E)))"
   ]
  },
  {
   "cell_type": "code",
   "execution_count": 152,
   "metadata": {},
   "outputs": [
    {
     "name": "stderr",
     "output_type": "stream",
     "text": [
      "REDEFINITION-WITH-DEFUN: \n",
      "  redefining CL-JUPYTER-USER::ENCODE-MOD in DEFUN\n",
      "\n",
      "REDEFINITION-WITH-DEFUN: \n",
      "  redefining CL-JUPYTER-USER::ENCODE-MOD-1 in DEFUN\n"
     ]
    },
    {
     "data": {
      "text/plain": [
       "((4 . A) B (2 . C) (2 . A) D (4 . E))"
      ]
     },
     "execution_count": 152,
     "metadata": {},
     "output_type": "execute_result"
    }
   ],
   "source": [
    ";;; P13\n",
    "(defun encode-mod (li)\n",
    "    (encode-mod-1 li '() 1)\n",
    ")\n",
    "\n",
    "(defun encode-mod-1 (li res val)\n",
    "    \n",
    "    (cond   ( (null (car li)) ( rev-list-gary res ) )\n",
    "            ( (eql (first li) (second li)) (encode-mod-1 (cdr li) res (+ val 1) ) )\n",
    "            ( (eql val 1) (encode-mod-1 (cdr li) (cons (first li) res) 1  ))\n",
    "            ( t  (encode-mod-1 (cdr li) (cons (cons val (first li)) res) 1 ) )\n",
    "    )\n",
    ")\n",
    "\n",
    "(encode-mod '(a a a a b c c a a d e e e e))"
   ]
  },
  {
   "cell_type": "code",
   "execution_count": 205,
   "metadata": {},
   "outputs": [
    {
     "name": "stderr",
     "output_type": "stream",
     "text": [
      "REDEFINITION-WITH-DEFUN: \n",
      "  redefining CL-JUPYTER-USER::DUPLI in DEFUN\n",
      "\n",
      "REDEFINITION-WITH-DEFUN: \n",
      "  redefining CL-JUPYTER-USER::DUPLI-1 in DEFUN\n"
     ]
    },
    {
     "data": {
      "text/plain": [
       "(A A B B C C C C D D)"
      ]
     },
     "execution_count": 205,
     "metadata": {},
     "output_type": "execute_result"
    }
   ],
   "source": [
    ";;; P14\n",
    "(defun dupli (li)\n",
    "    (dupli-1 li '())\n",
    ")\n",
    "\n",
    "(defun dupli-1 (li res)\n",
    "    (cond   ( (null (car li))  (rev-list-gary res) )\n",
    "            (t (dupli-1 (cdr li) (cons (car li) (cons (car li) res) ) ) )\n",
    "    )\n",
    ")\n",
    "\n",
    "(dupli '(a b c c d))"
   ]
  },
  {
   "cell_type": "code",
   "execution_count": 224,
   "metadata": {},
   "outputs": [
    {
     "name": "stderr",
     "output_type": "stream",
     "text": [
      "REDEFINITION-WITH-DEFUN: \n",
      "  redefining CL-JUPYTER-USER::REPLI in DEFUN\n",
      "\n",
      "REDEFINITION-WITH-DEFUN: \n",
      "  redefining CL-JUPYTER-USER::REPLI-1 in DEFUN\n"
     ]
    },
    {
     "data": {
      "text/plain": [
       "(A A A B B B C C C)"
      ]
     },
     "execution_count": 224,
     "metadata": {},
     "output_type": "execute_result"
    }
   ],
   "source": [
    ";;; P15\n",
    "(defun repli (li val)\n",
    "    (repli-1 li val '() val) \n",
    ")\n",
    "(defun repli-1 (li cont res val)\n",
    "    (cond   ( (null (car li)) res)\n",
    "            ( (> cont 0) (repli-1 li (- cont 1) (append res (cons (car li) '())) val) ) \n",
    "            ( (= cont 0) (repli-1 (cdr li) val res val ))\n",
    "            (t (print \"error\"))\n",
    "        \n",
    "    )\n",
    "    \n",
    ")\n",
    "\n",
    ";(append '(z a)  '(b c d))\n",
    " ;(append '(b c d) 'a)\n",
    "(repli '(a b c) 3)"
   ]
  },
  {
   "cell_type": "code",
   "execution_count": 229,
   "metadata": {},
   "outputs": [
    {
     "name": "stderr",
     "output_type": "stream",
     "text": [
      "REDEFINITION-WITH-DEFUN: \n",
      "  redefining CL-JUPYTER-USER::DROP in DEFUN\n",
      "\n",
      "REDEFINITION-WITH-DEFUN: \n",
      "  redefining CL-JUPYTER-USER::DROP-1 in DEFUN\n"
     ]
    },
    {
     "data": {
      "text/plain": [
       "(A B D E F G H I K)"
      ]
     },
     "execution_count": 229,
     "metadata": {},
     "output_type": "execute_result"
    }
   ],
   "source": [
    ";;; P16\n",
    "\n",
    "(defun drop (li index)\n",
    "   (drop-1 li index '() 1)\n",
    ")\n",
    "\n",
    "(defun drop-1 (li index res i)\n",
    "    (cond   ( (null (car li) ) res)\n",
    "            ( (< i index) (drop-1 (cdr li) index (append res (cons (car li) '())) (+ i 1)) )\n",
    "            ( (= i index) (drop-1 (cdr li) index res (+ i 1)) )\n",
    "            ( t (drop-1 (cdr li) index (append res (cons (car li) '())) (+ i 1)) )\n",
    "    )\n",
    ")\n",
    "\n",
    "(drop '(a b c d e f g h i k) 3)"
   ]
  },
  {
   "cell_type": "code",
   "execution_count": 249,
   "metadata": {},
   "outputs": [
    {
     "name": "stderr",
     "output_type": "stream",
     "text": [
      "REDEFINITION-WITH-DEFUN: \n",
      "  redefining CL-JUPYTER-USER::SPLIT in DEFUN\n",
      "\n",
      "REDEFINITION-WITH-DEFUN: \n",
      "  redefining CL-JUPYTER-USER::SPLIT-1 in DEFUN\n"
     ]
    },
    {
     "data": {
      "text/plain": [
       "((A B C) (D E F G H I K))"
      ]
     },
     "execution_count": 249,
     "metadata": {},
     "output_type": "execute_result"
    }
   ],
   "source": [
    ";;; P17\n",
    "(defun split (li index)\n",
    "    (split-1 li index '() 1)\n",
    ")\n",
    "(defun split-1 (li index res i)\n",
    "    (cond   \n",
    "            ( (<= i index) (split-1 (cdr li) index (cons (append (car res) (cons (car li) '())) '()) (+ i 1)) )\n",
    "            ( t  (append res (cons li '()) ) )\n",
    "    )\n",
    "    \n",
    "    )\n",
    "\n",
    "\n",
    "(split '(a b c d e f g h i k) 3)"
   ]
  },
  {
   "cell_type": "code",
   "execution_count": 254,
   "metadata": {},
   "outputs": [
    {
     "name": "stderr",
     "output_type": "stream",
     "text": [
      "REDEFINITION-WITH-DEFUN: \n",
      "  redefining CL-JUPYTER-USER::SLICE in DEFUN\n",
      "\n",
      "REDEFINITION-WITH-DEFUN: \n",
      "  redefining CL-JUPYTER-USER::SLICE-1 in DEFUN\n"
     ]
    },
    {
     "data": {
      "text/plain": [
       "(C D E F G)"
      ]
     },
     "execution_count": 254,
     "metadata": {},
     "output_type": "execute_result"
    }
   ],
   "source": [
    ";;; P18\n",
    "(defun slice (li min max) \n",
    "    (slice-1 li min max 1 '() )\n",
    ")\n",
    "\n",
    "(defun slice-1 (li min max i res)\n",
    "    (cond   ( (< i min )(slice-1 (cdr li) min max (+ i 1) res))\n",
    "            ( (> i max ) res )\n",
    "            (t (slice-1 (cdr li) min max (+ i 1) (append res (cons (car li) '() ))) )\n",
    "              \n",
    "    )\n",
    "    \n",
    ")\n",
    "\n",
    "\n",
    "(slice '(a b c d e f g h i k) 3 7)\n",
    ";(C D E F G)"
   ]
  },
  {
   "cell_type": "code",
   "execution_count": null,
   "metadata": {},
   "outputs": [],
   "source": [
    ";;;P19\n",
    "(defun rotate (li val)\n",
    "    (rotate-1 li val)\n",
    ")\n",
    "\n",
    "(defun rotate-1 (li val)\n",
    "    (cond ((>= val 0) (setq aux (split li val) ) )\n",
    "            (t (setq aux (split li (+ (length li) val ))) )\n",
    "        \n",
    "    )\n",
    "    \n",
    "    (append (cadr aux) (car aux))\n",
    "    \n",
    ")\n",
    "\n",
    ";(rotate '(a b c d e f g h) 3) \n",
    ";(D E F G H A B C)\n",
    "\n",
    "(rotate '(a b c d e f g h) -2)\n",
    ";(G H A B C D E F)"
   ]
  },
  {
   "cell_type": "code",
   "execution_count": null,
   "metadata": {},
   "outputs": [],
   "source": []
  }
 ],
 "metadata": {
  "kernelspec": {
   "display_name": "SBCL Lisp",
   "language": "lisp",
   "name": "lisp"
  },
  "language_info": {
   "codemirror_mode": "text/x-common-lisp",
   "mimetype": "text/x-common-lisp",
   "name": "common-lisp",
   "pygments_lexer": "common-lisp",
   "version": "X3J13"
  }
 },
 "nbformat": 4,
 "nbformat_minor": 2
}
